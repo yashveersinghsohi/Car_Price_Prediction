{
  "nbformat": 4,
  "nbformat_minor": 0,
  "metadata": {
    "colab": {
      "name": "CarPrice_00_Preliminary_EDA.ipynb",
      "provenance": [],
      "collapsed_sections": [],
      "authorship_tag": "ABX9TyPBxfTOO8o21jehpNBD0Uqk",
      "include_colab_link": true
    },
    "kernelspec": {
      "name": "python3",
      "display_name": "Python 3"
    },
    "language_info": {
      "name": "python"
    }
  },
  "cells": [
    {
      "cell_type": "markdown",
      "metadata": {
        "id": "view-in-github",
        "colab_type": "text"
      },
      "source": [
        "<a href=\"https://colab.research.google.com/github/yashveersinghsohi/Car_Price_Prediction/blob/master/EDA/CarPrice_00_Preliminary_EDA.ipynb\" target=\"_parent\"><img src=\"https://colab.research.google.com/assets/colab-badge.svg\" alt=\"Open In Colab\"/></a>"
      ]
    },
    {
      "cell_type": "markdown",
      "metadata": {
        "id": "q-hnPo6jWTKL"
      },
      "source": [
        "# Importing Packages"
      ]
    },
    {
      "cell_type": "code",
      "metadata": {
        "id": "0DAJd_WyWU4a"
      },
      "source": [
        "import pandas as pd\n",
        "import numpy as np\n",
        "import matplotlib.pyplot as plt\n",
        "import seaborn as sns\n",
        "from sklearn.model_selection import train_test_split\n",
        "from matplotlib.ticker import PercentFormatter"
      ],
      "execution_count": 1,
      "outputs": []
    },
    {
      "cell_type": "markdown",
      "metadata": {
        "id": "z-TVRpTHWY_4"
      },
      "source": [
        "# Data"
      ]
    },
    {
      "cell_type": "code",
      "metadata": {
        "id": "4plT2pPPZc06"
      },
      "source": [
        "root_dir = \"https://raw.githubusercontent.com/yashveersinghsohi/Car_Price_Prediction/master/Data/\"\n",
        "data_path = root_dir + \"train.csv\"\n",
        "data = pd.read_csv(data_path)"
      ],
      "execution_count": 2,
      "outputs": []
    },
    {
      "cell_type": "code",
      "metadata": {
        "id": "weSO6uD96U5g",
        "outputId": "9b23d525-6f5b-4646-9369-9810ca407982",
        "colab": {
          "base_uri": "https://localhost:8080/",
          "height": 0
        }
      },
      "source": [
        "data.head()"
      ],
      "execution_count": 3,
      "outputs": [
        {
          "output_type": "execute_result",
          "data": {
            "text/html": [
              "<div>\n",
              "<style scoped>\n",
              "    .dataframe tbody tr th:only-of-type {\n",
              "        vertical-align: middle;\n",
              "    }\n",
              "\n",
              "    .dataframe tbody tr th {\n",
              "        vertical-align: top;\n",
              "    }\n",
              "\n",
              "    .dataframe thead th {\n",
              "        text-align: right;\n",
              "    }\n",
              "</style>\n",
              "<table border=\"1\" class=\"dataframe\">\n",
              "  <thead>\n",
              "    <tr style=\"text-align: right;\">\n",
              "      <th></th>\n",
              "      <th>ID</th>\n",
              "      <th>Price</th>\n",
              "      <th>Levy</th>\n",
              "      <th>Manufacturer</th>\n",
              "      <th>Model</th>\n",
              "      <th>Prod. year</th>\n",
              "      <th>Category</th>\n",
              "      <th>Leather interior</th>\n",
              "      <th>Fuel type</th>\n",
              "      <th>Engine volume</th>\n",
              "      <th>Mileage</th>\n",
              "      <th>Cylinders</th>\n",
              "      <th>Gear box type</th>\n",
              "      <th>Drive wheels</th>\n",
              "      <th>Doors</th>\n",
              "      <th>Wheel</th>\n",
              "      <th>Color</th>\n",
              "      <th>Airbags</th>\n",
              "    </tr>\n",
              "  </thead>\n",
              "  <tbody>\n",
              "    <tr>\n",
              "      <th>0</th>\n",
              "      <td>45654403</td>\n",
              "      <td>13328</td>\n",
              "      <td>1399</td>\n",
              "      <td>LEXUS</td>\n",
              "      <td>RX 450</td>\n",
              "      <td>2010</td>\n",
              "      <td>Jeep</td>\n",
              "      <td>Yes</td>\n",
              "      <td>Hybrid</td>\n",
              "      <td>3.5</td>\n",
              "      <td>186005 km</td>\n",
              "      <td>6.0</td>\n",
              "      <td>Automatic</td>\n",
              "      <td>4x4</td>\n",
              "      <td>04-May</td>\n",
              "      <td>Left wheel</td>\n",
              "      <td>Silver</td>\n",
              "      <td>12</td>\n",
              "    </tr>\n",
              "    <tr>\n",
              "      <th>1</th>\n",
              "      <td>44731507</td>\n",
              "      <td>16621</td>\n",
              "      <td>1018</td>\n",
              "      <td>CHEVROLET</td>\n",
              "      <td>Equinox</td>\n",
              "      <td>2011</td>\n",
              "      <td>Jeep</td>\n",
              "      <td>No</td>\n",
              "      <td>Petrol</td>\n",
              "      <td>3</td>\n",
              "      <td>192000 km</td>\n",
              "      <td>6.0</td>\n",
              "      <td>Tiptronic</td>\n",
              "      <td>4x4</td>\n",
              "      <td>04-May</td>\n",
              "      <td>Left wheel</td>\n",
              "      <td>Black</td>\n",
              "      <td>8</td>\n",
              "    </tr>\n",
              "    <tr>\n",
              "      <th>2</th>\n",
              "      <td>45774419</td>\n",
              "      <td>8467</td>\n",
              "      <td>-</td>\n",
              "      <td>HONDA</td>\n",
              "      <td>FIT</td>\n",
              "      <td>2006</td>\n",
              "      <td>Hatchback</td>\n",
              "      <td>No</td>\n",
              "      <td>Petrol</td>\n",
              "      <td>1.3</td>\n",
              "      <td>200000 km</td>\n",
              "      <td>4.0</td>\n",
              "      <td>Variator</td>\n",
              "      <td>Front</td>\n",
              "      <td>04-May</td>\n",
              "      <td>Right-hand drive</td>\n",
              "      <td>Black</td>\n",
              "      <td>2</td>\n",
              "    </tr>\n",
              "    <tr>\n",
              "      <th>3</th>\n",
              "      <td>45769185</td>\n",
              "      <td>3607</td>\n",
              "      <td>862</td>\n",
              "      <td>FORD</td>\n",
              "      <td>Escape</td>\n",
              "      <td>2011</td>\n",
              "      <td>Jeep</td>\n",
              "      <td>Yes</td>\n",
              "      <td>Hybrid</td>\n",
              "      <td>2.5</td>\n",
              "      <td>168966 km</td>\n",
              "      <td>4.0</td>\n",
              "      <td>Automatic</td>\n",
              "      <td>4x4</td>\n",
              "      <td>04-May</td>\n",
              "      <td>Left wheel</td>\n",
              "      <td>White</td>\n",
              "      <td>0</td>\n",
              "    </tr>\n",
              "    <tr>\n",
              "      <th>4</th>\n",
              "      <td>45809263</td>\n",
              "      <td>11726</td>\n",
              "      <td>446</td>\n",
              "      <td>HONDA</td>\n",
              "      <td>FIT</td>\n",
              "      <td>2014</td>\n",
              "      <td>Hatchback</td>\n",
              "      <td>Yes</td>\n",
              "      <td>Petrol</td>\n",
              "      <td>1.3</td>\n",
              "      <td>91901 km</td>\n",
              "      <td>4.0</td>\n",
              "      <td>Automatic</td>\n",
              "      <td>Front</td>\n",
              "      <td>04-May</td>\n",
              "      <td>Left wheel</td>\n",
              "      <td>Silver</td>\n",
              "      <td>4</td>\n",
              "    </tr>\n",
              "  </tbody>\n",
              "</table>\n",
              "</div>"
            ],
            "text/plain": [
              "         ID  Price  Levy  ...             Wheel   Color  Airbags\n",
              "0  45654403  13328  1399  ...        Left wheel  Silver       12\n",
              "1  44731507  16621  1018  ...        Left wheel   Black        8\n",
              "2  45774419   8467     -  ...  Right-hand drive   Black        2\n",
              "3  45769185   3607   862  ...        Left wheel   White        0\n",
              "4  45809263  11726   446  ...        Left wheel  Silver        4\n",
              "\n",
              "[5 rows x 18 columns]"
            ]
          },
          "metadata": {},
          "execution_count": 3
        }
      ]
    },
    {
      "cell_type": "markdown",
      "metadata": {
        "id": "Dv_bYVHnaIe3"
      },
      "source": [
        "# Preliminary EDA"
      ]
    },
    {
      "cell_type": "markdown",
      "metadata": {
        "id": "QUAbVfRuiMYS"
      },
      "source": [
        "## Data dimensions"
      ]
    },
    {
      "cell_type": "markdown",
      "metadata": {
        "id": "SIDwERHpau8_"
      },
      "source": [
        "Shape of dataframes"
      ]
    },
    {
      "cell_type": "code",
      "metadata": {
        "colab": {
          "base_uri": "https://localhost:8080/"
        },
        "id": "dNJicjRlaIOn",
        "outputId": "e2b2b554-a190-4d02-8bc6-2858ef0b9baa"
      },
      "source": [
        "data.shape"
      ],
      "execution_count": 4,
      "outputs": [
        {
          "output_type": "execute_result",
          "data": {
            "text/plain": [
              "(19237, 18)"
            ]
          },
          "metadata": {},
          "execution_count": 4
        }
      ]
    },
    {
      "cell_type": "markdown",
      "metadata": {
        "id": "GTmD4NIzayHl"
      },
      "source": [
        "Comparing column names"
      ]
    },
    {
      "cell_type": "code",
      "metadata": {
        "colab": {
          "base_uri": "https://localhost:8080/"
        },
        "id": "P-6TjFS9aIJ9",
        "outputId": "5d4fe9ec-8600-498f-e6bc-414b295d2a35"
      },
      "source": [
        "data.columns"
      ],
      "execution_count": 5,
      "outputs": [
        {
          "output_type": "execute_result",
          "data": {
            "text/plain": [
              "Index(['ID', 'Price', 'Levy', 'Manufacturer', 'Model', 'Prod. year',\n",
              "       'Category', 'Leather interior', 'Fuel type', 'Engine volume', 'Mileage',\n",
              "       'Cylinders', 'Gear box type', 'Drive wheels', 'Doors', 'Wheel', 'Color',\n",
              "       'Airbags'],\n",
              "      dtype='object')"
            ]
          },
          "metadata": {},
          "execution_count": 5
        }
      ]
    },
    {
      "cell_type": "markdown",
      "metadata": {
        "id": "3CrltZhxiQ2m"
      },
      "source": [
        "## Column Data Types"
      ]
    },
    {
      "cell_type": "markdown",
      "metadata": {
        "id": "kYeIUOuucwKd"
      },
      "source": [
        "Data types of columns"
      ]
    },
    {
      "cell_type": "code",
      "metadata": {
        "colab": {
          "base_uri": "https://localhost:8080/"
        },
        "id": "X30sTOg7cfRV",
        "outputId": "11c36332-a285-4af3-ad96-12986a5bbe74"
      },
      "source": [
        "data.info()"
      ],
      "execution_count": 6,
      "outputs": [
        {
          "output_type": "stream",
          "name": "stdout",
          "text": [
            "<class 'pandas.core.frame.DataFrame'>\n",
            "RangeIndex: 19237 entries, 0 to 19236\n",
            "Data columns (total 18 columns):\n",
            " #   Column            Non-Null Count  Dtype  \n",
            "---  ------            --------------  -----  \n",
            " 0   ID                19237 non-null  int64  \n",
            " 1   Price             19237 non-null  int64  \n",
            " 2   Levy              19237 non-null  object \n",
            " 3   Manufacturer      19237 non-null  object \n",
            " 4   Model             19237 non-null  object \n",
            " 5   Prod. year        19237 non-null  int64  \n",
            " 6   Category          19237 non-null  object \n",
            " 7   Leather interior  19237 non-null  object \n",
            " 8   Fuel type         19237 non-null  object \n",
            " 9   Engine volume     19237 non-null  object \n",
            " 10  Mileage           19237 non-null  object \n",
            " 11  Cylinders         19237 non-null  float64\n",
            " 12  Gear box type     19237 non-null  object \n",
            " 13  Drive wheels      19237 non-null  object \n",
            " 14  Doors             19237 non-null  object \n",
            " 15  Wheel             19237 non-null  object \n",
            " 16  Color             19237 non-null  object \n",
            " 17  Airbags           19237 non-null  int64  \n",
            "dtypes: float64(1), int64(4), object(13)\n",
            "memory usage: 2.6+ MB\n"
          ]
        }
      ]
    },
    {
      "cell_type": "markdown",
      "metadata": {
        "id": "yOVYA1sNeCxA"
      },
      "source": [
        "Numerical and Object data type columns."
      ]
    },
    {
      "cell_type": "code",
      "metadata": {
        "id": "_LVrm8EecfNF"
      },
      "source": [
        "num_features = [\"Prod. year\", \"Cylinders\", \"Airbags\"]\n",
        "obj_features = [\"Levy\", \"Manufacturer\", \"Model\", \n",
        "                \"Category\", \"Leather interior\", \n",
        "                \"Fuel type\", \"Engine volume\", \"Mileage\", \n",
        "                \"Gear box type\", \"Drive wheels\", \"Doors\", \n",
        "                \"Wheel\", \"Color\"]\n",
        "target_features = [\"Price\"]"
      ],
      "execution_count": 7,
      "outputs": []
    },
    {
      "cell_type": "markdown",
      "metadata": {
        "id": "QTaSz5k_6nDS"
      },
      "source": [
        "Description stats for Numerical data"
      ]
    },
    {
      "cell_type": "code",
      "metadata": {
        "colab": {
          "base_uri": "https://localhost:8080/",
          "height": 0
        },
        "id": "kpCZ42ofcfKy",
        "outputId": "5beeed3a-325a-4bc1-f60c-28748fb3dfa7"
      },
      "source": [
        "data[num_features].describe()"
      ],
      "execution_count": 8,
      "outputs": [
        {
          "output_type": "execute_result",
          "data": {
            "text/html": [
              "<div>\n",
              "<style scoped>\n",
              "    .dataframe tbody tr th:only-of-type {\n",
              "        vertical-align: middle;\n",
              "    }\n",
              "\n",
              "    .dataframe tbody tr th {\n",
              "        vertical-align: top;\n",
              "    }\n",
              "\n",
              "    .dataframe thead th {\n",
              "        text-align: right;\n",
              "    }\n",
              "</style>\n",
              "<table border=\"1\" class=\"dataframe\">\n",
              "  <thead>\n",
              "    <tr style=\"text-align: right;\">\n",
              "      <th></th>\n",
              "      <th>Prod. year</th>\n",
              "      <th>Cylinders</th>\n",
              "      <th>Airbags</th>\n",
              "    </tr>\n",
              "  </thead>\n",
              "  <tbody>\n",
              "    <tr>\n",
              "      <th>count</th>\n",
              "      <td>19237.000000</td>\n",
              "      <td>19237.000000</td>\n",
              "      <td>19237.000000</td>\n",
              "    </tr>\n",
              "    <tr>\n",
              "      <th>mean</th>\n",
              "      <td>2010.912824</td>\n",
              "      <td>4.582991</td>\n",
              "      <td>6.582627</td>\n",
              "    </tr>\n",
              "    <tr>\n",
              "      <th>std</th>\n",
              "      <td>5.668673</td>\n",
              "      <td>1.199933</td>\n",
              "      <td>4.320168</td>\n",
              "    </tr>\n",
              "    <tr>\n",
              "      <th>min</th>\n",
              "      <td>1939.000000</td>\n",
              "      <td>1.000000</td>\n",
              "      <td>0.000000</td>\n",
              "    </tr>\n",
              "    <tr>\n",
              "      <th>25%</th>\n",
              "      <td>2009.000000</td>\n",
              "      <td>4.000000</td>\n",
              "      <td>4.000000</td>\n",
              "    </tr>\n",
              "    <tr>\n",
              "      <th>50%</th>\n",
              "      <td>2012.000000</td>\n",
              "      <td>4.000000</td>\n",
              "      <td>6.000000</td>\n",
              "    </tr>\n",
              "    <tr>\n",
              "      <th>75%</th>\n",
              "      <td>2015.000000</td>\n",
              "      <td>4.000000</td>\n",
              "      <td>12.000000</td>\n",
              "    </tr>\n",
              "    <tr>\n",
              "      <th>max</th>\n",
              "      <td>2020.000000</td>\n",
              "      <td>16.000000</td>\n",
              "      <td>16.000000</td>\n",
              "    </tr>\n",
              "  </tbody>\n",
              "</table>\n",
              "</div>"
            ],
            "text/plain": [
              "         Prod. year     Cylinders       Airbags\n",
              "count  19237.000000  19237.000000  19237.000000\n",
              "mean    2010.912824      4.582991      6.582627\n",
              "std        5.668673      1.199933      4.320168\n",
              "min     1939.000000      1.000000      0.000000\n",
              "25%     2009.000000      4.000000      4.000000\n",
              "50%     2012.000000      4.000000      6.000000\n",
              "75%     2015.000000      4.000000     12.000000\n",
              "max     2020.000000     16.000000     16.000000"
            ]
          },
          "metadata": {},
          "execution_count": 8
        }
      ]
    },
    {
      "cell_type": "markdown",
      "metadata": {
        "id": "5StNLpvWj1po"
      },
      "source": [
        "# Splitting data"
      ]
    },
    {
      "cell_type": "code",
      "metadata": {
        "id": "-ct9sV54krTa"
      },
      "source": [
        "data_og = data.copy()\n",
        "features = data[num_features+obj_features]\n",
        "targets = data[target_features]"
      ],
      "execution_count": 9,
      "outputs": []
    },
    {
      "cell_type": "code",
      "metadata": {
        "colab": {
          "base_uri": "https://localhost:8080/"
        },
        "id": "NTUDw3NqlovL",
        "outputId": "f883b3c1-3ecc-4639-9bbe-24367157b505"
      },
      "source": [
        "features.shape, targets.shape"
      ],
      "execution_count": 10,
      "outputs": [
        {
          "output_type": "execute_result",
          "data": {
            "text/plain": [
              "((19237, 16), (19237, 1))"
            ]
          },
          "metadata": {},
          "execution_count": 10
        }
      ]
    },
    {
      "cell_type": "code",
      "metadata": {
        "colab": {
          "base_uri": "https://localhost:8080/"
        },
        "id": "dvXdLzGdj3yr",
        "outputId": "72120f34-6128-4938-e239-35ed3f9e5b45"
      },
      "source": [
        "# 90% data for training and hold out validation set\n",
        "# 10% of data for testing\n",
        "train_val_features, test_features, train_val_targets, test_targets = train_test_split(\n",
        "                                                              features, targets, \n",
        "                                                              random_state=42, \n",
        "                                                              test_size=0.1\n",
        "                                                            )\n",
        "\n",
        "# 80% of training and hold out validation set for training \n",
        "# 20% of training and hold out validation set for validation\n",
        "train_features, val_features, train_targets, val_targets = train_test_split(\n",
        "                                                              train_val_features, train_val_targets, \n",
        "                                                              random_state=42, \n",
        "                                                              test_size=0.2\n",
        "                                                            )\n",
        "\n",
        "print(f\"Train Features: {train_features.shape}\")\n",
        "print(f\"Train Targets: {train_targets.shape}\", end=\"\\n\\n\")\n",
        "\n",
        "print(f\"Validation Features: {val_features.shape}\")\n",
        "print(f\"Validation Targets: {val_targets.shape}\", end=\"\\n\\n\")\n",
        "\n",
        "print(f\"Test Features: {test_features.shape}\")\n",
        "print(f\"Test Targets: {test_targets.shape}\", end=\"\\n\\n\")"
      ],
      "execution_count": 11,
      "outputs": [
        {
          "output_type": "stream",
          "name": "stdout",
          "text": [
            "Train Features: (13850, 16)\n",
            "Train Targets: (13850, 1)\n",
            "\n",
            "Validation Features: (3463, 16)\n",
            "Validation Targets: (3463, 1)\n",
            "\n",
            "Test Features: (1924, 16)\n",
            "Test Targets: (1924, 1)\n",
            "\n"
          ]
        }
      ]
    },
    {
      "cell_type": "markdown",
      "metadata": {
        "id": "0-QCGASkjejC"
      },
      "source": [
        "# Univariate EDA"
      ]
    },
    {
      "cell_type": "markdown",
      "metadata": {
        "id": "qALfAMzunamm"
      },
      "source": [
        "## Numerical data types"
      ]
    },
    {
      "cell_type": "code",
      "metadata": {
        "colab": {
          "base_uri": "https://localhost:8080/"
        },
        "id": "sMmNbQX8cfHi",
        "outputId": "267bc501-f713-4e02-9ff4-a4e1c5a586db"
      },
      "source": [
        "num_features"
      ],
      "execution_count": 12,
      "outputs": [
        {
          "output_type": "execute_result",
          "data": {
            "text/plain": [
              "['Prod. year', 'Cylinders', 'Airbags']"
            ]
          },
          "metadata": {},
          "execution_count": 12
        }
      ]
    },
    {
      "cell_type": "markdown",
      "metadata": {
        "id": "wG8xOidQoWIx"
      },
      "source": [
        "### Prod. year"
      ]
    },
    {
      "cell_type": "markdown",
      "metadata": {
        "id": "0UwNPMyWo45v"
      },
      "source": [
        "% of Number of records for each year"
      ]
    },
    {
      "cell_type": "code",
      "metadata": {
        "colab": {
          "base_uri": "https://localhost:8080/"
        },
        "id": "yMI0Bke-oamX",
        "outputId": "cf47cd06-d533-4827-e4b6-70a448785f2e"
      },
      "source": [
        "(train_features[\"Prod. year\"].value_counts().sort_index()/train_features[\"Prod. year\"].shape[0]) * 100"
      ],
      "execution_count": 13,
      "outputs": [
        {
          "output_type": "execute_result",
          "data": {
            "text/plain": [
              "1939     0.021661\n",
              "1953     0.021661\n",
              "1957     0.007220\n",
              "1964     0.014440\n",
              "1965     0.014440\n",
              "1968     0.007220\n",
              "1973     0.007220\n",
              "1974     0.014440\n",
              "1976     0.007220\n",
              "1978     0.007220\n",
              "1980     0.014440\n",
              "1981     0.007220\n",
              "1982     0.007220\n",
              "1983     0.014440\n",
              "1984     0.036101\n",
              "1985     0.028881\n",
              "1986     0.036101\n",
              "1987     0.021661\n",
              "1988     0.057762\n",
              "1989     0.036101\n",
              "1990     0.079422\n",
              "1991     0.050542\n",
              "1992     0.137184\n",
              "1993     0.101083\n",
              "1994     0.187726\n",
              "1995     0.534296\n",
              "1996     0.534296\n",
              "1997     0.779783\n",
              "1998     1.119134\n",
              "1999     1.046931\n",
              "2000     1.588448\n",
              "2001     1.364621\n",
              "2002     1.516245\n",
              "2003     1.862816\n",
              "2004     1.935018\n",
              "2005     2.079422\n",
              "2006     1.732852\n",
              "2007     2.404332\n",
              "2008     3.754513\n",
              "2009     2.967509\n",
              "2010     7.877256\n",
              "2011     8.173285\n",
              "2012    11.350181\n",
              "2013    10.115523\n",
              "2014    11.270758\n",
              "2015     8.115523\n",
              "2016     7.718412\n",
              "2017     4.823105\n",
              "2018     2.483755\n",
              "2019     1.646209\n",
              "2020     0.267148\n",
              "Name: Prod. year, dtype: float64"
            ]
          },
          "metadata": {},
          "execution_count": 13
        }
      ]
    },
    {
      "cell_type": "markdown",
      "metadata": {
        "id": "2gUkL2xVujlL"
      },
      "source": [
        "Bar graph showing number of records observed each year."
      ]
    },
    {
      "cell_type": "code",
      "metadata": {
        "id": "Wdqwgh2ToaiF",
        "colab": {
          "base_uri": "https://localhost:8080/",
          "height": 352
        },
        "outputId": "305eb7a9-27c1-4a32-c62d-50c3efe013d0"
      },
      "source": [
        "fig, ax = plt.subplots(figsize=(20, 5))\n",
        "temp_series = (train_features[\"Prod. year\"].value_counts().sort_index()/train_features[\"Prod. year\"].shape[0]) * 100\n",
        "temp_series.plot.bar(ax=ax)\n",
        "\n",
        "ax.grid()\n",
        "ax.set_xlabel(\"Year\", size=12)\n",
        "ax.set_ylabel(\"%age of records\", size=12)\n",
        "plt.show()"
      ],
      "execution_count": 14,
      "outputs": [
        {
          "output_type": "display_data",
          "data": {
            "image/png": "[encoded data removed]",
            "text/plain": [
              "<Figure size 1440x360 with 1 Axes>"
            ]
          },
          "metadata": {
            "needs_background": "light"
          }
        }
      ]
    },
    {
      "cell_type": "markdown",
      "metadata": {
        "id": "kugDTp87upJl"
      },
      "source": [
        "Paraeto graph"
      ]
    },
    {
      "cell_type": "code",
      "metadata": {
        "colab": {
          "base_uri": "https://localhost:8080/",
          "height": 320
        },
        "id": "n7ff-Si7uhr2",
        "outputId": "4dc52d79-1fce-4b4c-bc18-3ef10312f5f5"
      },
      "source": [
        "fig, ax = plt.subplots(figsize=(20, 5))\n",
        "temp_series = (train_features[\"Prod. year\"].value_counts().sort_index()/train_features[\"Prod. year\"].shape[0]) * 100\n",
        "\n",
        "# Bar Plot\n",
        "ax.bar(temp_series.index, temp_series.to_numpy(), alpha=0.5)\n",
        "\n",
        "# Paraeto Graph\n",
        "ax2 = ax.twinx()\n",
        "ax2.plot(temp_series.cumsum(), color=\"C1\", marker=\"D\")\n",
        "\n",
        "ax2.yaxis.set_major_formatter(PercentFormatter())\n",
        "ax2.tick_params(axis=\"y\", colors=\"C1\")\n",
        "ax.tick_params(axis=\"y\", colors=\"C0\")\n",
        "\n",
        "ax2.grid()\n",
        "plt.show()"
      ],
      "execution_count": 15,
      "outputs": [
        {
          "output_type": "display_data",
          "data": {
            "image/png": "[encoded data removed]",
            "text/plain": [
              "<Figure size 1440x360 with 2 Axes>"
            ]
          },
          "metadata": {}
        }
      ]
    },
    {
      "cell_type": "markdown",
      "metadata": {
        "id": "T0OoNggzrlDM"
      },
      "source": [
        "### Cylinders"
      ]
    },
    {
      "cell_type": "markdown",
      "metadata": {
        "id": "-7rxwWfcu6Mj"
      },
      "source": [
        "Number of cars with each category of `Cylinders`"
      ]
    },
    {
      "cell_type": "code",
      "metadata": {
        "colab": {
          "base_uri": "https://localhost:8080/",
          "height": 0
        },
        "id": "2H2SuKSUrmCb",
        "outputId": "440cd27c-a7c0-4f44-e66d-10670ea6967c"
      },
      "source": [
        "temp_series = train_features[\"Cylinders\"].value_counts().sort_index()\n",
        "\n",
        "temp_df = pd.DataFrame(\n",
        "  np.c_[\n",
        "        temp_series.index, \n",
        "        temp_series.to_numpy(), \n",
        "        (temp_series.to_numpy()/train_features[\"Cylinders\"].shape[0])*100\n",
        "      ], \n",
        "  columns=[\"Cylinders\", \"Value_Counts\", \"%age_Value_Counts\"])\n",
        "temp_df"
      ],
      "execution_count": 16,
      "outputs": [
        {
          "output_type": "execute_result",
          "data": {
            "text/html": [
              "<div>\n",
              "<style scoped>\n",
              "    .dataframe tbody tr th:only-of-type {\n",
              "        vertical-align: middle;\n",
              "    }\n",
              "\n",
              "    .dataframe tbody tr th {\n",
              "        vertical-align: top;\n",
              "    }\n",
              "\n",
              "    .dataframe thead th {\n",
              "        text-align: right;\n",
              "    }\n",
              "</style>\n",
              "<table border=\"1\" class=\"dataframe\">\n",
              "  <thead>\n",
              "    <tr style=\"text-align: right;\">\n",
              "      <th></th>\n",
              "      <th>Cylinders</th>\n",
              "      <th>Value_Counts</th>\n",
              "      <th>%age_Value_Counts</th>\n",
              "    </tr>\n",
              "  </thead>\n",
              "  <tbody>\n",
              "    <tr>\n",
              "      <th>0</th>\n",
              "      <td>1.0</td>\n",
              "      <td>28.0</td>\n",
              "      <td>0.202166</td>\n",
              "    </tr>\n",
              "    <tr>\n",
              "      <th>1</th>\n",
              "      <td>2.0</td>\n",
              "      <td>34.0</td>\n",
              "      <td>0.245487</td>\n",
              "    </tr>\n",
              "    <tr>\n",
              "      <th>2</th>\n",
              "      <td>3.0</td>\n",
              "      <td>81.0</td>\n",
              "      <td>0.584838</td>\n",
              "    </tr>\n",
              "    <tr>\n",
              "      <th>3</th>\n",
              "      <td>4.0</td>\n",
              "      <td>10342.0</td>\n",
              "      <td>74.671480</td>\n",
              "    </tr>\n",
              "    <tr>\n",
              "      <th>4</th>\n",
              "      <td>5.0</td>\n",
              "      <td>124.0</td>\n",
              "      <td>0.895307</td>\n",
              "    </tr>\n",
              "    <tr>\n",
              "      <th>5</th>\n",
              "      <td>6.0</td>\n",
              "      <td>2500.0</td>\n",
              "      <td>18.050542</td>\n",
              "    </tr>\n",
              "    <tr>\n",
              "      <th>6</th>\n",
              "      <td>7.0</td>\n",
              "      <td>2.0</td>\n",
              "      <td>0.014440</td>\n",
              "    </tr>\n",
              "    <tr>\n",
              "      <th>7</th>\n",
              "      <td>8.0</td>\n",
              "      <td>702.0</td>\n",
              "      <td>5.068592</td>\n",
              "    </tr>\n",
              "    <tr>\n",
              "      <th>8</th>\n",
              "      <td>10.0</td>\n",
              "      <td>9.0</td>\n",
              "      <td>0.064982</td>\n",
              "    </tr>\n",
              "    <tr>\n",
              "      <th>9</th>\n",
              "      <td>12.0</td>\n",
              "      <td>24.0</td>\n",
              "      <td>0.173285</td>\n",
              "    </tr>\n",
              "    <tr>\n",
              "      <th>10</th>\n",
              "      <td>16.0</td>\n",
              "      <td>4.0</td>\n",
              "      <td>0.028881</td>\n",
              "    </tr>\n",
              "  </tbody>\n",
              "</table>\n",
              "</div>"
            ],
            "text/plain": [
              "    Cylinders  Value_Counts  %age_Value_Counts\n",
              "0         1.0          28.0           0.202166\n",
              "1         2.0          34.0           0.245487\n",
              "2         3.0          81.0           0.584838\n",
              "3         4.0       10342.0          74.671480\n",
              "4         5.0         124.0           0.895307\n",
              "5         6.0        2500.0          18.050542\n",
              "6         7.0           2.0           0.014440\n",
              "7         8.0         702.0           5.068592\n",
              "8        10.0           9.0           0.064982\n",
              "9        12.0          24.0           0.173285\n",
              "10       16.0           4.0           0.028881"
            ]
          },
          "metadata": {},
          "execution_count": 16
        }
      ]
    },
    {
      "cell_type": "markdown",
      "metadata": {
        "id": "0kUMGk_cxQPF"
      },
      "source": [
        "Bar graphs for number of cars of each `Cylinders` category"
      ]
    },
    {
      "cell_type": "code",
      "metadata": {
        "colab": {
          "base_uri": "https://localhost:8080/",
          "height": 0
        },
        "id": "QN9pfZ2Vrl-R",
        "outputId": "1a09d7fc-d9d9-4129-ba79-bec407c762a6"
      },
      "source": [
        "fig, ax = plt.subplots(figsize=(8, 5))\n",
        "temp_df[\"%age_Value_Counts\"].plot.bar(ax=ax)\n",
        "\n",
        "ax.grid()\n",
        "ax.set_xticklabels(temp_df[\"Cylinders\"])\n",
        "ax.set_xlabel(\"Cylinders\", size=12)\n",
        "ax.set_ylabel(\"%age of records\", size=12)\n",
        "plt.show()"
      ],
      "execution_count": 17,
      "outputs": [
        {
          "output_type": "display_data",
          "data": {
            "image/png": "[encoded data removed]",
            "text/plain": [
              "<Figure size 576x360 with 1 Axes>"
            ]
          },
          "metadata": {
            "needs_background": "light"
          }
        }
      ]
    },
    {
      "cell_type": "markdown",
      "metadata": {
        "id": "MkAlZ6Opx7dq"
      },
      "source": [
        "### Airbags"
      ]
    },
    {
      "cell_type": "markdown",
      "metadata": {
        "id": "tATcTGlg09sC"
      },
      "source": [
        "Value Counts"
      ]
    },
    {
      "cell_type": "code",
      "metadata": {
        "colab": {
          "base_uri": "https://localhost:8080/",
          "height": 0
        },
        "id": "jY5DgMjbrl8b",
        "outputId": "738d8c07-4ef1-4812-c2b6-12e634a35c4f"
      },
      "source": [
        "temp_series = train_features[\"Airbags\"].value_counts().sort_index()\n",
        "\n",
        "temp_df = pd.DataFrame(\n",
        "  np.c_[\n",
        "        temp_series.index, \n",
        "        temp_series.to_numpy(), \n",
        "        (temp_series.to_numpy()/train_features.shape[0])*100\n",
        "  ], \n",
        "  columns = [\"Airbags\", \"Value_COunts\", \"%age_Value_Counts\"]\n",
        ")\n",
        "temp_df"
      ],
      "execution_count": 18,
      "outputs": [
        {
          "output_type": "execute_result",
          "data": {
            "text/html": [
              "<div>\n",
              "<style scoped>\n",
              "    .dataframe tbody tr th:only-of-type {\n",
              "        vertical-align: middle;\n",
              "    }\n",
              "\n",
              "    .dataframe tbody tr th {\n",
              "        vertical-align: top;\n",
              "    }\n",
              "\n",
              "    .dataframe thead th {\n",
              "        text-align: right;\n",
              "    }\n",
              "</style>\n",
              "<table border=\"1\" class=\"dataframe\">\n",
              "  <thead>\n",
              "    <tr style=\"text-align: right;\">\n",
              "      <th></th>\n",
              "      <th>Airbags</th>\n",
              "      <th>Value_COunts</th>\n",
              "      <th>%age_Value_Counts</th>\n",
              "    </tr>\n",
              "  </thead>\n",
              "  <tbody>\n",
              "    <tr>\n",
              "      <th>0</th>\n",
              "      <td>0.0</td>\n",
              "      <td>1745.0</td>\n",
              "      <td>12.599278</td>\n",
              "    </tr>\n",
              "    <tr>\n",
              "      <th>1</th>\n",
              "      <td>1.0</td>\n",
              "      <td>53.0</td>\n",
              "      <td>0.382671</td>\n",
              "    </tr>\n",
              "    <tr>\n",
              "      <th>2</th>\n",
              "      <td>2.0</td>\n",
              "      <td>739.0</td>\n",
              "      <td>5.335740</td>\n",
              "    </tr>\n",
              "    <tr>\n",
              "      <th>3</th>\n",
              "      <td>3.0</td>\n",
              "      <td>30.0</td>\n",
              "      <td>0.216606</td>\n",
              "    </tr>\n",
              "    <tr>\n",
              "      <th>4</th>\n",
              "      <td>4.0</td>\n",
              "      <td>4229.0</td>\n",
              "      <td>30.534296</td>\n",
              "    </tr>\n",
              "    <tr>\n",
              "      <th>5</th>\n",
              "      <td>5.0</td>\n",
              "      <td>76.0</td>\n",
              "      <td>0.548736</td>\n",
              "    </tr>\n",
              "    <tr>\n",
              "      <th>6</th>\n",
              "      <td>6.0</td>\n",
              "      <td>908.0</td>\n",
              "      <td>6.555957</td>\n",
              "    </tr>\n",
              "    <tr>\n",
              "      <th>7</th>\n",
              "      <td>7.0</td>\n",
              "      <td>64.0</td>\n",
              "      <td>0.462094</td>\n",
              "    </tr>\n",
              "    <tr>\n",
              "      <th>8</th>\n",
              "      <td>8.0</td>\n",
              "      <td>1125.0</td>\n",
              "      <td>8.122744</td>\n",
              "    </tr>\n",
              "    <tr>\n",
              "      <th>9</th>\n",
              "      <td>9.0</td>\n",
              "      <td>44.0</td>\n",
              "      <td>0.317690</td>\n",
              "    </tr>\n",
              "    <tr>\n",
              "      <th>10</th>\n",
              "      <td>10.0</td>\n",
              "      <td>615.0</td>\n",
              "      <td>4.440433</td>\n",
              "    </tr>\n",
              "    <tr>\n",
              "      <th>11</th>\n",
              "      <td>11.0</td>\n",
              "      <td>21.0</td>\n",
              "      <td>0.151625</td>\n",
              "    </tr>\n",
              "    <tr>\n",
              "      <th>12</th>\n",
              "      <td>12.0</td>\n",
              "      <td>4105.0</td>\n",
              "      <td>29.638989</td>\n",
              "    </tr>\n",
              "    <tr>\n",
              "      <th>13</th>\n",
              "      <td>13.0</td>\n",
              "      <td>2.0</td>\n",
              "      <td>0.014440</td>\n",
              "    </tr>\n",
              "    <tr>\n",
              "      <th>14</th>\n",
              "      <td>14.0</td>\n",
              "      <td>18.0</td>\n",
              "      <td>0.129964</td>\n",
              "    </tr>\n",
              "    <tr>\n",
              "      <th>15</th>\n",
              "      <td>15.0</td>\n",
              "      <td>6.0</td>\n",
              "      <td>0.043321</td>\n",
              "    </tr>\n",
              "    <tr>\n",
              "      <th>16</th>\n",
              "      <td>16.0</td>\n",
              "      <td>70.0</td>\n",
              "      <td>0.505415</td>\n",
              "    </tr>\n",
              "  </tbody>\n",
              "</table>\n",
              "</div>"
            ],
            "text/plain": [
              "    Airbags  Value_COunts  %age_Value_Counts\n",
              "0       0.0        1745.0          12.599278\n",
              "1       1.0          53.0           0.382671\n",
              "2       2.0         739.0           5.335740\n",
              "3       3.0          30.0           0.216606\n",
              "4       4.0        4229.0          30.534296\n",
              "5       5.0          76.0           0.548736\n",
              "6       6.0         908.0           6.555957\n",
              "7       7.0          64.0           0.462094\n",
              "8       8.0        1125.0           8.122744\n",
              "9       9.0          44.0           0.317690\n",
              "10     10.0         615.0           4.440433\n",
              "11     11.0          21.0           0.151625\n",
              "12     12.0        4105.0          29.638989\n",
              "13     13.0           2.0           0.014440\n",
              "14     14.0          18.0           0.129964\n",
              "15     15.0           6.0           0.043321\n",
              "16     16.0          70.0           0.505415"
            ]
          },
          "metadata": {},
          "execution_count": 18
        }
      ]
    },
    {
      "cell_type": "markdown",
      "metadata": {
        "id": "5es5RpxfzjoU"
      },
      "source": [
        "Bar graph"
      ]
    },
    {
      "cell_type": "code",
      "metadata": {
        "colab": {
          "base_uri": "https://localhost:8080/",
          "height": 0
        },
        "id": "3d2THs3Lzjke",
        "outputId": "ec10e4eb-5fcf-44c8-a969-cae505a6aeb5"
      },
      "source": [
        "fig, ax = plt.subplots(figsize=(8, 5))\n",
        "temp_df[\"%age_Value_Counts\"].plot.bar(ax=ax)\n",
        "\n",
        "ax.grid()\n",
        "ax.set_xticklabels(temp_df[\"Airbags\"])\n",
        "ax.set_xlabel(\"Airbags\", size=12)\n",
        "ax.set_ylabel(\"%age of records\", size=12)\n",
        "plt.show()"
      ],
      "execution_count": 19,
      "outputs": [
        {
          "output_type": "display_data",
          "data": {
            "image/png": "[encoded data removed]",
            "text/plain": [
              "<Figure size 576x360 with 1 Axes>"
            ]
          },
          "metadata": {
            "needs_background": "light"
          }
        }
      ]
    },
    {
      "cell_type": "markdown",
      "metadata": {
        "id": "JDl1Qf2o1Iw3"
      },
      "source": [
        "## Object Data Type"
      ]
    },
    {
      "cell_type": "code",
      "metadata": {
        "colab": {
          "base_uri": "https://localhost:8080/"
        },
        "id": "thugnhnp1aAV",
        "outputId": "9d9c89d5-7d55-4101-c594-6e590495c889"
      },
      "source": [
        "obj_features"
      ],
      "execution_count": 20,
      "outputs": [
        {
          "output_type": "execute_result",
          "data": {
            "text/plain": [
              "['Levy',\n",
              " 'Manufacturer',\n",
              " 'Model',\n",
              " 'Category',\n",
              " 'Leather interior',\n",
              " 'Fuel type',\n",
              " 'Engine volume',\n",
              " 'Mileage',\n",
              " 'Gear box type',\n",
              " 'Drive wheels',\n",
              " 'Doors',\n",
              " 'Wheel',\n",
              " 'Color']"
            ]
          },
          "metadata": {},
          "execution_count": 20
        }
      ]
    },
    {
      "cell_type": "markdown",
      "metadata": {
        "id": "VvGDxrLy1nlR"
      },
      "source": [
        "### Levy"
      ]
    },
    {
      "cell_type": "markdown",
      "metadata": {
        "id": "oBew1O_J6OG-"
      },
      "source": [
        "Number of Null values in this column. Here the Null values are given by `\"-\"` sign."
      ]
    },
    {
      "cell_type": "code",
      "metadata": {
        "colab": {
          "base_uri": "https://localhost:8080/"
        },
        "id": "4pbJiAvG1Z8o",
        "outputId": "f9ccc1a2-b1c9-4762-d3a8-989cbb665ce3"
      },
      "source": [
        "train_features[train_features[\"Levy\"] == \"-\"].shape"
      ],
      "execution_count": 21,
      "outputs": [
        {
          "output_type": "execute_result",
          "data": {
            "text/plain": [
              "(4225, 16)"
            ]
          },
          "metadata": {},
          "execution_count": 21
        }
      ]
    },
    {
      "cell_type": "markdown",
      "metadata": {
        "id": "xcuUADm17yaO"
      },
      "source": [
        "%age of Null values"
      ]
    },
    {
      "cell_type": "code",
      "metadata": {
        "colab": {
          "base_uri": "https://localhost:8080/"
        },
        "id": "2E0s0fSe7roD",
        "outputId": "7bb89ef4-ea58-4ed9-f9fd-439cd70b3397"
      },
      "source": [
        "(train_features[train_features[\"Levy\"] == \"-\"].shape[0]/train_features.shape[0])*100"
      ],
      "execution_count": 22,
      "outputs": [
        {
          "output_type": "execute_result",
          "data": {
            "text/plain": [
              "30.505415162454874"
            ]
          },
          "metadata": {},
          "execution_count": 22
        }
      ]
    },
    {
      "cell_type": "markdown",
      "metadata": {
        "id": "2PgKDbJx_ENh"
      },
      "source": [
        "Removing Null values"
      ]
    },
    {
      "cell_type": "code",
      "metadata": {
        "colab": {
          "base_uri": "https://localhost:8080/",
          "height": 0
        },
        "id": "eERtF0MS1Z7Y",
        "outputId": "588f24b5-263d-4ec9-e0b5-0dc05061c90f"
      },
      "source": [
        "temp_df = pd.DataFrame(\n",
        "  train_features[train_features[\"Levy\"] != \"-\"][\"Levy\"].astype(np.uint), \n",
        "  columns=[\"Levy\"]\n",
        ")\n",
        "print(temp_df.shape)\n",
        "temp_df.head()"
      ],
      "execution_count": 23,
      "outputs": [
        {
          "output_type": "stream",
          "name": "stdout",
          "text": [
            "(9625, 1)\n"
          ]
        },
        {
          "output_type": "execute_result",
          "data": {
            "text/html": [
              "<div>\n",
              "<style scoped>\n",
              "    .dataframe tbody tr th:only-of-type {\n",
              "        vertical-align: middle;\n",
              "    }\n",
              "\n",
              "    .dataframe tbody tr th {\n",
              "        vertical-align: top;\n",
              "    }\n",
              "\n",
              "    .dataframe thead th {\n",
              "        text-align: right;\n",
              "    }\n",
              "</style>\n",
              "<table border=\"1\" class=\"dataframe\">\n",
              "  <thead>\n",
              "    <tr style=\"text-align: right;\">\n",
              "      <th></th>\n",
              "      <th>Levy</th>\n",
              "    </tr>\n",
              "  </thead>\n",
              "  <tbody>\n",
              "    <tr>\n",
              "      <th>1678</th>\n",
              "      <td>308</td>\n",
              "    </tr>\n",
              "    <tr>\n",
              "      <th>14501</th>\n",
              "      <td>687</td>\n",
              "    </tr>\n",
              "    <tr>\n",
              "      <th>6858</th>\n",
              "      <td>891</td>\n",
              "    </tr>\n",
              "    <tr>\n",
              "      <th>7634</th>\n",
              "      <td>697</td>\n",
              "    </tr>\n",
              "    <tr>\n",
              "      <th>7331</th>\n",
              "      <td>765</td>\n",
              "    </tr>\n",
              "  </tbody>\n",
              "</table>\n",
              "</div>"
            ],
            "text/plain": [
              "       Levy\n",
              "1678    308\n",
              "14501   687\n",
              "6858    891\n",
              "7634    697\n",
              "7331    765"
            ]
          },
          "metadata": {},
          "execution_count": 23
        }
      ]
    },
    {
      "cell_type": "markdown",
      "metadata": {
        "id": "Qz7d8kTb_Go3"
      },
      "source": [
        "Histogram and Box Plots"
      ]
    },
    {
      "cell_type": "code",
      "metadata": {
        "colab": {
          "base_uri": "https://localhost:8080/",
          "height": 0
        },
        "id": "TrqOdPdL1Z46",
        "outputId": "68d2d9b1-3745-4384-afa6-7bbb37427418"
      },
      "source": [
        "fig, ax = plt.subplots(1, 2, figsize=(16, 5))\n",
        "temp_df[\"Levy\"].plot.hist(ax=ax[0], bins=100)\n",
        "ax[0].set_xlabel(\"Levy\", size=15)\n",
        "ax[0].set_ylabel(\"Frequency\", size=15)\n",
        "ax[0].set_title(\"Histogram for Levy\", size=20)\n",
        "ax[0].grid()\n",
        "\n",
        "temp_df[[\"Levy\"]].boxplot(ax=ax[1])\n",
        "ax[1].set_ylabel(\"Levy\", size=15)\n",
        "ax[1].set_title(\"Box Plot for Levy\", size=20)\n",
        "plt.show()"
      ],
      "execution_count": 24,
      "outputs": [
        {
          "output_type": "display_data",
          "data": {
            "image/png": "[encoded data removed]",
            "text/plain": [
              "<Figure size 1152x360 with 2 Axes>"
            ]
          },
          "metadata": {
            "needs_background": "light"
          }
        }
      ]
    },
    {
      "cell_type": "markdown",
      "metadata": {
        "id": "9x1XO0hr_3qc"
      },
      "source": [
        "### Manufacturer"
      ]
    },
    {
      "cell_type": "code",
      "metadata": {
        "colab": {
          "base_uri": "https://localhost:8080/"
        },
        "id": "sz70vKG6_9QM",
        "outputId": "ce1850c1-6f58-4e17-bd63-b02d082a6bc4"
      },
      "source": [
        "train_features[\"Manufacturer\"].unique()"
      ],
      "execution_count": 25,
      "outputs": [
        {
          "output_type": "execute_result",
          "data": {
            "text/plain": [
              "array(['LEXUS', 'MERCEDES-BENZ', 'DAEWOO', 'HYUNDAI', 'VOLKSWAGEN',\n",
              "       'OPEL', 'NISSAN', 'SSANGYONG', 'KIA', 'FORD', 'TOYOTA', 'JEEP',\n",
              "       'BMW', 'HONDA', 'MITSUBISHI', 'LAND ROVER', 'MINI', 'MAZDA',\n",
              "       'CHEVROLET', 'SUBARU', 'PORSCHE', 'DODGE', 'AUDI', 'VAZ', 'JAGUAR',\n",
              "       'LINCOLN', 'SUZUKI', 'MASERATI', 'FIAT', 'MERCURY', 'RENAULT',\n",
              "       'INFINITI', 'CHRYSLER', 'CADILLAC', 'ACURA', 'SKODA', 'CITROEN',\n",
              "       'GAZ', 'DAIHATSU', 'VOLVO', 'SCION', 'PEUGEOT', 'BUICK', 'GMC',\n",
              "       'ROVER', 'MOSKVICH', 'სხვა', 'ISUZU', 'ROLLS-ROYCE', 'BENTLEY',\n",
              "       'UAZ', 'ALFA ROMEO', 'ZAZ', 'PONTIAC', 'FERRARI', 'ASTON MARTIN',\n",
              "       'GREATWALL', 'HUMMER', 'TESLA', 'SEAT'], dtype=object)"
            ]
          },
          "metadata": {},
          "execution_count": 25
        }
      ]
    },
    {
      "cell_type": "code",
      "metadata": {
        "colab": {
          "base_uri": "https://localhost:8080/",
          "height": 0
        },
        "id": "vp_0k9dgGNas",
        "outputId": "99511678-e533-48d8-8bf5-dde31b2b9c1f"
      },
      "source": [
        "temp_series = train_features[\"Manufacturer\"].value_counts()\n",
        "temp_df = pd.DataFrame(\n",
        "  np.c_[\n",
        "        temp_series.index, \n",
        "        temp_series.to_numpy(), \n",
        "        (temp_series.to_numpy()/train_features.shape[0])*100\n",
        "  ],\n",
        "  columns=[\"Manufacturer\", \"Value_counts\", \"%age_Value_counts\"]\n",
        ")\n",
        "print(temp_df.shape)\n",
        "temp_df.head()"
      ],
      "execution_count": 26,
      "outputs": [
        {
          "output_type": "stream",
          "name": "stdout",
          "text": [
            "(60, 3)\n"
          ]
        },
        {
          "output_type": "execute_result",
          "data": {
            "text/html": [
              "<div>\n",
              "<style scoped>\n",
              "    .dataframe tbody tr th:only-of-type {\n",
              "        vertical-align: middle;\n",
              "    }\n",
              "\n",
              "    .dataframe tbody tr th {\n",
              "        vertical-align: top;\n",
              "    }\n",
              "\n",
              "    .dataframe thead th {\n",
              "        text-align: right;\n",
              "    }\n",
              "</style>\n",
              "<table border=\"1\" class=\"dataframe\">\n",
              "  <thead>\n",
              "    <tr style=\"text-align: right;\">\n",
              "      <th></th>\n",
              "      <th>Manufacturer</th>\n",
              "      <th>Value_counts</th>\n",
              "      <th>%age_Value_counts</th>\n",
              "    </tr>\n",
              "  </thead>\n",
              "  <tbody>\n",
              "    <tr>\n",
              "      <th>0</th>\n",
              "      <td>HYUNDAI</td>\n",
              "      <td>2729</td>\n",
              "      <td>19.704</td>\n",
              "    </tr>\n",
              "    <tr>\n",
              "      <th>1</th>\n",
              "      <td>TOYOTA</td>\n",
              "      <td>2613</td>\n",
              "      <td>18.8664</td>\n",
              "    </tr>\n",
              "    <tr>\n",
              "      <th>2</th>\n",
              "      <td>MERCEDES-BENZ</td>\n",
              "      <td>1512</td>\n",
              "      <td>10.917</td>\n",
              "    </tr>\n",
              "    <tr>\n",
              "      <th>3</th>\n",
              "      <td>FORD</td>\n",
              "      <td>795</td>\n",
              "      <td>5.74007</td>\n",
              "    </tr>\n",
              "    <tr>\n",
              "      <th>4</th>\n",
              "      <td>CHEVROLET</td>\n",
              "      <td>779</td>\n",
              "      <td>5.62455</td>\n",
              "    </tr>\n",
              "  </tbody>\n",
              "</table>\n",
              "</div>"
            ],
            "text/plain": [
              "    Manufacturer Value_counts %age_Value_counts\n",
              "0        HYUNDAI         2729            19.704\n",
              "1         TOYOTA         2613           18.8664\n",
              "2  MERCEDES-BENZ         1512            10.917\n",
              "3           FORD          795           5.74007\n",
              "4      CHEVROLET          779           5.62455"
            ]
          },
          "metadata": {},
          "execution_count": 26
        }
      ]
    },
    {
      "cell_type": "code",
      "metadata": {
        "colab": {
          "base_uri": "https://localhost:8080/",
          "height": 0
        },
        "id": "LLLDxA5iG0bi",
        "outputId": "35e7f071-5def-4eb5-ba73-45e8cfe0a379"
      },
      "source": [
        "fig, ax = plt.subplots(figsize=(20, 5))\n",
        "temp_df[\"%age_Value_counts\"].plot.bar(ax=ax)\n",
        "ax.set_xticklabels(temp_df[\"Manufacturer\"])\n",
        "plt.show()"
      ],
      "execution_count": 27,
      "outputs": [
        {
          "output_type": "display_data",
          "data": {
            "image/png": "[encoded data removed]",
            "text/plain": [
              "<Figure size 1440x360 with 1 Axes>"
            ]
          },
          "metadata": {
            "needs_background": "light"
          }
        }
      ]
    },
    {
      "cell_type": "markdown",
      "metadata": {
        "id": "gQ4TdxI9QppV"
      },
      "source": [
        "### Model"
      ]
    },
    {
      "cell_type": "code",
      "metadata": {
        "colab": {
          "base_uri": "https://localhost:8080/"
        },
        "id": "ECKkXKyzQqn-",
        "outputId": "6c2baf49-e67c-4e71-8f43-b65ac93d44a0"
      },
      "source": [
        "train_features[\"Model\"].nunique()"
      ],
      "execution_count": 28,
      "outputs": [
        {
          "output_type": "execute_result",
          "data": {
            "text/plain": [
              "1315"
            ]
          },
          "metadata": {},
          "execution_count": 28
        }
      ]
    },
    {
      "cell_type": "code",
      "metadata": {
        "colab": {
          "base_uri": "https://localhost:8080/",
          "height": 0
        },
        "id": "uCnFOVsuQ27y",
        "outputId": "be28f243-122f-481c-8498-b306c3f683bb"
      },
      "source": [
        "temp_series = train_features[\"Model\"].value_counts()\n",
        "temp_df = pd.DataFrame(\n",
        "  np.c_[\n",
        "        temp_series.index, \n",
        "        temp_series.to_numpy(), \n",
        "        (temp_series.to_numpy()/train_features.shape[0])*100\n",
        "  ],\n",
        "  columns=[\"Model\", \"Value_counts\", \"%age_Value_counts\"]\n",
        ")\n",
        "print(temp_df.shape)\n",
        "temp_df.head()"
      ],
      "execution_count": 29,
      "outputs": [
        {
          "output_type": "stream",
          "name": "stdout",
          "text": [
            "(1315, 3)\n"
          ]
        },
        {
          "output_type": "execute_result",
          "data": {
            "text/html": [
              "<div>\n",
              "<style scoped>\n",
              "    .dataframe tbody tr th:only-of-type {\n",
              "        vertical-align: middle;\n",
              "    }\n",
              "\n",
              "    .dataframe tbody tr th {\n",
              "        vertical-align: top;\n",
              "    }\n",
              "\n",
              "    .dataframe thead th {\n",
              "        text-align: right;\n",
              "    }\n",
              "</style>\n",
              "<table border=\"1\" class=\"dataframe\">\n",
              "  <thead>\n",
              "    <tr style=\"text-align: right;\">\n",
              "      <th></th>\n",
              "      <th>Model</th>\n",
              "      <th>Value_counts</th>\n",
              "      <th>%age_Value_counts</th>\n",
              "    </tr>\n",
              "  </thead>\n",
              "  <tbody>\n",
              "    <tr>\n",
              "      <th>0</th>\n",
              "      <td>Sonata</td>\n",
              "      <td>786</td>\n",
              "      <td>5.67509</td>\n",
              "    </tr>\n",
              "    <tr>\n",
              "      <th>1</th>\n",
              "      <td>Prius</td>\n",
              "      <td>775</td>\n",
              "      <td>5.59567</td>\n",
              "    </tr>\n",
              "    <tr>\n",
              "      <th>2</th>\n",
              "      <td>Camry</td>\n",
              "      <td>679</td>\n",
              "      <td>4.90253</td>\n",
              "    </tr>\n",
              "    <tr>\n",
              "      <th>3</th>\n",
              "      <td>Elantra</td>\n",
              "      <td>666</td>\n",
              "      <td>4.80866</td>\n",
              "    </tr>\n",
              "    <tr>\n",
              "      <th>4</th>\n",
              "      <td>E 350</td>\n",
              "      <td>400</td>\n",
              "      <td>2.88809</td>\n",
              "    </tr>\n",
              "  </tbody>\n",
              "</table>\n",
              "</div>"
            ],
            "text/plain": [
              "     Model Value_counts %age_Value_counts\n",
              "0   Sonata          786           5.67509\n",
              "1    Prius          775           5.59567\n",
              "2    Camry          679           4.90253\n",
              "3  Elantra          666           4.80866\n",
              "4    E 350          400           2.88809"
            ]
          },
          "metadata": {},
          "execution_count": 29
        }
      ]
    },
    {
      "cell_type": "markdown",
      "metadata": {
        "id": "Q0yPBdflZLbV"
      },
      "source": [
        "Bar graph for some of the most common models (>1% occurance)"
      ]
    },
    {
      "cell_type": "code",
      "metadata": {
        "colab": {
          "base_uri": "https://localhost:8080/",
          "height": 0
        },
        "id": "zWV4G7PUYmaM",
        "outputId": "9fe39a7d-cd4a-41da-f3f9-e3691d274c27"
      },
      "source": [
        "fig, ax = plt.subplots(figsize=(20, 5))\n",
        "temp_df[temp_df[\"%age_Value_counts\"]>1][\"%age_Value_counts\"].plot.bar(ax=ax)\n",
        "\n",
        "ax.set_xlabel(\"Model\", size=15)\n",
        "ax.set_ylabel(\"%age of occurances\", size=15)\n",
        "ax.set_xticklabels(temp_df[\"Model\"], fontdict={\"fontsize\": 13})\n",
        "plt.show()"
      ],
      "execution_count": 30,
      "outputs": [
        {
          "output_type": "display_data",
          "data": {
            "image/png": "[encoded data removed]",
            "text/plain": [
              "<Figure size 1440x360 with 1 Axes>"
            ]
          },
          "metadata": {
            "needs_background": "light"
          }
        }
      ]
    },
    {
      "cell_type": "markdown",
      "metadata": {
        "id": "rS7gnJzKcFvV"
      },
      "source": [
        "### Category"
      ]
    },
    {
      "cell_type": "code",
      "metadata": {
        "id": "fxP0ij6_xl2X",
        "colab": {
          "base_uri": "https://localhost:8080/",
          "height": 0
        },
        "outputId": "580bdd3c-82e0-499d-9b3b-38a6dad13b25"
      },
      "source": [
        "temp_series = train_features[\"Category\"].value_counts()\n",
        "temp_df = pd.DataFrame(\n",
        "  np.c_[\n",
        "        temp_series.index, \n",
        "        temp_series.to_numpy(), \n",
        "        (temp_series.to_numpy()/train_features.shape[0])*100\n",
        "      ],\n",
        "  columns = [\"Category\", \"Value_counts\", \"%age_Value_counts\"]\n",
        "  )\n",
        "\n",
        "temp_df"
      ],
      "execution_count": 31,
      "outputs": [
        {
          "output_type": "execute_result",
          "data": {
            "text/html": [
              "<div>\n",
              "<style scoped>\n",
              "    .dataframe tbody tr th:only-of-type {\n",
              "        vertical-align: middle;\n",
              "    }\n",
              "\n",
              "    .dataframe tbody tr th {\n",
              "        vertical-align: top;\n",
              "    }\n",
              "\n",
              "    .dataframe thead th {\n",
              "        text-align: right;\n",
              "    }\n",
              "</style>\n",
              "<table border=\"1\" class=\"dataframe\">\n",
              "  <thead>\n",
              "    <tr style=\"text-align: right;\">\n",
              "      <th></th>\n",
              "      <th>Category</th>\n",
              "      <th>Value_counts</th>\n",
              "      <th>%age_Value_counts</th>\n",
              "    </tr>\n",
              "  </thead>\n",
              "  <tbody>\n",
              "    <tr>\n",
              "      <th>0</th>\n",
              "      <td>Sedan</td>\n",
              "      <td>6305</td>\n",
              "      <td>45.5235</td>\n",
              "    </tr>\n",
              "    <tr>\n",
              "      <th>1</th>\n",
              "      <td>Jeep</td>\n",
              "      <td>3918</td>\n",
              "      <td>28.2888</td>\n",
              "    </tr>\n",
              "    <tr>\n",
              "      <th>2</th>\n",
              "      <td>Hatchback</td>\n",
              "      <td>2054</td>\n",
              "      <td>14.8303</td>\n",
              "    </tr>\n",
              "    <tr>\n",
              "      <th>3</th>\n",
              "      <td>Minivan</td>\n",
              "      <td>469</td>\n",
              "      <td>3.38628</td>\n",
              "    </tr>\n",
              "    <tr>\n",
              "      <th>4</th>\n",
              "      <td>Coupe</td>\n",
              "      <td>391</td>\n",
              "      <td>2.8231</td>\n",
              "    </tr>\n",
              "    <tr>\n",
              "      <th>5</th>\n",
              "      <td>Universal</td>\n",
              "      <td>258</td>\n",
              "      <td>1.86282</td>\n",
              "    </tr>\n",
              "    <tr>\n",
              "      <th>6</th>\n",
              "      <td>Microbus</td>\n",
              "      <td>222</td>\n",
              "      <td>1.60289</td>\n",
              "    </tr>\n",
              "    <tr>\n",
              "      <th>7</th>\n",
              "      <td>Goods wagon</td>\n",
              "      <td>159</td>\n",
              "      <td>1.14801</td>\n",
              "    </tr>\n",
              "    <tr>\n",
              "      <th>8</th>\n",
              "      <td>Pickup</td>\n",
              "      <td>40</td>\n",
              "      <td>0.288809</td>\n",
              "    </tr>\n",
              "    <tr>\n",
              "      <th>9</th>\n",
              "      <td>Cabriolet</td>\n",
              "      <td>27</td>\n",
              "      <td>0.194946</td>\n",
              "    </tr>\n",
              "    <tr>\n",
              "      <th>10</th>\n",
              "      <td>Limousine</td>\n",
              "      <td>7</td>\n",
              "      <td>0.0505415</td>\n",
              "    </tr>\n",
              "  </tbody>\n",
              "</table>\n",
              "</div>"
            ],
            "text/plain": [
              "       Category Value_counts %age_Value_counts\n",
              "0         Sedan         6305           45.5235\n",
              "1          Jeep         3918           28.2888\n",
              "2     Hatchback         2054           14.8303\n",
              "3       Minivan          469           3.38628\n",
              "4         Coupe          391            2.8231\n",
              "5     Universal          258           1.86282\n",
              "6      Microbus          222           1.60289\n",
              "7   Goods wagon          159           1.14801\n",
              "8        Pickup           40          0.288809\n",
              "9     Cabriolet           27          0.194946\n",
              "10    Limousine            7         0.0505415"
            ]
          },
          "metadata": {},
          "execution_count": 31
        }
      ]
    },
    {
      "cell_type": "code",
      "metadata": {
        "id": "URdGOil-y0qT",
        "colab": {
          "base_uri": "https://localhost:8080/",
          "height": 0
        },
        "outputId": "7261d795-92e7-431e-bea6-77f239808584"
      },
      "source": [
        "fig, ax = plt.subplots(figsize=(8, 5))\n",
        "temp_df[\"%age_Value_counts\"].plot.bar(ax=ax)\n",
        "\n",
        "ax.set_xlabel(\"Category\", size=15)\n",
        "ax.set_ylabel(\"%age of Occurances\", size=15)\n",
        "\n",
        "ax.set_xticklabels(temp_df[\"Category\"])\n",
        "ax.grid()\n",
        "plt.show()"
      ],
      "execution_count": 32,
      "outputs": [
        {
          "output_type": "display_data",
          "data": {
            "image/png": "[encoded data removed]",
            "text/plain": [
              "<Figure size 576x360 with 1 Axes>"
            ]
          },
          "metadata": {
            "needs_background": "light"
          }
        }
      ]
    },
    {
      "cell_type": "markdown",
      "metadata": {
        "id": "TrGIC93w0gnr"
      },
      "source": [
        "### Leather interior"
      ]
    },
    {
      "cell_type": "code",
      "metadata": {
        "id": "f0xuBwpL0hoG",
        "colab": {
          "base_uri": "https://localhost:8080/"
        },
        "outputId": "c74d4d6d-956d-4e04-dc95-34e9fc604c59"
      },
      "source": [
        "train_features[\"Leather interior\"].value_counts()"
      ],
      "execution_count": 33,
      "outputs": [
        {
          "output_type": "execute_result",
          "data": {
            "text/plain": [
              "Yes    10089\n",
              "No      3761\n",
              "Name: Leather interior, dtype: int64"
            ]
          },
          "metadata": {},
          "execution_count": 33
        }
      ]
    },
    {
      "cell_type": "code",
      "metadata": {
        "id": "U2GaOTkf0hi1",
        "colab": {
          "base_uri": "https://localhost:8080/"
        },
        "outputId": "6fb560de-29d2-43a5-82fd-a9a9b937d955"
      },
      "source": [
        "(train_features[\"Leather interior\"].value_counts()/train_features.shape[0])*100"
      ],
      "execution_count": 34,
      "outputs": [
        {
          "output_type": "execute_result",
          "data": {
            "text/plain": [
              "Yes    72.844765\n",
              "No     27.155235\n",
              "Name: Leather interior, dtype: float64"
            ]
          },
          "metadata": {},
          "execution_count": 34
        }
      ]
    },
    {
      "cell_type": "markdown",
      "metadata": {
        "id": "tuljWOpA1dk0"
      },
      "source": [
        "### Fuel type"
      ]
    },
    {
      "cell_type": "code",
      "metadata": {
        "id": "z-n2nRGV1elb",
        "colab": {
          "base_uri": "https://localhost:8080/",
          "height": 0
        },
        "outputId": "2c9fdde8-a38f-405b-c071-2cb12db8bc23"
      },
      "source": [
        "temp_series = train_features[\"Fuel type\"].value_counts()\n",
        "temp_df = pd.DataFrame(\n",
        "  np.c_[\n",
        "        temp_series.index, \n",
        "        temp_series.to_numpy(), \n",
        "        (temp_series.to_numpy()/train_features.shape[0])*100\n",
        "      ],\n",
        "  columns = [\"Fuel_Type\", \"Value_counts\", \"%age_Value_counts\"]\n",
        ")\n",
        "\n",
        "temp_df"
      ],
      "execution_count": 35,
      "outputs": [
        {
          "output_type": "execute_result",
          "data": {
            "text/html": [
              "<div>\n",
              "<style scoped>\n",
              "    .dataframe tbody tr th:only-of-type {\n",
              "        vertical-align: middle;\n",
              "    }\n",
              "\n",
              "    .dataframe tbody tr th {\n",
              "        vertical-align: top;\n",
              "    }\n",
              "\n",
              "    .dataframe thead th {\n",
              "        text-align: right;\n",
              "    }\n",
              "</style>\n",
              "<table border=\"1\" class=\"dataframe\">\n",
              "  <thead>\n",
              "    <tr style=\"text-align: right;\">\n",
              "      <th></th>\n",
              "      <th>Fuel_Type</th>\n",
              "      <th>Value_counts</th>\n",
              "      <th>%age_Value_counts</th>\n",
              "    </tr>\n",
              "  </thead>\n",
              "  <tbody>\n",
              "    <tr>\n",
              "      <th>0</th>\n",
              "      <td>Petrol</td>\n",
              "      <td>7295</td>\n",
              "      <td>52.6715</td>\n",
              "    </tr>\n",
              "    <tr>\n",
              "      <th>1</th>\n",
              "      <td>Diesel</td>\n",
              "      <td>2937</td>\n",
              "      <td>21.2058</td>\n",
              "    </tr>\n",
              "    <tr>\n",
              "      <th>2</th>\n",
              "      <td>Hybrid</td>\n",
              "      <td>2556</td>\n",
              "      <td>18.4549</td>\n",
              "    </tr>\n",
              "    <tr>\n",
              "      <th>3</th>\n",
              "      <td>LPG</td>\n",
              "      <td>650</td>\n",
              "      <td>4.69314</td>\n",
              "    </tr>\n",
              "    <tr>\n",
              "      <th>4</th>\n",
              "      <td>CNG</td>\n",
              "      <td>356</td>\n",
              "      <td>2.5704</td>\n",
              "    </tr>\n",
              "    <tr>\n",
              "      <th>5</th>\n",
              "      <td>Plug-in Hybrid</td>\n",
              "      <td>56</td>\n",
              "      <td>0.404332</td>\n",
              "    </tr>\n",
              "  </tbody>\n",
              "</table>\n",
              "</div>"
            ],
            "text/plain": [
              "        Fuel_Type Value_counts %age_Value_counts\n",
              "0          Petrol         7295           52.6715\n",
              "1          Diesel         2937           21.2058\n",
              "2          Hybrid         2556           18.4549\n",
              "3             LPG          650           4.69314\n",
              "4             CNG          356            2.5704\n",
              "5  Plug-in Hybrid           56          0.404332"
            ]
          },
          "metadata": {},
          "execution_count": 35
        }
      ]
    },
    {
      "cell_type": "code",
      "metadata": {
        "id": "-9HcsmNA443W",
        "colab": {
          "base_uri": "https://localhost:8080/",
          "height": 0
        },
        "outputId": "97129389-7d8e-461b-de9d-40c135c7906d"
      },
      "source": [
        "fig, ax = plt.subplots(figsize=(8, 5))\n",
        "temp_df[\"%age_Value_counts\"].plot.bar(ax=ax)\n",
        "\n",
        "ax.set_xlabel(\"Fuel Type\", size=15)\n",
        "ax.set_ylabel(\"%age of Occurances\", size=15)\n",
        "ax.set_xticklabels(temp_df[\"Fuel_Type\"])\n",
        "\n",
        "ax.grid()\n",
        "plt.show()"
      ],
      "execution_count": 36,
      "outputs": [
        {
          "output_type": "display_data",
          "data": {
            "image/png": "[encoded data removed]",
            "text/plain": [
              "<Figure size 576x360 with 1 Axes>"
            ]
          },
          "metadata": {
            "needs_background": "light"
          }
        }
      ]
    },
    {
      "cell_type": "markdown",
      "metadata": {
        "id": "4wPNfb866K4y"
      },
      "source": [
        "### Engine volume"
      ]
    },
    {
      "cell_type": "code",
      "metadata": {
        "id": "VZA8j6nW6Lvq",
        "colab": {
          "base_uri": "https://localhost:8080/",
          "height": 0
        },
        "outputId": "8b978160-ea81-4f96-f581-5d546ae97231"
      },
      "source": [
        "turbo_idx = train_features[\"Engine volume\"].str.contains(\"Turbo\")\n",
        "temp_series = train_features[\"Engine volume\"]\n",
        "temp_series = temp_series.str.replace(\" Turbo\", \"\").astype(np.float)\n",
        "\n",
        "temp_df = pd.DataFrame(\n",
        "    np.c_[\n",
        "          temp_series.to_numpy(), \n",
        "          turbo_idx.to_numpy()\n",
        "        ], \n",
        "    columns = [\"Engine_volume\", \"Turbo\"]\n",
        "  )\n",
        "temp_df[\"Turbo\"] = temp_df[\"Turbo\"].astype(np.uint)\n",
        "print(temp_df.shape)\n",
        "temp_df.head()"
      ],
      "execution_count": 37,
      "outputs": [
        {
          "output_type": "stream",
          "name": "stdout",
          "text": [
            "(13850, 2)\n"
          ]
        },
        {
          "output_type": "execute_result",
          "data": {
            "text/html": [
              "<div>\n",
              "<style scoped>\n",
              "    .dataframe tbody tr th:only-of-type {\n",
              "        vertical-align: middle;\n",
              "    }\n",
              "\n",
              "    .dataframe tbody tr th {\n",
              "        vertical-align: top;\n",
              "    }\n",
              "\n",
              "    .dataframe thead th {\n",
              "        text-align: right;\n",
              "    }\n",
              "</style>\n",
              "<table border=\"1\" class=\"dataframe\">\n",
              "  <thead>\n",
              "    <tr style=\"text-align: right;\">\n",
              "      <th></th>\n",
              "      <th>Engine_volume</th>\n",
              "      <th>Turbo</th>\n",
              "    </tr>\n",
              "  </thead>\n",
              "  <tbody>\n",
              "    <tr>\n",
              "      <th>0</th>\n",
              "      <td>1.8</td>\n",
              "      <td>0</td>\n",
              "    </tr>\n",
              "    <tr>\n",
              "      <th>1</th>\n",
              "      <td>3.2</td>\n",
              "      <td>0</td>\n",
              "    </tr>\n",
              "    <tr>\n",
              "      <th>2</th>\n",
              "      <td>1.6</td>\n",
              "      <td>0</td>\n",
              "    </tr>\n",
              "    <tr>\n",
              "      <th>3</th>\n",
              "      <td>2.0</td>\n",
              "      <td>0</td>\n",
              "    </tr>\n",
              "    <tr>\n",
              "      <th>4</th>\n",
              "      <td>2.0</td>\n",
              "      <td>0</td>\n",
              "    </tr>\n",
              "  </tbody>\n",
              "</table>\n",
              "</div>"
            ],
            "text/plain": [
              "   Engine_volume  Turbo\n",
              "0            1.8      0\n",
              "1            3.2      0\n",
              "2            1.6      0\n",
              "3            2.0      0\n",
              "4            2.0      0"
            ]
          },
          "metadata": {},
          "execution_count": 37
        }
      ]
    },
    {
      "cell_type": "code",
      "metadata": {
        "id": "JGq-pOPN9JU6",
        "colab": {
          "base_uri": "https://localhost:8080/"
        },
        "outputId": "0e97f153-47c9-44f9-bf60-174d65706854"
      },
      "source": [
        "temp_df[\"Turbo\"].value_counts()"
      ],
      "execution_count": 38,
      "outputs": [
        {
          "output_type": "execute_result",
          "data": {
            "text/plain": [
              "0    12472\n",
              "1     1378\n",
              "Name: Turbo, dtype: int64"
            ]
          },
          "metadata": {},
          "execution_count": 38
        }
      ]
    },
    {
      "cell_type": "code",
      "metadata": {
        "id": "nkeJJdtaBAYl",
        "colab": {
          "base_uri": "https://localhost:8080/"
        },
        "outputId": "125c7599-5600-46ed-ff0c-822b2b2b78c8"
      },
      "source": [
        "temp_df[temp_df[\"Turbo\"] == 1][\"Engine_volume\"].describe()"
      ],
      "execution_count": 39,
      "outputs": [
        {
          "output_type": "execute_result",
          "data": {
            "text/plain": [
              "count    1378.000000\n",
              "mean        2.272134\n",
              "std         0.781071\n",
              "min         0.200000\n",
              "25%         1.800000\n",
              "50%         2.000000\n",
              "75%         2.700000\n",
              "max         6.300000\n",
              "Name: Engine_volume, dtype: float64"
            ]
          },
          "metadata": {},
          "execution_count": 39
        }
      ]
    },
    {
      "cell_type": "code",
      "metadata": {
        "id": "7oiryQ1RBAUg",
        "colab": {
          "base_uri": "https://localhost:8080/"
        },
        "outputId": "842ff80b-75d4-4264-8f3d-9f04d857bf0b"
      },
      "source": [
        "temp_df[temp_df[\"Turbo\"] == 0][\"Engine_volume\"].describe()"
      ],
      "execution_count": 40,
      "outputs": [
        {
          "output_type": "execute_result",
          "data": {
            "text/plain": [
              "count    12472.000000\n",
              "mean         2.310343\n",
              "std          0.889273\n",
              "min          0.000000\n",
              "25%          1.800000\n",
              "50%          2.000000\n",
              "75%          2.500000\n",
              "max         20.000000\n",
              "Name: Engine_volume, dtype: float64"
            ]
          },
          "metadata": {},
          "execution_count": 40
        }
      ]
    },
    {
      "cell_type": "code",
      "metadata": {
        "id": "epFt1-SD_uCC",
        "colab": {
          "base_uri": "https://localhost:8080/",
          "height": 0
        },
        "outputId": "f5c06d31-7b8e-4701-873d-f8a917a69aeb"
      },
      "source": [
        "fig, ax = plt.subplots(2, 2, figsize=(16, 10))\n",
        "\n",
        "temp_df[temp_df[\"Turbo\"] == 1][\"Engine_volume\"].plot.hist(ax=ax[0, 0])\n",
        "ax[0, 0].set_ylabel(\"Frequency\", size=15)\n",
        "ax[0, 0].set_title(\"Engine Volume for Turbo=1\", size=20)\n",
        "\n",
        "temp_df[temp_df[\"Turbo\"] == 0][\"Engine_volume\"].plot.hist(ax=ax[0, 1], bins=30)\n",
        "ax[0, 1].set_ylabel(\"Frequency\", size=15)\n",
        "ax[0, 1].set_title(\"Engine Volume for Turbo=0\", size=20)\n",
        "\n",
        "temp_df[temp_df[\"Turbo\"] == 1][[\"Engine_volume\"]].boxplot(ax=ax[1, 0])\n",
        "temp_df[temp_df[\"Turbo\"] == 0][[\"Engine_volume\"]].boxplot(ax=ax[1, 1])\n",
        "\n",
        "plt.show()"
      ],
      "execution_count": 41,
      "outputs": [
        {
          "output_type": "display_data",
          "data": {
            "image/png": "[encoded data removed]",
            "text/plain": [
              "<Figure size 1152x720 with 4 Axes>"
            ]
          },
          "metadata": {
            "needs_background": "light"
          }
        }
      ]
    },
    {
      "cell_type": "markdown",
      "metadata": {
        "id": "SLKP1U9iDhKw"
      },
      "source": [
        "### Mileage"
      ]
    },
    {
      "cell_type": "code",
      "metadata": {
        "id": "vHDlo2VEDiQj",
        "colab": {
          "base_uri": "https://localhost:8080/",
          "height": 0
        },
        "outputId": "853b2cf8-9197-49ea-bde2-4f22f1f1a55e"
      },
      "source": [
        "temp_df = pd.DataFrame(\n",
        "  train_features[\"Mileage\"].str.replace(\" km\", \"\").astype(np.uint), \n",
        "  columns = [\"Mileage\"]\n",
        ")\n",
        "print(temp_df.shape)\n",
        "temp_df.head()"
      ],
      "execution_count": 42,
      "outputs": [
        {
          "output_type": "stream",
          "name": "stdout",
          "text": [
            "(13850, 1)\n"
          ]
        },
        {
          "output_type": "execute_result",
          "data": {
            "text/html": [
              "<div>\n",
              "<style scoped>\n",
              "    .dataframe tbody tr th:only-of-type {\n",
              "        vertical-align: middle;\n",
              "    }\n",
              "\n",
              "    .dataframe tbody tr th {\n",
              "        vertical-align: top;\n",
              "    }\n",
              "\n",
              "    .dataframe thead th {\n",
              "        text-align: right;\n",
              "    }\n",
              "</style>\n",
              "<table border=\"1\" class=\"dataframe\">\n",
              "  <thead>\n",
              "    <tr style=\"text-align: right;\">\n",
              "      <th></th>\n",
              "      <th>Mileage</th>\n",
              "    </tr>\n",
              "  </thead>\n",
              "  <tbody>\n",
              "    <tr>\n",
              "      <th>1678</th>\n",
              "      <td>192000</td>\n",
              "    </tr>\n",
              "    <tr>\n",
              "      <th>3431</th>\n",
              "      <td>220000</td>\n",
              "    </tr>\n",
              "    <tr>\n",
              "      <th>14501</th>\n",
              "      <td>140000</td>\n",
              "    </tr>\n",
              "    <tr>\n",
              "      <th>16666</th>\n",
              "      <td>305125</td>\n",
              "    </tr>\n",
              "    <tr>\n",
              "      <th>6858</th>\n",
              "      <td>102313</td>\n",
              "    </tr>\n",
              "  </tbody>\n",
              "</table>\n",
              "</div>"
            ],
            "text/plain": [
              "       Mileage\n",
              "1678    192000\n",
              "3431    220000\n",
              "14501   140000\n",
              "16666   305125\n",
              "6858    102313"
            ]
          },
          "metadata": {},
          "execution_count": 42
        }
      ]
    },
    {
      "cell_type": "code",
      "metadata": {
        "id": "0XMTGl8CF_8b",
        "colab": {
          "base_uri": "https://localhost:8080/"
        },
        "outputId": "c753048b-d935-48cd-83f1-f1b0a0870bab"
      },
      "source": [
        "temp_df[\"Mileage\"].describe()"
      ],
      "execution_count": 43,
      "outputs": [
        {
          "output_type": "execute_result",
          "data": {
            "text/plain": [
              "count    1.385000e+04\n",
              "mean     1.765641e+06\n",
              "std      5.269560e+07\n",
              "min      0.000000e+00\n",
              "25%      7.099550e+04\n",
              "50%      1.270000e+05\n",
              "75%      1.890000e+05\n",
              "max      2.147484e+09\n",
              "Name: Mileage, dtype: float64"
            ]
          },
          "metadata": {},
          "execution_count": 43
        }
      ]
    },
    {
      "cell_type": "code",
      "metadata": {
        "id": "78izjDMQE7SW",
        "colab": {
          "base_uri": "https://localhost:8080/",
          "height": 0
        },
        "outputId": "2eed6990-9f48-4284-ceed-400af0e2e3b0"
      },
      "source": [
        "fig, ax = plt.subplots(2, 2, figsize=(16, 10))\n",
        "\n",
        "temp_df[temp_df[\"Mileage\"] < 8e+05][\"Mileage\"].plot.hist(bins=100, ax=ax[0, 0])\n",
        "ax[0, 0].set_ylabel(\"Frequency\", size=15)\n",
        "ax[0, 0].set_title(\"Mileage < 80,000\", size=20)\n",
        "ax[0, 0].grid()\n",
        "\n",
        "temp_df[temp_df[\"Mileage\"] < 8e+05][[\"Mileage\"]].boxplot(ax=ax[0, 1])\n",
        "ax[0, 1].set_title(\"Mileage < 80,000\", size=20)\n",
        "\n",
        "temp_df[\"Mileage\"].plot.hist(bins=100, ax=ax[1, 0])\n",
        "ax[1, 0].set_ylabel(\"Frequency\", size=15)\n",
        "ax[1, 0].set_title(\"All Mileage values\", size=20)\n",
        "ax[1, 0].grid()\n",
        "\n",
        "temp_df[[\"Mileage\"]].boxplot(ax=ax[1, 1])\n",
        "ax[1, 1].set_title(\"All Mileage values\", size=20)\n",
        "\n",
        "plt.show()"
      ],
      "execution_count": 44,
      "outputs": [
        {
          "output_type": "display_data",
          "data": {
            "image/png": "[encoded data removed]",
            "text/plain": [
              "<Figure size 1152x720 with 4 Axes>"
            ]
          },
          "metadata": {
            "needs_background": "light"
          }
        }
      ]
    },
    {
      "cell_type": "markdown",
      "metadata": {
        "id": "DozbmfEnIqsG"
      },
      "source": [
        "### Gear box type"
      ]
    },
    {
      "cell_type": "code",
      "metadata": {
        "id": "Pc1l3PlCIsFC",
        "colab": {
          "base_uri": "https://localhost:8080/",
          "height": 0
        },
        "outputId": "6051015e-49ee-464d-bea6-f68a0bbcb17d"
      },
      "source": [
        "temp_series  = train_features[\"Gear box type\"].value_counts()\n",
        "temp_df = pd.DataFrame(\n",
        "  np.c_[\n",
        "        temp_series.index,\n",
        "        temp_series.to_numpy(), \n",
        "        (temp_series.to_numpy()/train_features.shape[0])*100\n",
        "  ], \n",
        "  columns=[\"Gear_box_type\", \"Value_counts\", \"%age_Value_counts\"]\n",
        ")\n",
        "temp_df"
      ],
      "execution_count": 45,
      "outputs": [
        {
          "output_type": "execute_result",
          "data": {
            "text/html": [
              "<div>\n",
              "<style scoped>\n",
              "    .dataframe tbody tr th:only-of-type {\n",
              "        vertical-align: middle;\n",
              "    }\n",
              "\n",
              "    .dataframe tbody tr th {\n",
              "        vertical-align: top;\n",
              "    }\n",
              "\n",
              "    .dataframe thead th {\n",
              "        text-align: right;\n",
              "    }\n",
              "</style>\n",
              "<table border=\"1\" class=\"dataframe\">\n",
              "  <thead>\n",
              "    <tr style=\"text-align: right;\">\n",
              "      <th></th>\n",
              "      <th>Gear_box_type</th>\n",
              "      <th>Value_counts</th>\n",
              "      <th>%age_Value_counts</th>\n",
              "    </tr>\n",
              "  </thead>\n",
              "  <tbody>\n",
              "    <tr>\n",
              "      <th>0</th>\n",
              "      <td>Automatic</td>\n",
              "      <td>9734</td>\n",
              "      <td>70.2816</td>\n",
              "    </tr>\n",
              "    <tr>\n",
              "      <th>1</th>\n",
              "      <td>Tiptronic</td>\n",
              "      <td>2243</td>\n",
              "      <td>16.1949</td>\n",
              "    </tr>\n",
              "    <tr>\n",
              "      <th>2</th>\n",
              "      <td>Manual</td>\n",
              "      <td>1340</td>\n",
              "      <td>9.67509</td>\n",
              "    </tr>\n",
              "    <tr>\n",
              "      <th>3</th>\n",
              "      <td>Variator</td>\n",
              "      <td>533</td>\n",
              "      <td>3.84838</td>\n",
              "    </tr>\n",
              "  </tbody>\n",
              "</table>\n",
              "</div>"
            ],
            "text/plain": [
              "  Gear_box_type Value_counts %age_Value_counts\n",
              "0     Automatic         9734           70.2816\n",
              "1     Tiptronic         2243           16.1949\n",
              "2        Manual         1340           9.67509\n",
              "3      Variator          533           3.84838"
            ]
          },
          "metadata": {},
          "execution_count": 45
        }
      ]
    },
    {
      "cell_type": "code",
      "metadata": {
        "id": "mPKmQ0NgIsAa",
        "colab": {
          "base_uri": "https://localhost:8080/",
          "height": 0
        },
        "outputId": "1ae9c681-0dbc-44dc-ea03-2097feb8831e"
      },
      "source": [
        "fig, ax = plt.subplots(figsize=(8, 5))\n",
        "temp_df[\"%age_Value_counts\"].plot.bar(ax=ax)\n",
        "ax.set_xlabel(\"Gear Box Type\", size=15)\n",
        "ax.set_ylabel(\"Frequency\", size=15)\n",
        "ax.set_xticklabels(temp_df[\"Gear_box_type\"])\n",
        "ax.grid()\n",
        "plt.show()"
      ],
      "execution_count": 46,
      "outputs": [
        {
          "output_type": "display_data",
          "data": {
            "image/png": "[encoded data removed]",
            "text/plain": [
              "<Figure size 576x360 with 1 Axes>"
            ]
          },
          "metadata": {
            "needs_background": "light"
          }
        }
      ]
    },
    {
      "cell_type": "markdown",
      "metadata": {
        "id": "l3U54l6yl-gS"
      },
      "source": [
        "### Drive wheels"
      ]
    },
    {
      "cell_type": "code",
      "metadata": {
        "id": "btWD-k__Ir8G",
        "colab": {
          "base_uri": "https://localhost:8080/",
          "height": 0
        },
        "outputId": "6afa8dcc-ad53-491a-c367-ceed5727b242"
      },
      "source": [
        "temp_series = train_features[\"Drive wheels\"].value_counts()\n",
        "temp_df = pd.DataFrame(\n",
        "  np.c_[\n",
        "        temp_series.index,\n",
        "        temp_series.to_numpy(), \n",
        "        (temp_series.to_numpy()/train_features.shape[0])*100\n",
        "  ], \n",
        "  columns=[\"Drive_wheels\", \"Value_counts\", \"%age_Value_counts\"]\n",
        ")\n",
        "temp_df"
      ],
      "execution_count": 47,
      "outputs": [
        {
          "output_type": "execute_result",
          "data": {
            "text/html": [
              "<div>\n",
              "<style scoped>\n",
              "    .dataframe tbody tr th:only-of-type {\n",
              "        vertical-align: middle;\n",
              "    }\n",
              "\n",
              "    .dataframe tbody tr th {\n",
              "        vertical-align: top;\n",
              "    }\n",
              "\n",
              "    .dataframe thead th {\n",
              "        text-align: right;\n",
              "    }\n",
              "</style>\n",
              "<table border=\"1\" class=\"dataframe\">\n",
              "  <thead>\n",
              "    <tr style=\"text-align: right;\">\n",
              "      <th></th>\n",
              "      <th>Drive_wheels</th>\n",
              "      <th>Value_counts</th>\n",
              "      <th>%age_Value_counts</th>\n",
              "    </tr>\n",
              "  </thead>\n",
              "  <tbody>\n",
              "    <tr>\n",
              "      <th>0</th>\n",
              "      <td>Front</td>\n",
              "      <td>9277</td>\n",
              "      <td>66.9819</td>\n",
              "    </tr>\n",
              "    <tr>\n",
              "      <th>1</th>\n",
              "      <td>4x4</td>\n",
              "      <td>2886</td>\n",
              "      <td>20.8375</td>\n",
              "    </tr>\n",
              "    <tr>\n",
              "      <th>2</th>\n",
              "      <td>Rear</td>\n",
              "      <td>1687</td>\n",
              "      <td>12.1805</td>\n",
              "    </tr>\n",
              "  </tbody>\n",
              "</table>\n",
              "</div>"
            ],
            "text/plain": [
              "  Drive_wheels Value_counts %age_Value_counts\n",
              "0        Front         9277           66.9819\n",
              "1          4x4         2886           20.8375\n",
              "2         Rear         1687           12.1805"
            ]
          },
          "metadata": {},
          "execution_count": 47
        }
      ]
    },
    {
      "cell_type": "markdown",
      "metadata": {
        "id": "pCoEVgxpqmiV"
      },
      "source": [
        "### Doors"
      ]
    },
    {
      "cell_type": "code",
      "metadata": {
        "id": "QWq53YUiqnoJ",
        "colab": {
          "base_uri": "https://localhost:8080/"
        },
        "outputId": "c8fc2af1-3bdf-425f-9bee-ffba91d9b684"
      },
      "source": [
        "(train_features[\"Doors\"].value_counts()/train_features.shape[0])*100"
      ],
      "execution_count": 48,
      "outputs": [
        {
          "output_type": "execute_result",
          "data": {
            "text/plain": [
              "04-May    95.220217\n",
              "02-Mar     4.000000\n",
              ">5         0.779783\n",
              "Name: Doors, dtype: float64"
            ]
          },
          "metadata": {},
          "execution_count": 48
        }
      ]
    },
    {
      "cell_type": "markdown",
      "metadata": {
        "id": "lZVu1-M3sVN5"
      },
      "source": [
        "### Wheel"
      ]
    },
    {
      "cell_type": "code",
      "metadata": {
        "id": "zQ_bOF7uqnjQ",
        "colab": {
          "base_uri": "https://localhost:8080/"
        },
        "outputId": "769c053d-b09a-43fc-ccaa-1f1d0cabd369"
      },
      "source": [
        "(train_features[\"Wheel\"].value_counts()/train_features.shape[0])*100"
      ],
      "execution_count": 49,
      "outputs": [
        {
          "output_type": "execute_result",
          "data": {
            "text/plain": [
              "Left wheel          92.281588\n",
              "Right-hand drive     7.718412\n",
              "Name: Wheel, dtype: float64"
            ]
          },
          "metadata": {},
          "execution_count": 49
        }
      ]
    },
    {
      "cell_type": "markdown",
      "metadata": {
        "id": "qJ6m39zTtKJG"
      },
      "source": [
        "### Color"
      ]
    },
    {
      "cell_type": "code",
      "metadata": {
        "id": "Nl5GmrUbtLQK",
        "colab": {
          "base_uri": "https://localhost:8080/",
          "height": 0
        },
        "outputId": "334141e7-46f4-420b-ba76-ca5d9a13f46e"
      },
      "source": [
        "temp_series = train_features[\"Color\"].value_counts()\n",
        "temp_df = pd.DataFrame(\n",
        "  np.c_[\n",
        "        temp_series.index,\n",
        "        temp_series.to_numpy(), \n",
        "        (temp_series.to_numpy()/train_features.shape[0])*100\n",
        "  ], \n",
        "  columns=[\"Color\", \"Value_counts\", \"%age_Value_counts\"]\n",
        ")\n",
        "temp_df"
      ],
      "execution_count": 50,
      "outputs": [
        {
          "output_type": "execute_result",
          "data": {
            "text/html": [
              "<div>\n",
              "<style scoped>\n",
              "    .dataframe tbody tr th:only-of-type {\n",
              "        vertical-align: middle;\n",
              "    }\n",
              "\n",
              "    .dataframe tbody tr th {\n",
              "        vertical-align: top;\n",
              "    }\n",
              "\n",
              "    .dataframe thead th {\n",
              "        text-align: right;\n",
              "    }\n",
              "</style>\n",
              "<table border=\"1\" class=\"dataframe\">\n",
              "  <thead>\n",
              "    <tr style=\"text-align: right;\">\n",
              "      <th></th>\n",
              "      <th>Color</th>\n",
              "      <th>Value_counts</th>\n",
              "      <th>%age_Value_counts</th>\n",
              "    </tr>\n",
              "  </thead>\n",
              "  <tbody>\n",
              "    <tr>\n",
              "      <th>0</th>\n",
              "      <td>Black</td>\n",
              "      <td>3624</td>\n",
              "      <td>26.1661</td>\n",
              "    </tr>\n",
              "    <tr>\n",
              "      <th>1</th>\n",
              "      <td>White</td>\n",
              "      <td>3220</td>\n",
              "      <td>23.2491</td>\n",
              "    </tr>\n",
              "    <tr>\n",
              "      <th>2</th>\n",
              "      <td>Silver</td>\n",
              "      <td>2787</td>\n",
              "      <td>20.1227</td>\n",
              "    </tr>\n",
              "    <tr>\n",
              "      <th>3</th>\n",
              "      <td>Grey</td>\n",
              "      <td>1679</td>\n",
              "      <td>12.1227</td>\n",
              "    </tr>\n",
              "    <tr>\n",
              "      <th>4</th>\n",
              "      <td>Blue</td>\n",
              "      <td>994</td>\n",
              "      <td>7.1769</td>\n",
              "    </tr>\n",
              "    <tr>\n",
              "      <th>5</th>\n",
              "      <td>Red</td>\n",
              "      <td>460</td>\n",
              "      <td>3.3213</td>\n",
              "    </tr>\n",
              "    <tr>\n",
              "      <th>6</th>\n",
              "      <td>Green</td>\n",
              "      <td>233</td>\n",
              "      <td>1.68231</td>\n",
              "    </tr>\n",
              "    <tr>\n",
              "      <th>7</th>\n",
              "      <td>Orange</td>\n",
              "      <td>190</td>\n",
              "      <td>1.37184</td>\n",
              "    </tr>\n",
              "    <tr>\n",
              "      <th>8</th>\n",
              "      <td>Brown</td>\n",
              "      <td>132</td>\n",
              "      <td>0.953069</td>\n",
              "    </tr>\n",
              "    <tr>\n",
              "      <th>9</th>\n",
              "      <td>Carnelian red</td>\n",
              "      <td>119</td>\n",
              "      <td>0.859206</td>\n",
              "    </tr>\n",
              "    <tr>\n",
              "      <th>10</th>\n",
              "      <td>Golden</td>\n",
              "      <td>98</td>\n",
              "      <td>0.707581</td>\n",
              "    </tr>\n",
              "    <tr>\n",
              "      <th>11</th>\n",
              "      <td>Beige</td>\n",
              "      <td>98</td>\n",
              "      <td>0.707581</td>\n",
              "    </tr>\n",
              "    <tr>\n",
              "      <th>12</th>\n",
              "      <td>Sky blue</td>\n",
              "      <td>88</td>\n",
              "      <td>0.635379</td>\n",
              "    </tr>\n",
              "    <tr>\n",
              "      <th>13</th>\n",
              "      <td>Yellow</td>\n",
              "      <td>77</td>\n",
              "      <td>0.555957</td>\n",
              "    </tr>\n",
              "    <tr>\n",
              "      <th>14</th>\n",
              "      <td>Purple</td>\n",
              "      <td>33</td>\n",
              "      <td>0.238267</td>\n",
              "    </tr>\n",
              "    <tr>\n",
              "      <th>15</th>\n",
              "      <td>Pink</td>\n",
              "      <td>18</td>\n",
              "      <td>0.129964</td>\n",
              "    </tr>\n",
              "  </tbody>\n",
              "</table>\n",
              "</div>"
            ],
            "text/plain": [
              "            Color Value_counts %age_Value_counts\n",
              "0           Black         3624           26.1661\n",
              "1           White         3220           23.2491\n",
              "2          Silver         2787           20.1227\n",
              "3            Grey         1679           12.1227\n",
              "4            Blue          994            7.1769\n",
              "5             Red          460            3.3213\n",
              "6           Green          233           1.68231\n",
              "7          Orange          190           1.37184\n",
              "8           Brown          132          0.953069\n",
              "9   Carnelian red          119          0.859206\n",
              "10         Golden           98          0.707581\n",
              "11          Beige           98          0.707581\n",
              "12       Sky blue           88          0.635379\n",
              "13         Yellow           77          0.555957\n",
              "14         Purple           33          0.238267\n",
              "15           Pink           18          0.129964"
            ]
          },
          "metadata": {},
          "execution_count": 50
        }
      ]
    },
    {
      "cell_type": "code",
      "metadata": {
        "id": "UrdtnWTfuVKW",
        "colab": {
          "base_uri": "https://localhost:8080/",
          "height": 0
        },
        "outputId": "fbb482b9-af6f-4cce-b6b3-5f464c9ed747"
      },
      "source": [
        "fig, ax = plt.subplots(figsize=(8, 5))\n",
        "temp_df[\"%age_Value_counts\"].plot.bar(ax=ax)\n",
        "ax.set_xlabel(\"Color\", size=15)\n",
        "ax.set_ylabel(\"Frequency\", size=15)\n",
        "ax.set_xticklabels(temp_df[\"Color\"])\n",
        "ax.grid()\n",
        "plt.show()"
      ],
      "execution_count": 51,
      "outputs": [
        {
          "output_type": "display_data",
          "data": {
            "image/png": "[encoded data removed]",
            "text/plain": [
              "<Figure size 576x360 with 1 Axes>"
            ]
          },
          "metadata": {
            "needs_background": "light"
          }
        }
      ]
    },
    {
      "cell_type": "markdown",
      "metadata": {
        "id": "Kj1zlyI8zL-T"
      },
      "source": [
        "# Exporting datasets after univariate exploration"
      ]
    },
    {
      "cell_type": "code",
      "metadata": {
        "id": "_qDOsn3wyk0U"
      },
      "source": [
        "# train_features.to_csv(\"train_features.csv\", index=False)\n",
        "# train_targets.to_csv(\"train_targets.csv\", index=False)\n",
        "\n",
        "# val_features.to_csv(\"val_features.csv\", index=False)\n",
        "# val_targets.to_csv(\"val_targets.csv\", index=False)\n",
        "\n",
        "# test_features.to_csv(\"test_features.csv\", index=False)\n",
        "# test_targets.to_csv(\"test_targets.csv\", index=False)"
      ],
      "execution_count": 52,
      "outputs": []
    },
    {
      "cell_type": "markdown",
      "metadata": {
        "id": "k7ywACmQikfi"
      },
      "source": [
        "\n",
        "# Notes"
      ]
    },
    {
      "cell_type": "markdown",
      "metadata": {
        "id": "VyQR9YUy8_Ij"
      },
      "source": [
        "## Preliminary EDA"
      ]
    },
    {
      "cell_type": "markdown",
      "metadata": {
        "id": "xfsfMqIrFXGK"
      },
      "source": [
        "- Data has no NAN values in train or test. Need to check whether NANs are represented as dashes or strings."
      ]
    },
    {
      "cell_type": "markdown",
      "metadata": {
        "id": "vRjLvrkUioBe"
      },
      "source": [
        "## EDA for each column (Univariate EDA)\n"
      ]
    },
    {
      "cell_type": "markdown",
      "metadata": {
        "id": "rLnM93T4FZ02"
      },
      "source": [
        "Data is split using train_test_split into train and val sets (80-20 split). All EDA done on train set only"
      ]
    },
    {
      "cell_type": "markdown",
      "metadata": {
        "id": "0C5QFmBuFkhN"
      },
      "source": [
        "### Numerical Data Types"
      ]
    },
    {
      "cell_type": "markdown",
      "metadata": {
        "id": "Bg9Ql6ue9EHB"
      },
      "source": [
        "1. `Prod. year`: Most of the data points come from 2010-2017. Think about depreciation, and how the price of cars reduce over the years.\n",
        "2. `Cylinders`: Convert this to `int` from `float`. Most of the cars have 4 cylinders (>74%), so might not be very useful. Could be used as a categorical feature. Generally, an engine with more cylinders produces more power, while an engine with fewer cylinders gets better fuel economy. Seems like this will have interesting correlations with price.\n",
        "3. `Airbags`: Convert this to `int` from `float`. Not as unbalanced as `Cylinders`. From simple intuition, having more `Cylinders` or `Airbags` seem like factors that can make a car more expensive. Explore this theory in bivariate exploration. However, a car with 7 seats will naturally have more airbags than a car with just 5, or even 2 (for sports cars). So explore this relation as well."
      ]
    },
    {
      "cell_type": "markdown",
      "metadata": {
        "id": "Y3v0wDHCFp9s"
      },
      "source": [
        "### Object Data Type"
      ]
    },
    {
      "cell_type": "markdown",
      "metadata": {
        "id": "aGC1qfPQ9HU6"
      },
      "source": [
        "1. `Levy`: Normally distributed but extremely right skewed. 30% values are Null (`\"-\"`). Find suitable imputation methods for the Null values. High `Levy` intuitively means high price, so maybe outlier removal should not be used here. Explore the approach anyway.\n",
        "2. `Manufacturer`: Most of the manufacturers are highly uncommon. Try to split these into a few categories like common-uncommon, cheap-expensive, etc. instead of using all categories as is. Since there are many categories, the val and test sets may also contain categories not in train set. Handle that.\n",
        "3. `Model`: There are plenty of models. Some are common. Most are rare. Categories like common-uncommon should be used here mostly.  Since there are many categories, the val and test sets may also contain categories not in train set. Handle that.\n",
        "4. `Category`: A few types in this feature are common. But can group these into functional categories like car-suv-van-luxury etc.\n",
        "5. `Leather interior`: Binary variable. Mostly all records are `Yes`.\n",
        "6. `Fuel type`: A few common types. Type of fuel will affect the engine type and so should affect cost. Explore cost relationships with fuel type more.\n",
        "7. `Engine volume`: There are 2 categories - Turbo and no turbo. Check price relations with both. Both are normally distributed but with some outliers.\n",
        "8. `Mileage`: There is a big right skew in this distribution. Need to consider outlier removal, clipping, or normalization etc. Many values are `0`. These could indicate new cars and should be appropriately used in features.\n",
        "9. `Gear box type`: There are a few categories only. Nothing unusual in test and val sets as well. Should be ok to convert into categories and explore further.\n",
        "10. `Drive wheels`: 3 (Unbalanced) categories.\n",
        "11. `Doors`: 3 (Unbalanced) categories.\n",
        "12. `Wheel`: 2 (Unbalanced) categories.\n",
        "13. `Color`: A few categories. But color intuitively does not seem like a great indicator of price. Check it anyway"
      ]
    }
  ]
}