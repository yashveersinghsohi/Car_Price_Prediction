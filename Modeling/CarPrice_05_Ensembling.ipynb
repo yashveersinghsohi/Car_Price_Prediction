{
  "nbformat": 4,
  "nbformat_minor": 0,
  "metadata": {
    "colab": {
      "name": "CarPrice_05_Ensembling.ipynb",
      "provenance": [],
      "collapsed_sections": [],
      "authorship_tag": "ABX9TyOzDYTXpMhxmeQJCKwZAyLg",
      "include_colab_link": true
    },
    "kernelspec": {
      "name": "python3",
      "display_name": "Python 3"
    },
    "language_info": {
      "name": "python"
    }
  },
  "cells": [
    {
      "cell_type": "markdown",
      "metadata": {
        "id": "view-in-github",
        "colab_type": "text"
      },
      "source": [
        "<a href=\"https://colab.research.google.com/github/yashveersinghsohi/Car_Price_Prediction/blob/master/Modeling/CarPrice_05_Ensembling.ipynb\" target=\"_parent\"><img src=\"https://colab.research.google.com/assets/colab-badge.svg\" alt=\"Open In Colab\"/></a>"
      ]
    },
    {
      "cell_type": "markdown",
      "metadata": {
        "id": "PrVBSkGCCOur"
      },
      "source": [
        "# Importing Packages"
      ]
    },
    {
      "cell_type": "code",
      "metadata": {
        "id": "_IcO3AkVCKOz"
      },
      "source": [
        "import pandas as pd\n",
        "import numpy as np\n",
        "import matplotlib.pyplot as plt\n",
        "import seaborn as sns\n",
        "\n",
        "from sklearn.linear_model import LinearRegression\n",
        "from sklearn.neighbors import KNeighborsRegressor\n",
        "from sklearn.ensemble import RandomForestRegressor\n",
        "from xgboost import XGBRegressor\n",
        "from sklearn.ensemble import StackingRegressor\n",
        "\n",
        "from sklearn.metrics import mean_squared_error, mean_squared_log_error\n",
        "from sklearn.preprocessing import StandardScaler\n",
        "from sklearn.model_selection import GridSearchCV\n",
        "\n",
        "import pickle\n",
        "\n",
        "from sklearn.pipeline import make_pipeline"
      ],
      "execution_count": 1,
      "outputs": []
    },
    {
      "cell_type": "markdown",
      "metadata": {
        "id": "LRJWA7GXCVh2"
      },
      "source": [
        "# Data"
      ]
    },
    {
      "cell_type": "code",
      "metadata": {
        "id": "QS4sMs_PCWEe"
      },
      "source": [
        "root_dir = \"https://raw.githubusercontent.com/yashveersinghsohi/Car_Price_Prediction/master/Data/Feature_Engineering_Data/\"\n",
        "\n",
        "train_features_path = root_dir + \"pruned_train_features.csv\"\n",
        "train_targets_path = root_dir + \"train_targets.csv\"\n",
        "\n",
        "val_features_path = root_dir + \"pruned_val_features.csv\"\n",
        "val_targets_path = root_dir + \"val_targets.csv\""
      ],
      "execution_count": 2,
      "outputs": []
    },
    {
      "cell_type": "code",
      "metadata": {
        "colab": {
          "base_uri": "https://localhost:8080/"
        },
        "id": "Gxg-y_JmCYdP",
        "outputId": "351b4793-8bd3-4af8-b8d2-5a18a6399a11"
      },
      "source": [
        "train_features = pd.read_csv(train_features_path)\n",
        "train_targets = pd.read_csv(train_targets_path)\n",
        "\n",
        "val_features = pd.read_csv(val_features_path)\n",
        "val_targets = pd.read_csv(val_targets_path)\n",
        "\n",
        "print(f\"Train Features: {train_features.shape}\")\n",
        "print(f\"Train Targets: {train_targets.shape}\", end=\"\\n\\n\")\n",
        "\n",
        "print(f\"Validation Features: {val_features.shape}\")\n",
        "print(f\"Validation Targets: {val_targets.shape}\", end=\"\\n\\n\")"
      ],
      "execution_count": 3,
      "outputs": [
        {
          "output_type": "stream",
          "name": "stdout",
          "text": [
            "Train Features: (13351, 18)\n",
            "Train Targets: (13351, 1)\n",
            "\n",
            "Validation Features: (3463, 18)\n",
            "Validation Targets: (3463, 1)\n",
            "\n"
          ]
        }
      ]
    },
    {
      "cell_type": "markdown",
      "metadata": {
        "id": "ysu76C6ACaeh"
      },
      "source": [
        "# Models"
      ]
    },
    {
      "cell_type": "code",
      "metadata": {
        "id": "suN5p6XvCbFP"
      },
      "source": [
        "knn = KNeighborsRegressor(\n",
        "    algorithm='brute', \n",
        "    leaf_size=30, \n",
        "    metric='minkowski', \n",
        "    metric_params=None, \n",
        "    n_jobs=None, \n",
        "    n_neighbors=10, \n",
        "    p=1, \n",
        "    weights='distance'\n",
        "  )\n",
        "\n",
        "rf = RandomForestRegressor(\n",
        "    bootstrap=True, ccp_alpha=0.0, criterion='mse',\n",
        "    max_depth=None, max_features=0.7, max_leaf_nodes=None,\n",
        "    max_samples=0.9, min_impurity_decrease=0.0,\n",
        "    min_impurity_split=None, min_samples_leaf=1,\n",
        "    min_samples_split=3, min_weight_fraction_leaf=0.0,\n",
        "    n_estimators=500, n_jobs=None, oob_score=False,\n",
        "    random_state=42, verbose=0, warm_start=False\n",
        "  )\n",
        "\n",
        "xgb = XGBRegressor(\n",
        "    base_score=0.5, booster='gbtree', colsample_bylevel=1,\n",
        "    colsample_bynode=1, colsample_bytree=0.8, gamma=0,\n",
        "    importance_type='gain', learning_rate=0.1, max_delta_step=0,\n",
        "    max_depth=11, min_child_weight=5, missing=None, n_estimators=100,\n",
        "    n_jobs=1, nthread=None, objective='reg:linear', random_state=42,\n",
        "    reg_alpha=0, reg_lambda=1, scale_pos_weight=1, seed=None,\n",
        "    silent=None, subsample=0.8, verbosity=1\n",
        "  )"
      ],
      "execution_count": 4,
      "outputs": []
    },
    {
      "cell_type": "markdown",
      "metadata": {
        "id": "_TeemeloU91X"
      },
      "source": [
        "# Ensemble 1: KNN + Random Forest + XGBoost"
      ]
    },
    {
      "cell_type": "markdown",
      "metadata": {
        "id": "caO7h9v6aAbC"
      },
      "source": [
        "Data"
      ]
    },
    {
      "cell_type": "code",
      "metadata": {
        "id": "zwvPKeGvSeJK"
      },
      "source": [
        "X_train = train_features.to_numpy()\n",
        "y_train = train_targets.to_numpy()\n",
        "X_val = val_features.to_numpy()\n",
        "y_val = val_targets.to_numpy()"
      ],
      "execution_count": 5,
      "outputs": []
    },
    {
      "cell_type": "markdown",
      "metadata": {
        "id": "b6ebZD_MaBIo"
      },
      "source": [
        "Stack"
      ]
    },
    {
      "cell_type": "code",
      "metadata": {
        "colab": {
          "base_uri": "https://localhost:8080/"
        },
        "id": "aHo-YL4fRb8d",
        "outputId": "6e48ac03-bb30-4d23-b45a-61e30aa7322b"
      },
      "source": [
        "level0 = list()\n",
        "level0.append(('knn', make_pipeline(StandardScaler(), knn)))\n",
        "level0.append(('rf', rf))\n",
        "level0.append(('xgb', xgb))\n",
        "\n",
        "level1 = LinearRegression()\n",
        "\n",
        "model = StackingRegressor(estimators=level0, final_estimator=level1, cv=5)\n",
        "\n",
        "model.fit(X_train, y_train)"
      ],
      "execution_count": 6,
      "outputs": [
        {
          "output_type": "stream",
          "name": "stderr",
          "text": [
            "/usr/local/lib/python3.7/dist-packages/sklearn/ensemble/_stacking.py:642: DataConversionWarning: A column-vector y was passed when a 1d array was expected. Please change the shape of y to (n_samples, ), for example using ravel().\n",
            "  y = column_or_1d(y, warn=True)\n"
          ]
        },
        {
          "output_type": "stream",
          "name": "stdout",
          "text": [
            "[20:46:51] WARNING: /workspace/src/objective/regression_obj.cu:152: reg:linear is now deprecated in favor of reg:squarederror.\n",
            "[20:48:20] WARNING: /workspace/src/objective/regression_obj.cu:152: reg:linear is now deprecated in favor of reg:squarederror.\n",
            "[20:48:23] WARNING: /workspace/src/objective/regression_obj.cu:152: reg:linear is now deprecated in favor of reg:squarederror.\n",
            "[20:48:26] WARNING: /workspace/src/objective/regression_obj.cu:152: reg:linear is now deprecated in favor of reg:squarederror.\n",
            "[20:48:29] WARNING: /workspace/src/objective/regression_obj.cu:152: reg:linear is now deprecated in favor of reg:squarederror.\n",
            "[20:48:31] WARNING: /workspace/src/objective/regression_obj.cu:152: reg:linear is now deprecated in favor of reg:squarederror.\n"
          ]
        },
        {
          "output_type": "execute_result",
          "data": {
            "text/plain": [
              "StackingRegressor(cv=5,\n",
              "                  estimators=[('knn',\n",
              "                               Pipeline(memory=None,\n",
              "                                        steps=[('standardscaler',\n",
              "                                                StandardScaler(copy=True,\n",
              "                                                               with_mean=True,\n",
              "                                                               with_std=True)),\n",
              "                                               ('kneighborsregressor',\n",
              "                                                KNeighborsRegressor(algorithm='brute',\n",
              "                                                                    leaf_size=30,\n",
              "                                                                    metric='minkowski',\n",
              "                                                                    metric_params=None,\n",
              "                                                                    n_jobs=None,\n",
              "                                                                    n_neighbors=10,\n",
              "                                                                    p=1,\n",
              "                                                                    weights='distance'))],\n",
              "                                        verbose=False)),\n",
              "                              ('rf',\n",
              "                               RandomForestRegress...\n",
              "                                            max_depth=11, min_child_weight=5,\n",
              "                                            missing=None, n_estimators=100,\n",
              "                                            n_jobs=1, nthread=None,\n",
              "                                            objective='reg:linear',\n",
              "                                            random_state=42, reg_alpha=0,\n",
              "                                            reg_lambda=1, scale_pos_weight=1,\n",
              "                                            seed=None, silent=None,\n",
              "                                            subsample=0.8, verbosity=1))],\n",
              "                  final_estimator=LinearRegression(copy_X=True,\n",
              "                                                   fit_intercept=True,\n",
              "                                                   n_jobs=None,\n",
              "                                                   normalize=False),\n",
              "                  n_jobs=None, passthrough=False, verbose=0)"
            ]
          },
          "metadata": {},
          "execution_count": 6
        }
      ]
    },
    {
      "cell_type": "markdown",
      "metadata": {
        "id": "OQ0sFVx9aCHC"
      },
      "source": [
        "Evaluating Stack"
      ]
    },
    {
      "cell_type": "code",
      "metadata": {
        "colab": {
          "base_uri": "https://localhost:8080/"
        },
        "id": "dCd190acRb5o",
        "outputId": "025232f4-ae42-4654-9d33-da46558b1dc4"
      },
      "source": [
        "train_preds = model.predict(X_train)\n",
        "train_preds = np.where(train_preds>0, train_preds, 0)\n",
        "\n",
        "val_preds = model.predict(X_val)\n",
        "val_preds = np.where(val_preds>0, val_preds, 0)\n",
        "\n",
        "train_rmse = np.sqrt(mean_squared_error(y_true=y_train, y_pred=train_preds))\n",
        "val_rmse = np.sqrt(mean_squared_error(y_true=y_val, y_pred=val_preds))\n",
        "\n",
        "print(f\"Training RMSE: {train_rmse}\")\n",
        "print(f\"Validation RMSE: {val_rmse}\")"
      ],
      "execution_count": 7,
      "outputs": [
        {
          "output_type": "stream",
          "name": "stdout",
          "text": [
            "Training RMSE: 3103.516807806332\n",
            "Validation RMSE: 17330.88987330079\n"
          ]
        }
      ]
    },
    {
      "cell_type": "markdown",
      "metadata": {
        "id": "phCPcD--aDdE"
      },
      "source": [
        "This model performs worse than XGBoost. Let's remove KNN (weakest learner) and try stacking again"
      ]
    },
    {
      "cell_type": "markdown",
      "metadata": {
        "id": "6O1t-dsNVQxE"
      },
      "source": [
        "# Ensemble 2: Random Forest + XGBoost"
      ]
    },
    {
      "cell_type": "markdown",
      "metadata": {
        "id": "SYiIkel4aLMN"
      },
      "source": [
        "Data"
      ]
    },
    {
      "cell_type": "code",
      "metadata": {
        "id": "Lf3ROnUwUC5r"
      },
      "source": [
        "X_train = train_features.to_numpy()\n",
        "y_train = train_targets.to_numpy()\n",
        "X_val = val_features.to_numpy()\n",
        "y_val = val_targets.to_numpy()"
      ],
      "execution_count": 8,
      "outputs": []
    },
    {
      "cell_type": "markdown",
      "metadata": {
        "id": "YSv2GZIBaLw8"
      },
      "source": [
        "Stack"
      ]
    },
    {
      "cell_type": "code",
      "metadata": {
        "colab": {
          "base_uri": "https://localhost:8080/"
        },
        "id": "xZEnBocSV2kq",
        "outputId": "8c80fd33-e8fd-4082-a422-27692ad9188c"
      },
      "source": [
        "level0 = list()\n",
        "level0.append(('rf', rf))\n",
        "level0.append(('xgb', xgb))\n",
        "\n",
        "level1 = LinearRegression()\n",
        "\n",
        "model = StackingRegressor(estimators=level0, final_estimator=level1, cv=5)\n",
        "\n",
        "model.fit(X_train, y_train)"
      ],
      "execution_count": 9,
      "outputs": [
        {
          "output_type": "stream",
          "name": "stderr",
          "text": [
            "/usr/local/lib/python3.7/dist-packages/sklearn/ensemble/_stacking.py:642: DataConversionWarning: A column-vector y was passed when a 1d array was expected. Please change the shape of y to (n_samples, ), for example using ravel().\n",
            "  y = column_or_1d(y, warn=True)\n"
          ]
        },
        {
          "output_type": "stream",
          "name": "stdout",
          "text": [
            "[20:49:03] WARNING: /workspace/src/objective/regression_obj.cu:152: reg:linear is now deprecated in favor of reg:squarederror.\n",
            "[20:50:29] WARNING: /workspace/src/objective/regression_obj.cu:152: reg:linear is now deprecated in favor of reg:squarederror.\n",
            "[20:50:32] WARNING: /workspace/src/objective/regression_obj.cu:152: reg:linear is now deprecated in favor of reg:squarederror.\n",
            "[20:50:35] WARNING: /workspace/src/objective/regression_obj.cu:152: reg:linear is now deprecated in favor of reg:squarederror.\n",
            "[20:50:37] WARNING: /workspace/src/objective/regression_obj.cu:152: reg:linear is now deprecated in favor of reg:squarederror.\n",
            "[20:50:40] WARNING: /workspace/src/objective/regression_obj.cu:152: reg:linear is now deprecated in favor of reg:squarederror.\n"
          ]
        },
        {
          "output_type": "execute_result",
          "data": {
            "text/plain": [
              "StackingRegressor(cv=5,\n",
              "                  estimators=[('rf',\n",
              "                               RandomForestRegressor(bootstrap=True,\n",
              "                                                     ccp_alpha=0.0,\n",
              "                                                     criterion='mse',\n",
              "                                                     max_depth=None,\n",
              "                                                     max_features=0.7,\n",
              "                                                     max_leaf_nodes=None,\n",
              "                                                     max_samples=0.9,\n",
              "                                                     min_impurity_decrease=0.0,\n",
              "                                                     min_impurity_split=None,\n",
              "                                                     min_samples_leaf=1,\n",
              "                                                     min_samples_split=3,\n",
              "                                                     min_weight_fraction_leaf=0.0,\n",
              "                                                     n_estimators=500,\n",
              "                                                     n_jobs=None,\n",
              "                                                     oob_score=False,\n",
              "                                                     random_stat...\n",
              "                                            max_depth=11, min_child_weight=5,\n",
              "                                            missing=None, n_estimators=100,\n",
              "                                            n_jobs=1, nthread=None,\n",
              "                                            objective='reg:linear',\n",
              "                                            random_state=42, reg_alpha=0,\n",
              "                                            reg_lambda=1, scale_pos_weight=1,\n",
              "                                            seed=None, silent=None,\n",
              "                                            subsample=0.8, verbosity=1))],\n",
              "                  final_estimator=LinearRegression(copy_X=True,\n",
              "                                                   fit_intercept=True,\n",
              "                                                   n_jobs=None,\n",
              "                                                   normalize=False),\n",
              "                  n_jobs=None, passthrough=False, verbose=0)"
            ]
          },
          "metadata": {},
          "execution_count": 9
        }
      ]
    },
    {
      "cell_type": "markdown",
      "metadata": {
        "id": "qceGgZRTaNNE"
      },
      "source": [
        "Evaluating Stack"
      ]
    },
    {
      "cell_type": "code",
      "metadata": {
        "colab": {
          "base_uri": "https://localhost:8080/"
        },
        "id": "0H_N4_G4V4gT",
        "outputId": "949d9196-5c12-42eb-c1c7-0f4a316118c6"
      },
      "source": [
        "train_preds = model.predict(X_train)\n",
        "train_preds = np.where(train_preds>0, train_preds, 0)\n",
        "\n",
        "val_preds = model.predict(X_val)\n",
        "val_preds = np.where(val_preds>0, val_preds, 0)\n",
        "\n",
        "train_rmse = np.sqrt(mean_squared_error(y_true=y_train, y_pred=train_preds))\n",
        "val_rmse = np.sqrt(mean_squared_error(y_true=y_val, y_pred=val_preds))\n",
        "\n",
        "print(f\"Training RMSE: {train_rmse}\")\n",
        "print(f\"Validation RMSE: {val_rmse}\")"
      ],
      "execution_count": 10,
      "outputs": [
        {
          "output_type": "stream",
          "name": "stdout",
          "text": [
            "Training RMSE: 3732.12801745847\n",
            "Validation RMSE: 17255.334552412325\n"
          ]
        }
      ]
    },
    {
      "cell_type": "markdown",
      "metadata": {
        "id": "uc8_jC0laPgR"
      },
      "source": [
        "This model performs better than all the base lerners, lets use this for final predictions."
      ]
    },
    {
      "cell_type": "markdown",
      "metadata": {
        "id": "JDuFSGj2aVGV"
      },
      "source": [
        "# Exporting Model"
      ]
    },
    {
      "cell_type": "code",
      "metadata": {
        "id": "kcwPzd3kZCXQ"
      },
      "source": [
        "# # Exporting Model\n",
        "# model_file = 'model.sav'\n",
        "# pickle.dump(model, open(model_file, 'wb'))\n",
        "\n",
        "# # Sanity Check\n",
        "# loaded_model = pickle.load(open(model_file, 'rb'))\n",
        "# np.sqrt(mean_squared_error(y_true=y_val, y_pred=loaded_model.predict(X_val)))"
      ],
      "execution_count": 11,
      "outputs": []
    }
  ]
}