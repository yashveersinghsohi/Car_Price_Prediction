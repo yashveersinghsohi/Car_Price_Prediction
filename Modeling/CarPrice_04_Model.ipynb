{
  "nbformat": 4,
  "nbformat_minor": 0,
  "metadata": {
    "colab": {
      "name": "CarPrice_04_Model.ipynb",
      "provenance": [],
      "authorship_tag": "ABX9TyPCcrGQirKA9bMKrJzUbZGg",
      "include_colab_link": true
    },
    "kernelspec": {
      "name": "python3",
      "display_name": "Python 3"
    },
    "language_info": {
      "name": "python"
    }
  },
  "cells": [
    {
      "cell_type": "markdown",
      "metadata": {
        "id": "view-in-github",
        "colab_type": "text"
      },
      "source": [
        "<a href=\"https://colab.research.google.com/github/yashveersinghsohi/Car_Price_Prediction/blob/master/Modeling/CarPrice_04_Model.ipynb\" target=\"_parent\"><img src=\"https://colab.research.google.com/assets/colab-badge.svg\" alt=\"Open In Colab\"/></a>"
      ]
    },
    {
      "cell_type": "markdown",
      "metadata": {
        "id": "HJLNE_VrHq5w"
      },
      "source": [
        "# Importing packages"
      ]
    },
    {
      "cell_type": "code",
      "metadata": {
        "colab": {
          "base_uri": "https://localhost:8080/"
        },
        "id": "DgLSwUVaHk1J",
        "outputId": "982c1538-2628-4eb2-95e1-654650d3e65f"
      },
      "source": [
        "import pandas as pd\n",
        "import numpy as np\n",
        "import matplotlib.pyplot as plt\n",
        "import seaborn as sns\n",
        "\n",
        "from sklearn.linear_model import (\n",
        "    LinearRegression, \n",
        "    Lasso, \n",
        "    Ridge, \n",
        "    ElasticNet\n",
        "  )\n",
        "from sklearn.neighbors import KNeighborsRegressor\n",
        "from sklearn.svm import SVR\n",
        "from sklearn.tree import DecisionTreeRegressor\n",
        "from sklearn.ensemble import RandomForestRegressor\n",
        "from sklearn.ensemble import GradientBoostingRegressor\n",
        "from xgboost import XGBRegressor\n",
        "\n",
        "from sklearn.metrics import mean_squared_error\n",
        "from sklearn.preprocessing import StandardScaler\n",
        "from sklearn.model_selection import GridSearchCV\n",
        "\n",
        "import pickle\n",
        "from sklearn.externals import joblib"
      ],
      "execution_count": 64,
      "outputs": [
        {
          "output_type": "stream",
          "name": "stderr",
          "text": [
            "/usr/local/lib/python3.7/dist-packages/sklearn/externals/joblib/__init__.py:15: FutureWarning: sklearn.externals.joblib is deprecated in 0.21 and will be removed in 0.23. Please import this functionality directly from joblib, which can be installed with: pip install joblib. If this warning is raised when loading pickled models, you may need to re-serialize those models with scikit-learn 0.21+.\n",
            "  warnings.warn(msg, category=FutureWarning)\n"
          ]
        }
      ]
    },
    {
      "cell_type": "markdown",
      "metadata": {
        "id": "egJxIU5MJAhx"
      },
      "source": [
        "# Data"
      ]
    },
    {
      "cell_type": "code",
      "metadata": {
        "id": "AK-Tv2XUI_kF"
      },
      "source": [
        "root_dir = \"https://raw.githubusercontent.com/yashveersinghsohi/Car_Price_Prediction/master/Data/Feature_Engineering_Data/\"\n",
        "\n",
        "train_features_path = root_dir + \"pruned_train_features.csv\"\n",
        "train_targets_path = root_dir + \"train_targets.csv\"\n",
        "\n",
        "val_features_path = root_dir + \"pruned_val_features.csv\"\n",
        "val_targets_path = root_dir + \"val_targets.csv\""
      ],
      "execution_count": 2,
      "outputs": []
    },
    {
      "cell_type": "code",
      "metadata": {
        "colab": {
          "base_uri": "https://localhost:8080/"
        },
        "id": "6yQcvovjLoBd",
        "outputId": "dfb66306-40df-44bf-ab8b-145de2494874"
      },
      "source": [
        "train_features = pd.read_csv(train_features_path)\n",
        "train_targets = pd.read_csv(train_targets_path)\n",
        "\n",
        "val_features = pd.read_csv(val_features_path)\n",
        "val_targets = pd.read_csv(val_targets_path)\n",
        "\n",
        "print(f\"Train Features: {train_features.shape}\")\n",
        "print(f\"Train Targets: {train_targets.shape}\", end=\"\\n\\n\")\n",
        "\n",
        "print(f\"Validation Features: {val_features.shape}\")\n",
        "print(f\"Validation Targets: {val_targets.shape}\", end=\"\\n\\n\")"
      ],
      "execution_count": 3,
      "outputs": [
        {
          "output_type": "stream",
          "name": "stdout",
          "text": [
            "Train Features: (13351, 18)\n",
            "Train Targets: (13351, 1)\n",
            "\n",
            "Validation Features: (3463, 18)\n",
            "Validation Targets: (3463, 1)\n",
            "\n"
          ]
        }
      ]
    },
    {
      "cell_type": "markdown",
      "metadata": {
        "id": "rbb9cnwyL0BP"
      },
      "source": [
        "# Models"
      ]
    },
    {
      "cell_type": "markdown",
      "metadata": {
        "id": "evIwqR9HPBXF"
      },
      "source": [
        "## Linear Models"
      ]
    },
    {
      "cell_type": "markdown",
      "metadata": {
        "id": "PX2Oo3n_Q3Qk"
      },
      "source": [
        "Data"
      ]
    },
    {
      "cell_type": "code",
      "metadata": {
        "id": "xzzs4gpSQQPv"
      },
      "source": [
        "X_train = train_features.to_numpy()\n",
        "y_train = train_targets.to_numpy().ravel()\n",
        "X_val = val_features.to_numpy()\n",
        "y_val = val_targets.to_numpy().ravel()"
      ],
      "execution_count": 18,
      "outputs": []
    },
    {
      "cell_type": "markdown",
      "metadata": {
        "id": "myfskS-8ag2S"
      },
      "source": [
        "Feature Scaling"
      ]
    },
    {
      "cell_type": "code",
      "metadata": {
        "id": "8xrGQI8kaiMX"
      },
      "source": [
        "scaler = StandardScaler()\n",
        "scaler.fit(X_train)\n",
        "\n",
        "X_train_scaled = scaler.transform(X_train)\n",
        "X_val_scaled = scaler.transform(X_val)"
      ],
      "execution_count": 19,
      "outputs": []
    },
    {
      "cell_type": "markdown",
      "metadata": {
        "id": "0WO3aDTrQ36Q"
      },
      "source": [
        "Model definitions"
      ]
    },
    {
      "cell_type": "code",
      "metadata": {
        "id": "CS0O6Xh6PAqN"
      },
      "source": [
        "lin_reg = LinearRegression()\n",
        "lasso_reg = Lasso(random_state=42)\n",
        "ridge_reg = Ridge(random_state=42)\n",
        "elastic_reg = ElasticNet(random_state=42)"
      ],
      "execution_count": 20,
      "outputs": []
    },
    {
      "cell_type": "markdown",
      "metadata": {
        "id": "xL_Ka5e9Q5fY"
      },
      "source": [
        "Training"
      ]
    },
    {
      "cell_type": "code",
      "metadata": {
        "colab": {
          "base_uri": "https://localhost:8080/"
        },
        "id": "jnXE-QkaQN8O",
        "outputId": "23102f64-28bb-4672-f2d1-6b7f1a6e3213"
      },
      "source": [
        "lin_reg.fit(X_train_scaled, y_train)\n",
        "lasso_reg.fit(X_train_scaled, y_train)\n",
        "ridge_reg.fit(X_train_scaled, y_train)\n",
        "elastic_reg.fit(X_train_scaled, y_train)"
      ],
      "execution_count": 21,
      "outputs": [
        {
          "output_type": "execute_result",
          "data": {
            "text/plain": [
              "ElasticNet(alpha=1.0, copy_X=True, fit_intercept=True, l1_ratio=0.5,\n",
              "           max_iter=1000, normalize=False, positive=False, precompute=False,\n",
              "           random_state=42, selection='cyclic', tol=0.0001, warm_start=False)"
            ]
          },
          "metadata": {},
          "execution_count": 21
        }
      ]
    },
    {
      "cell_type": "markdown",
      "metadata": {
        "id": "y-LMJ3HQRiNh"
      },
      "source": [
        "Evaluating"
      ]
    },
    {
      "cell_type": "code",
      "metadata": {
        "colab": {
          "base_uri": "https://localhost:8080/"
        },
        "id": "pDjrCtimTwi8",
        "outputId": "8c4f606e-6ba9-4664-a166-e4030bd6e5b6"
      },
      "source": [
        "lin_reg_preds_train = lin_reg.predict(X_train_scaled)\n",
        "lasso_reg_preds_train = lasso_reg.predict(X_train_scaled)\n",
        "ridge_reg_preds_train = ridge_reg.predict(X_train_scaled)\n",
        "elastic_reg_preds_train = elastic_reg.predict(X_train_scaled)\n",
        "\n",
        "lin_reg_rmse_train = np.sqrt(mean_squared_error(y_true=y_train, y_pred=lin_reg_preds_train))\n",
        "lasso_reg_rmse_train = np.sqrt(mean_squared_error(y_true=y_train, y_pred=lasso_reg_preds_train))\n",
        "ridge_reg_rmse_tarin = np.sqrt(mean_squared_error(y_true=y_train, y_pred=ridge_reg_preds_train))\n",
        "elastic_reg_rmse_train = np.sqrt(mean_squared_error(y_true=y_train, y_pred=elastic_reg_preds_train))\n",
        "\n",
        "print(f\"Linear Regression training RMSE: {lin_reg_rmse_train}\")\n",
        "print(f\"Lasso Regression training RMSE: {lasso_reg_rmse_train}\")\n",
        "print(f\"Ridge Regression training RMSE: {ridge_reg_rmse_tarin}\")\n",
        "print(f\"Elastic Net Regression training RMSE: {elastic_reg_rmse_train}\")"
      ],
      "execution_count": 37,
      "outputs": [
        {
          "output_type": "stream",
          "name": "stdout",
          "text": [
            "Linear Regression training RMSE: 12809.927242521782\n",
            "Lasso Regression training RMSE: 12809.93868180188\n",
            "Ridge Regression training RMSE: 12809.934337297578\n",
            "Elastic Net Regression training RMSE: 13325.71355631917\n"
          ]
        }
      ]
    },
    {
      "cell_type": "code",
      "metadata": {
        "colab": {
          "base_uri": "https://localhost:8080/"
        },
        "id": "iFmWuyf_RjTL",
        "outputId": "532eef8c-0dfb-4e4c-c1c6-3317d2b0cb8e"
      },
      "source": [
        "lin_reg_preds_val = lin_reg.predict(X_val_scaled)\n",
        "lasso_reg_preds_val = lasso_reg.predict(X_val_scaled)\n",
        "ridge_reg_preds_val = ridge_reg.predict(X_val_scaled)\n",
        "elastic_reg_preds_val = elastic_reg.predict(X_val_scaled)\n",
        "\n",
        "lin_reg_rmse_val = np.sqrt(mean_squared_error(y_true=y_val, y_pred=lin_reg_preds_val))\n",
        "lasso_reg_rmse_val = np.sqrt(mean_squared_error(y_true=y_val, y_pred=lasso_reg_preds_val))\n",
        "ridge_reg_rmse_val = np.sqrt(mean_squared_error(y_true=y_val, y_pred=ridge_reg_preds_val))\n",
        "elastic_reg_rmse_val = np.sqrt(mean_squared_error(y_true=y_val, y_pred=elastic_reg_preds_val))\n",
        "\n",
        "print(f\"Linear Regression validation RMSE: {lin_reg_rmse_val}\")\n",
        "print(f\"Lasso Regression validation RMSE: {lasso_reg_rmse_val}\")\n",
        "print(f\"Ridge Regression validation RMSE: {ridge_reg_rmse_val}\")\n",
        "print(f\"Elastic Net Regression validation RMSE: {elastic_reg_rmse_val}\")"
      ],
      "execution_count": 38,
      "outputs": [
        {
          "output_type": "stream",
          "name": "stdout",
          "text": [
            "Linear Regression validation RMSE: 1127556.058065489\n",
            "Lasso Regression validation RMSE: 1128736.3865379978\n",
            "Ridge Regression validation RMSE: 1128982.8820277965\n",
            "Elastic Net Regression validation RMSE: 902421.277033476\n"
          ]
        }
      ]
    },
    {
      "cell_type": "markdown",
      "metadata": {
        "id": "2uY_r1n9fd5P"
      },
      "source": [
        "## KNN Regression"
      ]
    },
    {
      "cell_type": "markdown",
      "metadata": {
        "id": "CJgwa893fi9e"
      },
      "source": [
        "Data"
      ]
    },
    {
      "cell_type": "code",
      "metadata": {
        "id": "F2po5HIffgS_"
      },
      "source": [
        "X_train = train_features.to_numpy()\n",
        "y_train = train_targets.to_numpy().ravel()\n",
        "X_val = val_features.to_numpy()\n",
        "y_val = val_targets.to_numpy().ravel()"
      ],
      "execution_count": 39,
      "outputs": []
    },
    {
      "cell_type": "markdown",
      "metadata": {
        "id": "YjBNce6efll0"
      },
      "source": [
        "Feature Scaling"
      ]
    },
    {
      "cell_type": "code",
      "metadata": {
        "id": "v4M5x2ErfgQm"
      },
      "source": [
        "scaler = StandardScaler()\n",
        "scaler.fit(X_train)\n",
        "\n",
        "X_train_scaled = scaler.transform(X_train)\n",
        "X_val_scaled = scaler.transform(X_val)"
      ],
      "execution_count": 40,
      "outputs": []
    },
    {
      "cell_type": "markdown",
      "metadata": {
        "id": "KgfZP4Q9fodv"
      },
      "source": [
        "Model Definition"
      ]
    },
    {
      "cell_type": "code",
      "metadata": {
        "id": "_POHQ691fm_B"
      },
      "source": [
        "knn_reg = KNeighborsRegressor(n_jobs=-1, n_neighbors=5)"
      ],
      "execution_count": 41,
      "outputs": []
    },
    {
      "cell_type": "markdown",
      "metadata": {
        "id": "fM7KgCVzfpdD"
      },
      "source": [
        "Training"
      ]
    },
    {
      "cell_type": "code",
      "metadata": {
        "colab": {
          "base_uri": "https://localhost:8080/"
        },
        "id": "7TTbnpB5fm8_",
        "outputId": "cfef480e-d7c1-423e-99c0-0d2fefdb339e"
      },
      "source": [
        "knn_reg.fit(X_train_scaled, y_train)"
      ],
      "execution_count": 42,
      "outputs": [
        {
          "output_type": "execute_result",
          "data": {
            "text/plain": [
              "KNeighborsRegressor(algorithm='auto', leaf_size=30, metric='minkowski',\n",
              "                    metric_params=None, n_jobs=-1, n_neighbors=5, p=2,\n",
              "                    weights='uniform')"
            ]
          },
          "metadata": {},
          "execution_count": 42
        }
      ]
    },
    {
      "cell_type": "markdown",
      "metadata": {
        "id": "SFLpxexAgNKE"
      },
      "source": [
        "Evaluation"
      ]
    },
    {
      "cell_type": "code",
      "metadata": {
        "colab": {
          "base_uri": "https://localhost:8080/"
        },
        "id": "FAR-djzvfm6x",
        "outputId": "3f0693fc-97fc-4448-e638-8bd48b5d4a2b"
      },
      "source": [
        "knn_train_preds = knn_reg.predict(X_train_scaled)\n",
        "knn_train_rmse = np.sqrt(mean_squared_error(y_true=y_train, y_pred=knn_train_preds))\n",
        "print(f\"KNN Training RMSE: {knn_train_rmse}\")\n",
        "\n",
        "knn_val_preds = knn_reg.predict(X_val_scaled)\n",
        "knn_val_rmse = np.sqrt(mean_squared_error(y_true=y_val, y_pred=knn_val_preds))\n",
        "print(f\"KNN Training RMSE: {knn_val_rmse}\")"
      ],
      "execution_count": 43,
      "outputs": [
        {
          "output_type": "stream",
          "name": "stdout",
          "text": [
            "KNN Training RMSE: 7005.565015467748\n",
            "KNN Training RMSE: 18534.293812885404\n"
          ]
        }
      ]
    },
    {
      "cell_type": "markdown",
      "metadata": {
        "id": "lbbhvomPg37W"
      },
      "source": [
        "Hyperparameter tuning"
      ]
    },
    {
      "cell_type": "code",
      "metadata": {
        "id": "iCxYncCog8KQ"
      },
      "source": [
        "# Sweep 1\n",
        "# knn_params = {\n",
        "#     \"n_neighbors\": [2, 3, 4, 5, 6, 7, 8, 9, 10],\n",
        "#     \"weights\": [\"uniform\", \"distance\"],\n",
        "#     \"algorithm\": [\"auto\", \"ball_tree\", \"kd_tree\", \"brute\"]\n",
        "# }\n",
        "\n",
        "# Sweep 2\n",
        "# knn_params = {\n",
        "#     \"n_neighbors\": [10, 12, 15, 17, 20],\n",
        "#     \"weights\": [\"distance\"],\n",
        "#     \"algorithm\": [\"brute\"]\n",
        "# }\n",
        "\n",
        "# Sweep 3\n",
        "knn_params = {\n",
        "    \"n_neighbors\": [9, 10, 11],\n",
        "    \"weights\": [\"distance\"],\n",
        "    \"algorithm\": [\"brute\"]\n",
        "}\n",
        "\n",
        "knn_grid = GridSearchCV(\n",
        "    estimator=KNeighborsRegressor(), \n",
        "    param_grid=knn_params, \n",
        "    scoring=\"neg_mean_squared_error\", \n",
        "    n_jobs=-1, \n",
        "    cv=3, \n",
        "    verbose=1\n",
        "  )"
      ],
      "execution_count": 59,
      "outputs": []
    },
    {
      "cell_type": "code",
      "metadata": {
        "colab": {
          "base_uri": "https://localhost:8080/"
        },
        "id": "vBbPzBiZg8If",
        "outputId": "fffb8448-cea4-4678-8309-2e31bbdc4c6e"
      },
      "source": [
        "knn_grid.fit(X_train_scaled, y_train)"
      ],
      "execution_count": 60,
      "outputs": [
        {
          "output_type": "stream",
          "name": "stdout",
          "text": [
            "Fitting 3 folds for each of 3 candidates, totalling 9 fits\n"
          ]
        },
        {
          "output_type": "stream",
          "name": "stderr",
          "text": [
            "[Parallel(n_jobs=-1)]: Using backend LokyBackend with 2 concurrent workers.\n",
            "[Parallel(n_jobs=-1)]: Done   9 out of   9 | elapsed:    5.7s finished\n"
          ]
        },
        {
          "output_type": "execute_result",
          "data": {
            "text/plain": [
              "GridSearchCV(cv=3, error_score=nan,\n",
              "             estimator=KNeighborsRegressor(algorithm='auto', leaf_size=30,\n",
              "                                           metric='minkowski',\n",
              "                                           metric_params=None, n_jobs=None,\n",
              "                                           n_neighbors=5, p=2,\n",
              "                                           weights='uniform'),\n",
              "             iid='deprecated', n_jobs=-1,\n",
              "             param_grid={'algorithm': ['brute'], 'n_neighbors': [9, 10, 11],\n",
              "                         'weights': ['distance']},\n",
              "             pre_dispatch='2*n_jobs', refit=True, return_train_score=False,\n",
              "             scoring='neg_mean_squared_error', verbose=1)"
            ]
          },
          "metadata": {},
          "execution_count": 60
        }
      ]
    },
    {
      "cell_type": "code",
      "metadata": {
        "colab": {
          "base_uri": "https://localhost:8080/"
        },
        "id": "vG2m-Mj9g8GX",
        "outputId": "5c5f118d-febe-4c7c-a54f-f24860ca381c"
      },
      "source": [
        "knn_grid.best_estimator_"
      ],
      "execution_count": 57,
      "outputs": [
        {
          "output_type": "execute_result",
          "data": {
            "text/plain": [
              "KNeighborsRegressor(algorithm='brute', leaf_size=30, metric='minkowski',\n",
              "                    metric_params=None, n_jobs=None, n_neighbors=10, p=1,\n",
              "                    weights='distance')"
            ]
          },
          "metadata": {},
          "execution_count": 57
        }
      ]
    },
    {
      "cell_type": "code",
      "metadata": {
        "colab": {
          "base_uri": "https://localhost:8080/"
        },
        "id": "QkGGqo8QjDYI",
        "outputId": "eae4e4b9-97b7-4565-de0f-7949bf493954"
      },
      "source": [
        "knn_best = knn_grid.best_estimator_\n",
        "\n",
        "knn_best_train_preds = knn_best.predict(X_train_scaled)\n",
        "knn_best_val_preds = knn_best.predict(X_val_scaled)\n",
        "\n",
        "knn_best_train_rmse = np.sqrt(mean_squared_error(y_true=y_train, y_pred=knn_best_train_preds))\n",
        "knn_best_val_rmse = np.sqrt(mean_squared_error(y_true=y_val, y_pred=knn_best_val_preds))\n",
        "\n",
        "print(f\"KNN Best Train RMSE: {knn_best_train_rmse}\")\n",
        "print(f\"KNN Best Validation RMSE: {knn_best_val_rmse}\")"
      ],
      "execution_count": 61,
      "outputs": [
        {
          "output_type": "stream",
          "name": "stdout",
          "text": [
            "KNN Best Train RMSE: 1697.3999611902038\n",
            "KNN Best Validation RMSE: 17978.053890238072\n"
          ]
        }
      ]
    },
    {
      "cell_type": "markdown",
      "metadata": {
        "id": "NLHa_k2Xmj_C"
      },
      "source": [
        "Exporting Best KNN Model"
      ]
    },
    {
      "cell_type": "code",
      "metadata": {
        "colab": {
          "base_uri": "https://localhost:8080/"
        },
        "id": "NNP2RhMNmlsZ",
        "outputId": "c72a18f7-71dd-4b9d-f6f4-08004a6bd533"
      },
      "source": [
        "# Exporting Model\n",
        "knn_best_model_file = 'knn_best.sav'\n",
        "pickle.dump(knn_best, open(knn_best_model_file, 'wb'))\n",
        "\n",
        "# Sanity Check\n",
        "loaded_model = pickle.load(open(knn_best_model_file, 'rb'))\n",
        "np.sqrt(mean_squared_error(y_true=y_val, y_pred=loaded_model.predict(X_val_scaled)))"
      ],
      "execution_count": 67,
      "outputs": [
        {
          "output_type": "execute_result",
          "data": {
            "text/plain": [
              "17978.053890238072"
            ]
          },
          "metadata": {},
          "execution_count": 67
        }
      ]
    },
    {
      "cell_type": "markdown",
      "metadata": {
        "id": "PcJhbyiPof7s"
      },
      "source": [
        "## SVM"
      ]
    },
    {
      "cell_type": "markdown",
      "metadata": {
        "id": "l19NTO4n1dco"
      },
      "source": [
        "Data"
      ]
    },
    {
      "cell_type": "code",
      "metadata": {
        "id": "pYjQ6omY1ljZ"
      },
      "source": [
        "X_train = train_features.to_numpy()\n",
        "y_train = train_targets.to_numpy().ravel()\n",
        "X_val = val_features.to_numpy()\n",
        "y_val = val_targets.to_numpy().ravel()"
      ],
      "execution_count": 69,
      "outputs": []
    },
    {
      "cell_type": "markdown",
      "metadata": {
        "id": "HkCwk0dE1eW8"
      },
      "source": [
        "Feature Scaling"
      ]
    },
    {
      "cell_type": "code",
      "metadata": {
        "id": "sngDzZ731l8T"
      },
      "source": [
        "scaler = StandardScaler()\n",
        "scaler.fit(X_train)\n",
        "\n",
        "X_train_scaled = scaler.transform(X_train)\n",
        "X_val_scaled = scaler.transform(X_val)"
      ],
      "execution_count": 70,
      "outputs": []
    },
    {
      "cell_type": "markdown",
      "metadata": {
        "id": "n9fTUMSe1fRQ"
      },
      "source": [
        "Model Definition"
      ]
    },
    {
      "cell_type": "code",
      "metadata": {
        "id": "V5rGtuXiog6Z"
      },
      "source": [
        "svm_reg = SVR()"
      ],
      "execution_count": 71,
      "outputs": []
    },
    {
      "cell_type": "markdown",
      "metadata": {
        "id": "y06qV2aP1geU"
      },
      "source": [
        "Training"
      ]
    },
    {
      "cell_type": "code",
      "metadata": {
        "colab": {
          "base_uri": "https://localhost:8080/"
        },
        "id": "hSGggnNXog4Q",
        "outputId": "e87b24f1-d4e8-4558-e963-6489235d639c"
      },
      "source": [
        "svm_reg.fit(X_train_scaled, y_train)"
      ],
      "execution_count": 72,
      "outputs": [
        {
          "output_type": "execute_result",
          "data": {
            "text/plain": [
              "SVR(C=1.0, cache_size=200, coef0=0.0, degree=3, epsilon=0.1, gamma='scale',\n",
              "    kernel='rbf', max_iter=-1, shrinking=True, tol=0.001, verbose=False)"
            ]
          },
          "metadata": {},
          "execution_count": 72
        }
      ]
    },
    {
      "cell_type": "markdown",
      "metadata": {
        "id": "7YXo7VFC1hpD"
      },
      "source": [
        "Evaluation"
      ]
    },
    {
      "cell_type": "code",
      "metadata": {
        "colab": {
          "base_uri": "https://localhost:8080/"
        },
        "id": "IALWzqRS1i_5",
        "outputId": "804c4443-3e59-4930-87b6-c7845452070a"
      },
      "source": [
        "svm_train_preds = svm_reg.predict(X_train_scaled)\n",
        "svm_train_rmse = np.sqrt(mean_squared_error(y_true=y_train, y_pred=svm_train_preds))\n",
        "print(f\"SVM Training RMSE: {svm_train_rmse}\")\n",
        "\n",
        "svm_val_preds = svm_reg.predict(X_val_scaled)\n",
        "svm_val_rmse = np.sqrt(mean_squared_error(y_true=y_val, y_pred=svm_val_preds))\n",
        "print(f\"SVM Training RMSE: {svm_val_rmse}\")"
      ],
      "execution_count": 85,
      "outputs": [
        {
          "output_type": "stream",
          "name": "stdout",
          "text": [
            "SVM Training RMSE: 15749.584300446493\n",
            "SVM Training RMSE: 23000.83099583255\n"
          ]
        }
      ]
    },
    {
      "cell_type": "markdown",
      "metadata": {
        "id": "M7WXMmdb1jUX"
      },
      "source": [
        "Hyperparameter Tuning"
      ]
    },
    {
      "cell_type": "code",
      "metadata": {
        "id": "cA4fQOyK1k-u"
      },
      "source": [
        "# Sweep 1\n",
        "# svm_params = {\n",
        "#     \"gamma\": [\"scale\", \"auto\"],\n",
        "#     \"C\": [0.1, 1, 10]\n",
        "# }\n",
        "\n",
        "# Sweep 2\n",
        "# svm_params = {\n",
        "#     \"gamma\": [\"scale\"],\n",
        "#     \"C\": [5, 10, 15]\n",
        "# }\n",
        "\n",
        "# Sweep 3\n",
        "# svm_params = {\n",
        "#     \"gamma\": [\"scale\"],\n",
        "#     \"C\": [15, 20, 25, 30]\n",
        "# }\n",
        "\n",
        "# Sweep 4\n",
        "# svm_params = {\n",
        "#     \"gamma\": [\"scale\"],\n",
        "#     \"C\": [30, 40, 50]\n",
        "# }\n",
        "\n",
        "# Sweep 5\n",
        "# svm_params = {\n",
        "#     \"gamma\": [\"scale\"],\n",
        "#     \"C\": [50, 75, 100]\n",
        "# }\n",
        "\n",
        "# Sweep 6\n",
        "svm_params = {\n",
        "    \"gamma\": [\"scale\"],\n",
        "    \"C\": [100, 150, 200]\n",
        "}\n",
        "\n",
        "svm_grid = GridSearchCV(\n",
        "    estimator=SVR(), \n",
        "    param_grid=svm_params, \n",
        "    scoring=\"neg_mean_squared_error\", \n",
        "    n_jobs=-1, \n",
        "    cv=3, \n",
        "    verbose=2\n",
        "  )"
      ],
      "execution_count": 98,
      "outputs": []
    },
    {
      "cell_type": "code",
      "metadata": {
        "colab": {
          "base_uri": "https://localhost:8080/"
        },
        "id": "hJuL3E9z2oKk",
        "outputId": "e0769b25-695d-400b-d241-4c0e5bcfbc3d"
      },
      "source": [
        "svm_grid.fit(X_train_scaled, y_train)"
      ],
      "execution_count": 99,
      "outputs": [
        {
          "output_type": "stream",
          "name": "stdout",
          "text": [
            "Fitting 3 folds for each of 3 candidates, totalling 9 fits\n"
          ]
        },
        {
          "output_type": "stream",
          "name": "stderr",
          "text": [
            "[Parallel(n_jobs=-1)]: Using backend LokyBackend with 2 concurrent workers.\n",
            "[Parallel(n_jobs=-1)]: Done   9 out of   9 | elapsed:   55.5s finished\n"
          ]
        },
        {
          "output_type": "execute_result",
          "data": {
            "text/plain": [
              "GridSearchCV(cv=3, error_score=nan,\n",
              "             estimator=SVR(C=1.0, cache_size=200, coef0=0.0, degree=3,\n",
              "                           epsilon=0.1, gamma='scale', kernel='rbf',\n",
              "                           max_iter=-1, shrinking=True, tol=0.001,\n",
              "                           verbose=False),\n",
              "             iid='deprecated', n_jobs=-1,\n",
              "             param_grid={'C': [100, 150, 200], 'gamma': ['scale']},\n",
              "             pre_dispatch='2*n_jobs', refit=True, return_train_score=False,\n",
              "             scoring='neg_mean_squared_error', verbose=2)"
            ]
          },
          "metadata": {},
          "execution_count": 99
        }
      ]
    },
    {
      "cell_type": "code",
      "metadata": {
        "colab": {
          "base_uri": "https://localhost:8080/"
        },
        "id": "crWTsesQ2oIe",
        "outputId": "3ae61814-a269-4949-bf15-4b16ddb002bc"
      },
      "source": [
        "svm_grid.best_estimator_"
      ],
      "execution_count": 100,
      "outputs": [
        {
          "output_type": "execute_result",
          "data": {
            "text/plain": [
              "SVR(C=200, cache_size=200, coef0=0.0, degree=3, epsilon=0.1, gamma='scale',\n",
              "    kernel='rbf', max_iter=-1, shrinking=True, tol=0.001, verbose=False)"
            ]
          },
          "metadata": {},
          "execution_count": 100
        }
      ]
    },
    {
      "cell_type": "code",
      "metadata": {
        "colab": {
          "base_uri": "https://localhost:8080/"
        },
        "id": "ymJFO5-n2oGL",
        "outputId": "0d3540cd-3e54-446a-a666-fa2d3e1e8859"
      },
      "source": [
        "svm_best = svm_grid.best_estimator_\n",
        "\n",
        "svm_best_train_preds = svm_best.predict(X_train_scaled)\n",
        "svm_best_val_preds = svm_best.predict(X_val_scaled)\n",
        "\n",
        "svm_best_train_rmse = np.sqrt(mean_squared_error(y_true=y_train, y_pred=svm_best_train_preds))\n",
        "svm_best_val_rmse = np.sqrt(mean_squared_error(y_true=y_val, y_pred=svm_best_val_preds))\n",
        "\n",
        "print(f\"SVM Best Train RMSE: {svm_best_train_rmse}\")\n",
        "print(f\"SVM Best Validation RMSE: {svm_best_val_rmse}\")"
      ],
      "execution_count": 101,
      "outputs": [
        {
          "output_type": "stream",
          "name": "stdout",
          "text": [
            "SVM Best Train RMSE: 12036.66270367958\n",
            "SVM Best Validation RMSE: 20697.83545417761\n"
          ]
        }
      ]
    },
    {
      "cell_type": "markdown",
      "metadata": {
        "id": "oe03oZw45vcV"
      },
      "source": [
        "Exporting Best SVM model"
      ]
    },
    {
      "cell_type": "code",
      "metadata": {
        "colab": {
          "base_uri": "https://localhost:8080/"
        },
        "id": "6-bCr6Vo5gf7",
        "outputId": "16b0efa5-bf65-413c-99e6-32c12cac6063"
      },
      "source": [
        "# Exporting Model\n",
        "svm_best_model_file = 'svm_best.sav'\n",
        "pickle.dump(svm_best, open(svm_best_model_file, 'wb'))\n",
        "\n",
        "# Sanity Check\n",
        "loaded_model = pickle.load(open(svm_best_model_file, 'rb'))\n",
        "np.sqrt(mean_squared_error(y_true=y_val, y_pred=loaded_model.predict(X_val_scaled)))"
      ],
      "execution_count": 102,
      "outputs": [
        {
          "output_type": "execute_result",
          "data": {
            "text/plain": [
              "20697.83545417761"
            ]
          },
          "metadata": {},
          "execution_count": 102
        }
      ]
    },
    {
      "cell_type": "markdown",
      "metadata": {
        "id": "VMs2z_Mv9SeU"
      },
      "source": [
        "## Random Forests"
      ]
    },
    {
      "cell_type": "markdown",
      "metadata": {
        "id": "b5f1pNS69tI9"
      },
      "source": [
        "Data"
      ]
    },
    {
      "cell_type": "code",
      "metadata": {
        "id": "nhYKUpST9Yuf"
      },
      "source": [
        "X_train = train_features.to_numpy()\n",
        "y_train = train_targets.to_numpy().ravel()\n",
        "X_val = val_features.to_numpy()\n",
        "y_val = val_targets.to_numpy().ravel()"
      ],
      "execution_count": 103,
      "outputs": []
    },
    {
      "cell_type": "markdown",
      "metadata": {
        "id": "uZNSuFK09uNi"
      },
      "source": [
        "Model Definition"
      ]
    },
    {
      "cell_type": "code",
      "metadata": {
        "id": "g1_cFY7m9YqE"
      },
      "source": [
        "rf_reg = RandomForestRegressor(random_state=42)"
      ],
      "execution_count": 106,
      "outputs": []
    },
    {
      "cell_type": "markdown",
      "metadata": {
        "id": "miB0s1OW_H4B"
      },
      "source": [
        "Training"
      ]
    },
    {
      "cell_type": "code",
      "metadata": {
        "colab": {
          "base_uri": "https://localhost:8080/"
        },
        "id": "s5J7O9u49Ynn",
        "outputId": "9f112502-3758-4b75-feba-bbb78a9dac5c"
      },
      "source": [
        "rf_reg.fit(X_train, y_train)"
      ],
      "execution_count": 107,
      "outputs": [
        {
          "output_type": "execute_result",
          "data": {
            "text/plain": [
              "RandomForestRegressor(bootstrap=True, ccp_alpha=0.0, criterion='mse',\n",
              "                      max_depth=None, max_features='auto', max_leaf_nodes=None,\n",
              "                      max_samples=None, min_impurity_decrease=0.0,\n",
              "                      min_impurity_split=None, min_samples_leaf=1,\n",
              "                      min_samples_split=2, min_weight_fraction_leaf=0.0,\n",
              "                      n_estimators=100, n_jobs=None, oob_score=False,\n",
              "                      random_state=42, verbose=0, warm_start=False)"
            ]
          },
          "metadata": {},
          "execution_count": 107
        }
      ]
    },
    {
      "cell_type": "markdown",
      "metadata": {
        "id": "5rPcfP8W_Iwm"
      },
      "source": [
        "Evaluation"
      ]
    },
    {
      "cell_type": "code",
      "metadata": {
        "colab": {
          "base_uri": "https://localhost:8080/"
        },
        "id": "yaUMRlC-9Yld",
        "outputId": "f79e1eb9-6e82-448a-b275-22b43f99f106"
      },
      "source": [
        "rf_train_preds = rf_reg.predict(X_train)\n",
        "rf_train_rmse = np.sqrt(mean_squared_error(y_true=y_train, y_pred=rf_train_preds))\n",
        "print(f\"Random Forests Training RMSE: {rf_train_rmse}\")\n",
        "\n",
        "rf_val_preds = rf_reg.predict(X_val)\n",
        "rf_val_rmse = np.sqrt(mean_squared_error(y_true=y_val, y_pred=rf_val_preds))\n",
        "print(f\"Random Forests Training RMSE: {rf_val_rmse}\")"
      ],
      "execution_count": 108,
      "outputs": [
        {
          "output_type": "stream",
          "name": "stdout",
          "text": [
            "Random Forests Training RMSE: 3308.3360430291054\n",
            "Random Forests Training RMSE: 17528.3281338265\n"
          ]
        }
      ]
    },
    {
      "cell_type": "markdown",
      "metadata": {
        "id": "BaBuOs9L_oFV"
      },
      "source": [
        "Hyperparameter Tuning"
      ]
    },
    {
      "cell_type": "code",
      "metadata": {
        "id": "nZ-6fTD79YjU"
      },
      "source": [
        "# Sweep 1\n",
        "# rf_params = {\n",
        "#     \"n_estimators\": [100],\n",
        "#     \"max_depth\": [3, 5, 7],\n",
        "#     \"min_samples_split\": [50, 100, 150],\n",
        "#     \"max_features\": [0.7],\n",
        "#     \"bootstrap\": [True],\n",
        "#     \"max_samples\": [0.7]\n",
        "# }\n",
        "\n",
        "# Sweep 2\n",
        "# rf_params = {\n",
        "#     \"n_estimators\": [100],\n",
        "#     \"min_samples_split\": [30, 50, 70],\n",
        "#     \"max_features\": [0.5, 0.7, 0.9],\n",
        "#     \"bootstrap\": [True],\n",
        "#     \"max_samples\": [0.5, 0.7, 0.9]\n",
        "# }\n",
        "\n",
        "# Sweep 3\n",
        "# rf_params = {\n",
        "#     \"n_estimators\": [100],\n",
        "#     \"min_samples_split\": [20, 30, 40],\n",
        "#     \"max_features\": [0.6, 0.7, 0.8],\n",
        "#     \"bootstrap\": [True],\n",
        "#     \"max_samples\": [0.8, 0.9, 1.0]\n",
        "# }\n",
        "\n",
        "# Sweep 4\n",
        "# rf_params = {\n",
        "#     \"n_estimators\": [100],\n",
        "#     \"min_samples_split\": [10, 15, 20, 25],\n",
        "#     \"max_features\": [0.7],\n",
        "#     \"bootstrap\": [True],\n",
        "#     \"max_samples\": [0.9]\n",
        "# }\n",
        "\n",
        "# Sweep 5\n",
        "# rf_params = {\n",
        "#     \"n_estimators\": [100],\n",
        "#     \"min_samples_split\": [3, 5, 7, 10],\n",
        "#     \"max_features\": [0.7],\n",
        "#     \"bootstrap\": [True],\n",
        "#     \"max_samples\": [0.9]\n",
        "# }\n",
        "\n",
        "# Sweep 6\n",
        "rf_params = {\n",
        "    \"n_estimators\": [100, 500, 1000],\n",
        "    \"min_samples_split\": [3],\n",
        "    \"max_features\": [0.7],\n",
        "    \"bootstrap\": [True],\n",
        "    \"max_samples\": [0.9]\n",
        "}\n",
        "\n",
        "rf_grid = GridSearchCV(\n",
        "    estimator=RandomForestRegressor(random_state=42), \n",
        "    param_grid=rf_params, \n",
        "    scoring=\"neg_mean_squared_error\", \n",
        "    n_jobs=-1, \n",
        "    cv=3, \n",
        "    verbose=2\n",
        "  )"
      ],
      "execution_count": 153,
      "outputs": []
    },
    {
      "cell_type": "code",
      "metadata": {
        "colab": {
          "base_uri": "https://localhost:8080/"
        },
        "id": "HKzrQk-9A_Pk",
        "outputId": "5ae51aa5-0ae1-4f48-8546-1be63e3caabb"
      },
      "source": [
        "rf_grid.fit(X_train, y_train)"
      ],
      "execution_count": 154,
      "outputs": [
        {
          "output_type": "stream",
          "name": "stdout",
          "text": [
            "Fitting 3 folds for each of 3 candidates, totalling 9 fits\n"
          ]
        },
        {
          "output_type": "stream",
          "name": "stderr",
          "text": [
            "[Parallel(n_jobs=-1)]: Using backend LokyBackend with 2 concurrent workers.\n",
            "/usr/local/lib/python3.7/dist-packages/joblib/externals/loky/process_executor.py:691: UserWarning: A worker stopped while some jobs were given to the executor. This can be caused by a too short worker timeout or by a memory leak.\n",
            "  \"timeout or by a memory leak.\", UserWarning\n",
            "[Parallel(n_jobs=-1)]: Done   9 out of   9 | elapsed:  1.8min finished\n"
          ]
        },
        {
          "output_type": "execute_result",
          "data": {
            "text/plain": [
              "GridSearchCV(cv=3, error_score=nan,\n",
              "             estimator=RandomForestRegressor(bootstrap=True, ccp_alpha=0.0,\n",
              "                                             criterion='mse', max_depth=None,\n",
              "                                             max_features='auto',\n",
              "                                             max_leaf_nodes=None,\n",
              "                                             max_samples=None,\n",
              "                                             min_impurity_decrease=0.0,\n",
              "                                             min_impurity_split=None,\n",
              "                                             min_samples_leaf=1,\n",
              "                                             min_samples_split=2,\n",
              "                                             min_weight_fraction_leaf=0.0,\n",
              "                                             n_estimators=100, n_jobs=None,\n",
              "                                             oob_score=False, random_state=42,\n",
              "                                             verbose=0, warm_start=False),\n",
              "             iid='deprecated', n_jobs=-1,\n",
              "             param_grid={'bootstrap': [True], 'max_features': [0.7],\n",
              "                         'max_samples': [0.9], 'min_samples_split': [3],\n",
              "                         'n_estimators': [100, 500, 1000]},\n",
              "             pre_dispatch='2*n_jobs', refit=True, return_train_score=False,\n",
              "             scoring='neg_mean_squared_error', verbose=2)"
            ]
          },
          "metadata": {},
          "execution_count": 154
        }
      ]
    },
    {
      "cell_type": "code",
      "metadata": {
        "colab": {
          "base_uri": "https://localhost:8080/"
        },
        "id": "-rXxdBaFBCf3",
        "outputId": "f5a4c2fa-eb03-49a9-eeac-e8fe04a93778"
      },
      "source": [
        "rf_grid.best_estimator_"
      ],
      "execution_count": 157,
      "outputs": [
        {
          "output_type": "execute_result",
          "data": {
            "text/plain": [
              "RandomForestRegressor(bootstrap=True, ccp_alpha=0.0, criterion='mse',\n",
              "                      max_depth=None, max_features=0.7, max_leaf_nodes=None,\n",
              "                      max_samples=0.9, min_impurity_decrease=0.0,\n",
              "                      min_impurity_split=None, min_samples_leaf=1,\n",
              "                      min_samples_split=3, min_weight_fraction_leaf=0.0,\n",
              "                      n_estimators=500, n_jobs=None, oob_score=False,\n",
              "                      random_state=42, verbose=0, warm_start=False)"
            ]
          },
          "metadata": {},
          "execution_count": 157
        }
      ]
    },
    {
      "cell_type": "code",
      "metadata": {
        "colab": {
          "base_uri": "https://localhost:8080/"
        },
        "id": "SuIlM8agBEYS",
        "outputId": "d8eb14a0-1654-4439-c847-b477d0d527a9"
      },
      "source": [
        "rf_best = rf_grid.best_estimator_\n",
        "\n",
        "rf_best_train_preds = rf_best.predict(X_train)\n",
        "rf_best_val_preds = rf_best.predict(X_val)\n",
        "\n",
        "rf_best_train_rmse = np.sqrt(mean_squared_error(y_true=y_train, y_pred=rf_best_train_preds))\n",
        "rf_best_val_rmse = np.sqrt(mean_squared_error(y_true=y_val, y_pred=rf_best_val_preds))\n",
        "\n",
        "print(f\"Random Forests Best Train RMSE: {rf_best_train_rmse}\")\n",
        "print(f\"Random Forests Best Validation RMSE: {rf_best_val_rmse}\")"
      ],
      "execution_count": 158,
      "outputs": [
        {
          "output_type": "stream",
          "name": "stdout",
          "text": [
            "Random Forests Best Train RMSE: 3746.2907656827147\n",
            "Random Forests Best Validation RMSE: 17494.283153509172\n"
          ]
        }
      ]
    },
    {
      "cell_type": "markdown",
      "metadata": {
        "id": "3cEthf40JfoM"
      },
      "source": [
        "Exporting the best Random Forests Model"
      ]
    },
    {
      "cell_type": "code",
      "metadata": {
        "colab": {
          "base_uri": "https://localhost:8080/"
        },
        "id": "myLMyJWRJdS_",
        "outputId": "86a75e21-d92a-40ca-9f9e-d685e633651c"
      },
      "source": [
        "# Exporting Model\n",
        "rf_best_model_file = 'rf_best.sav'\n",
        "pickle.dump(rf_best, open(rf_best_model_file, 'wb'))\n",
        "\n",
        "# Sanity Check\n",
        "loaded_model = pickle.load(open(rf_best_model_file, 'rb'))\n",
        "np.sqrt(mean_squared_error(y_true=y_val, y_pred=loaded_model.predict(X_val)))"
      ],
      "execution_count": 159,
      "outputs": [
        {
          "output_type": "execute_result",
          "data": {
            "text/plain": [
              "17494.283153509172"
            ]
          },
          "metadata": {},
          "execution_count": 159
        }
      ]
    },
    {
      "cell_type": "markdown",
      "metadata": {
        "id": "V0CMX9a2JuL-"
      },
      "source": [
        "## XGBoost"
      ]
    },
    {
      "cell_type": "markdown",
      "metadata": {
        "id": "W59ChZGoJv5h"
      },
      "source": [
        "Data"
      ]
    },
    {
      "cell_type": "code",
      "metadata": {
        "id": "qrZCVfglJvc6"
      },
      "source": [
        "X_train = train_features.to_numpy()\n",
        "y_train = train_targets.to_numpy().ravel()\n",
        "X_val = val_features.to_numpy()\n",
        "y_val = val_targets.to_numpy().ravel()"
      ],
      "execution_count": 149,
      "outputs": []
    },
    {
      "cell_type": "markdown",
      "metadata": {
        "id": "iR0xalsVJwom"
      },
      "source": [
        "Model Definition"
      ]
    },
    {
      "cell_type": "code",
      "metadata": {
        "id": "RhJLLCiwJxsk"
      },
      "source": [
        "xgb_reg = XGBRegressor(random_state=42)"
      ],
      "execution_count": 150,
      "outputs": []
    },
    {
      "cell_type": "markdown",
      "metadata": {
        "id": "zZvstmL3Jx94"
      },
      "source": [
        "Training"
      ]
    },
    {
      "cell_type": "code",
      "metadata": {
        "colab": {
          "base_uri": "https://localhost:8080/"
        },
        "id": "-Wi2tu7hJyh4",
        "outputId": "6e71e962-79e7-47d3-d11e-a7675b3ff3ee"
      },
      "source": [
        "xgb_reg.fit(X_train, y_train)"
      ],
      "execution_count": 151,
      "outputs": [
        {
          "output_type": "stream",
          "name": "stdout",
          "text": [
            "[18:40:47] WARNING: /workspace/src/objective/regression_obj.cu:152: reg:linear is now deprecated in favor of reg:squarederror.\n"
          ]
        },
        {
          "output_type": "execute_result",
          "data": {
            "text/plain": [
              "XGBRegressor(base_score=0.5, booster='gbtree', colsample_bylevel=1,\n",
              "             colsample_bynode=1, colsample_bytree=1, gamma=0,\n",
              "             importance_type='gain', learning_rate=0.1, max_delta_step=0,\n",
              "             max_depth=3, min_child_weight=1, missing=None, n_estimators=100,\n",
              "             n_jobs=1, nthread=None, objective='reg:linear', random_state=42,\n",
              "             reg_alpha=0, reg_lambda=1, scale_pos_weight=1, seed=None,\n",
              "             silent=None, subsample=1, verbosity=1)"
            ]
          },
          "metadata": {},
          "execution_count": 151
        }
      ]
    },
    {
      "cell_type": "markdown",
      "metadata": {
        "id": "BmCZVlO4Jy-e"
      },
      "source": [
        "Evaluation"
      ]
    },
    {
      "cell_type": "code",
      "metadata": {
        "colab": {
          "base_uri": "https://localhost:8080/"
        },
        "id": "Jr8HxLl0J9FH",
        "outputId": "06782d9a-4f3a-4632-86c7-84647ba69d7e"
      },
      "source": [
        "xgb_train_preds = xgb_reg.predict(X_train)\n",
        "xgb_train_rmse = np.sqrt(mean_squared_error(y_true=y_train, y_pred=xgb_train_preds))\n",
        "print(f\"XGBoost Training RMSE: {rf_train_rmse}\")\n",
        "\n",
        "xgb_val_preds = xgb_reg.predict(X_val)\n",
        "xgb_val_rmse = np.sqrt(mean_squared_error(y_true=y_val, y_pred=xgb_val_preds))\n",
        "print(f\"XGBoost Training RMSE: {rf_val_rmse}\")"
      ],
      "execution_count": 152,
      "outputs": [
        {
          "output_type": "stream",
          "name": "stdout",
          "text": [
            "XGBoost Training RMSE: 3308.3360430291054\n",
            "XGBoost Training RMSE: 17528.3281338265\n"
          ]
        }
      ]
    },
    {
      "cell_type": "markdown",
      "metadata": {
        "id": "YhzD-svpJ9aX"
      },
      "source": [
        "Hyperparameter Tuning"
      ]
    },
    {
      "cell_type": "code",
      "metadata": {
        "id": "Tlrr7AcQJ_Fq"
      },
      "source": [
        ""
      ],
      "execution_count": null,
      "outputs": []
    },
    {
      "cell_type": "markdown",
      "metadata": {
        "id": "8PtwSPd9J_sB"
      },
      "source": [
        "Exporting the best model"
      ]
    },
    {
      "cell_type": "code",
      "metadata": {
        "id": "umnlVBi1KAye"
      },
      "source": [
        ""
      ],
      "execution_count": null,
      "outputs": []
    }
  ]
}