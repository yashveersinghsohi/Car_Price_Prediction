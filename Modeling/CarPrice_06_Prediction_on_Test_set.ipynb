{
  "nbformat": 4,
  "nbformat_minor": 0,
  "metadata": {
    "colab": {
      "name": "CarPrice_06_Prediction_on_Test_set.ipynb",
      "provenance": [],
      "authorship_tag": "ABX9TyP0uMvNKc/5LeUJrrll0U3n",
      "include_colab_link": true
    },
    "kernelspec": {
      "name": "python3",
      "display_name": "Python 3"
    },
    "language_info": {
      "name": "python"
    }
  },
  "cells": [
    {
      "cell_type": "markdown",
      "metadata": {
        "id": "view-in-github",
        "colab_type": "text"
      },
      "source": [
        "<a href=\"https://colab.research.google.com/github/yashveersinghsohi/Car_Price_Prediction/blob/master/Modeling/CarPrice_06_Prediction_on_Test_set.ipynb\" target=\"_parent\"><img src=\"https://colab.research.google.com/assets/colab-badge.svg\" alt=\"Open In Colab\"/></a>"
      ]
    },
    {
      "cell_type": "markdown",
      "metadata": {
        "id": "iKI5tIPUflDp"
      },
      "source": [
        "# Importing Packages"
      ]
    },
    {
      "cell_type": "code",
      "metadata": {
        "id": "SP71hLnYfccB"
      },
      "source": [
        "import pandas as pd\n",
        "import numpy as np\n",
        "from sklearn.metrics import mean_squared_error, mean_squared_log_error\n",
        "import pickle"
      ],
      "execution_count": 32,
      "outputs": []
    },
    {
      "cell_type": "markdown",
      "metadata": {
        "id": "imHbMKRhfxbd"
      },
      "source": [
        "# Data"
      ]
    },
    {
      "cell_type": "code",
      "metadata": {
        "colab": {
          "base_uri": "https://localhost:8080/"
        },
        "id": "yiUZvhUlfyIK",
        "outputId": "c45bbafb-fcab-4e8b-cdbd-88558d67a458"
      },
      "source": [
        "root_dir = \"https://raw.githubusercontent.com/yashveersinghsohi/Car_Price_Prediction/master/Data/EDA_Data/\"\n",
        "\n",
        "test_features_path = root_dir + \"test_features.csv\"\n",
        "test_targets_path = root_dir + \"test_targets.csv\"\n",
        "\n",
        "test_features = pd.read_csv(test_features_path)\n",
        "test_targets = pd.read_csv(test_targets_path)\n",
        "\n",
        "print(f\"Test Features: {test_features.shape}\")\n",
        "print(f\"Test Targets: {test_targets.shape}\")"
      ],
      "execution_count": 2,
      "outputs": [
        {
          "output_type": "stream",
          "name": "stdout",
          "text": [
            "Test Features: (1924, 16)\n",
            "Test Targets: (1924, 1)\n"
          ]
        }
      ]
    },
    {
      "cell_type": "code",
      "metadata": {
        "colab": {
          "base_uri": "https://localhost:8080/"
        },
        "id": "elI6oC49l9FW",
        "outputId": "1a5a434b-78ec-489f-e0c0-f953231beebd"
      },
      "source": [
        "root_dir = \"https://raw.githubusercontent.com/yashveersinghsohi/Car_Price_Prediction/master/Data/EDA_Data/\"\n",
        "\n",
        "train_features_path = root_dir + \"train_features.csv\"\n",
        "train_targets_path = root_dir + \"train_targets.csv\"\n",
        "\n",
        "val_features_path = root_dir + \"val_features.csv\"\n",
        "val_targets_path = root_dir + \"val_targets.csv\"\n",
        "\n",
        "train_features = pd.read_csv(train_features_path)\n",
        "train_targets = pd.read_csv(train_targets_path)\n",
        "\n",
        "val_features = pd.read_csv(val_features_path)\n",
        "val_targets = pd.read_csv(val_targets_path)\n",
        "\n",
        "print(f\"Train Features: {train_features.shape}\")\n",
        "print(f\"Train Targets: {train_targets.shape}\", end=\"\\n\\n\")\n",
        "\n",
        "print(f\"Validation Features: {val_features.shape}\")\n",
        "print(f\"Validation Targets: {val_targets.shape}\")"
      ],
      "execution_count": 3,
      "outputs": [
        {
          "output_type": "stream",
          "name": "stdout",
          "text": [
            "Train Features: (13850, 16)\n",
            "Train Targets: (13850, 1)\n",
            "\n",
            "Validation Features: (3463, 16)\n",
            "Validation Targets: (3463, 1)\n"
          ]
        }
      ]
    },
    {
      "cell_type": "code",
      "metadata": {
        "colab": {
          "base_uri": "https://localhost:8080/"
        },
        "id": "g6ysnz-tjPf4",
        "outputId": "f9ef6339-858c-4685-eff6-6b0f1e630ede"
      },
      "source": [
        "root_dir = \"https://raw.githubusercontent.com/yashveersinghsohi/Car_Price_Prediction/master/Data/Feature_Engineering_Data/\"\n",
        "\n",
        "train_features_path = root_dir + \"train_features_df.csv\"\n",
        "train_targets_path = root_dir + \"train_targets.csv\"\n",
        "\n",
        "val_features_path = root_dir + \"val_features_df.csv\"\n",
        "val_targets_path = root_dir + \"val_targets.csv\"\n",
        "\n",
        "train_features_df = pd.read_csv(train_features_path)\n",
        "train_targets = pd.read_csv(train_targets_path)\n",
        "\n",
        "val_features_df = pd.read_csv(val_features_path)\n",
        "val_targets = pd.read_csv(val_targets_path)\n",
        "\n",
        "print(f\"Train Features: {train_features_df.shape}\")\n",
        "print(f\"Train Targets: {train_targets.shape}\", end=\"\\n\\n\")\n",
        "\n",
        "print(f\"Validation Features: {val_features_df.shape}\")\n",
        "print(f\"Validation Targets: {val_targets.shape}\")"
      ],
      "execution_count": 4,
      "outputs": [
        {
          "output_type": "stream",
          "name": "stdout",
          "text": [
            "Train Features: (13351, 30)\n",
            "Train Targets: (13351, 1)\n",
            "\n",
            "Validation Features: (3463, 30)\n",
            "Validation Targets: (3463, 1)\n"
          ]
        }
      ]
    },
    {
      "cell_type": "markdown",
      "metadata": {
        "id": "mJKQJ8UGgKgp"
      },
      "source": [
        "# Data Processing"
      ]
    },
    {
      "cell_type": "markdown",
      "metadata": {
        "id": "CHKfkUn2gMCw"
      },
      "source": [
        "Using the same steps used in feature engineering of Train and Val sets"
      ]
    },
    {
      "cell_type": "code",
      "metadata": {
        "colab": {
          "base_uri": "https://localhost:8080/"
        },
        "id": "nujjblWef8y1",
        "outputId": "9dc6f893-3138-4a02-cbc6-70fc93023ec8"
      },
      "source": [
        "test_features.columns"
      ],
      "execution_count": 5,
      "outputs": [
        {
          "output_type": "execute_result",
          "data": {
            "text/plain": [
              "Index(['Prod. year', 'Cylinders', 'Airbags', 'Levy', 'Manufacturer', 'Model',\n",
              "       'Category', 'Leather interior', 'Fuel type', 'Engine volume', 'Mileage',\n",
              "       'Gear box type', 'Drive wheels', 'Doors', 'Wheel', 'Color'],\n",
              "      dtype='object')"
            ]
          },
          "metadata": {},
          "execution_count": 5
        }
      ]
    },
    {
      "cell_type": "code",
      "metadata": {
        "id": "bgvpDm9Ygg9S"
      },
      "source": [
        "test_features_df = pd.DataFrame()"
      ],
      "execution_count": 6,
      "outputs": []
    },
    {
      "cell_type": "markdown",
      "metadata": {
        "id": "6lGTZATYlkDX"
      },
      "source": [
        "Prod. year"
      ]
    },
    {
      "cell_type": "code",
      "metadata": {
        "id": "aUeKwJjegj6W"
      },
      "source": [
        "test_features_df[\"prod_year\"] = test_features[\"Prod. year\"]\n",
        "test_features_df[\"prod_year_delta\"] = (test_features_df[\"prod_year\"] - 2020).abs()\n",
        "test_features_df[\"prod_year_delta_sq\"] = np.power(test_features_df[\"prod_year_delta\"].to_numpy(), 2)\n",
        "test_features_df[\"prod_year_delta_cu\"] = np.power(test_features_df[\"prod_year_delta\"].to_numpy(), 3)\n",
        "\n",
        "test_features_df[\"prod_year_new\"] = np.where(\n",
        "    test_features_df[\"prod_year_delta\"]<1, \n",
        "    1, 0\n",
        "  )\n",
        "test_features_df[\"prod_year_new\"] = np.where(\n",
        "    (test_features_df[\"prod_year_delta\"]<4) & (test_features_df[\"prod_year_delta\"]>=1), \n",
        "    2, test_features_df[\"prod_year_new\"]\n",
        "  )\n",
        "test_features_df[\"prod_year_new\"] = np.where(\n",
        "    (test_features_df[\"prod_year_delta\"]<6) & (test_features_df[\"prod_year_delta\"]>=4), \n",
        "    3, test_features_df[\"prod_year_new\"]\n",
        "  )\n",
        "test_features_df[\"prod_year_new\"] = np.where(\n",
        "    (test_features_df[\"prod_year_delta\"]<8) & (test_features_df[\"prod_year_delta\"]>=6), \n",
        "    4, test_features_df[\"prod_year_new\"]\n",
        "  )\n",
        "test_features_df[\"prod_year_new\"] = np.where(\n",
        "    (test_features_df[\"prod_year_delta\"]<10) & (test_features_df[\"prod_year_delta\"]>=8), \n",
        "    5, test_features_df[\"prod_year_new\"]\n",
        "  )\n",
        "test_features_df[\"prod_year_new\"] = np.where(\n",
        "    test_features_df[\"prod_year_delta\"]>=10, \n",
        "    6, test_features_df[\"prod_year_new\"]\n",
        "  )"
      ],
      "execution_count": 7,
      "outputs": []
    },
    {
      "cell_type": "markdown",
      "metadata": {
        "id": "CfcEVWBullzJ"
      },
      "source": [
        "Cylinders, Airbags"
      ]
    },
    {
      "cell_type": "code",
      "metadata": {
        "id": "9tM8OMctiSEq"
      },
      "source": [
        "test_features_df[\"cylinders\"] = test_features[\"Cylinders\"].astype(np.int)\n",
        "test_features_df[\"airbags\"] = test_features[\"Airbags\"].astype(np.int)"
      ],
      "execution_count": 8,
      "outputs": []
    },
    {
      "cell_type": "markdown",
      "metadata": {
        "id": "54tqEiqSmWIK"
      },
      "source": [
        "Levy"
      ]
    },
    {
      "cell_type": "code",
      "metadata": {
        "id": "bLfFBMvsil2w"
      },
      "source": [
        "test_features_df[\"levy\"] = test_features[\"Levy\"].replace(\"-\", np.nan).astype(np.float)\n",
        "test_features_df[\"levy\"] = test_features_df[\"levy\"].fillna(train_features_df[\"levy\"].median())"
      ],
      "execution_count": 9,
      "outputs": []
    },
    {
      "cell_type": "markdown",
      "metadata": {
        "id": "NorSfJ8Nln1D"
      },
      "source": [
        "Manufacturer"
      ]
    },
    {
      "cell_type": "code",
      "metadata": {
        "id": "jGasrg4ckldx"
      },
      "source": [
        "class_1 = ['ROLLS-ROYCE', 'MOSKVICH', 'ROVER', 'GMC', 'ACURA', 'VAZ', 'ZAZ', \n",
        "           'BUICK', 'UAZ', 'SEAT', 'DAIHATSU', 'OPEL', 'CHRYSLER', 'GAZ', \n",
        "           'DAEWOO', 'LEXUS', 'PONTIAC', 'MAZDA', 'AUDI', 'VOLVO', 'ISUZU', \n",
        "           'PEUGEOT', 'NISSAN', 'SUBARU', 'ALFA ROMEO', 'SUZUKI', 'MITSUBISHI', \n",
        "           'DODGE', 'HONDA', 'GREATWALL']\n",
        "class_2 = ['RENAULT', 'MERCEDES-BENZ', 'VOLKSWAGEN', 'SKODA', \n",
        "           'FIAT', 'TOYOTA', 'CADILLAC', 'FORD', 'CHEVROLET', 'BMW', 'JAGUAR',\n",
        "           'LINCOLN', 'MERCURY', 'CITROEN', 'SCION', 'KIA', 'სხვა', 'HYUNDAI',\n",
        "           'MINI', 'INFINITI']\n",
        "class_3 = ['PORSCHE', 'MASERATI', 'JEEP', 'LAND ROVER', 'SSANGYONG', 'FERRARI']\n",
        "class_4 = ['HUMMER', 'TESLA', 'ASTON MARTIN']\n",
        "\n",
        "test_features_df[\"manufacturer_class\"] = np.where(\n",
        "    test_features[\"Manufacturer\"].isin(class_1), \n",
        "    1, 0\n",
        "  )\n",
        "test_features_df[\"manufacturer_class\"] = np.where(\n",
        "    test_features[\"Manufacturer\"].isin(class_2), \n",
        "    2, test_features_df[\"manufacturer_class\"]\n",
        "  )\n",
        "test_features_df[\"manufacturer_class\"] = np.where(\n",
        "    test_features[\"Manufacturer\"].isin(class_3), \n",
        "    3, test_features_df[\"manufacturer_class\"]\n",
        "  )\n",
        "test_features_df[\"manufacturer_class\"] = np.where(\n",
        "    test_features[\"Manufacturer\"].isin(class_4), \n",
        "    4, test_features_df[\"manufacturer_class\"]\n",
        "  )"
      ],
      "execution_count": 10,
      "outputs": []
    },
    {
      "cell_type": "code",
      "metadata": {
        "id": "ph3AbBirli64"
      },
      "source": [
        "temp_df = pd.DataFrame()\n",
        "temp_df[\"Manufacturer\"] = train_features[\"Manufacturer\"]\n",
        "temp_df[\"Price\"] = train_targets[\"Price\"]\n",
        "\n",
        "mean_order = temp_df.groupby(by=\"Manufacturer\")[\"Price\"].mean().index\n",
        "mean_map = {label: idx for idx, label in enumerate(mean_order)}\n",
        "\n",
        "median_order = temp_df.groupby(by=\"Manufacturer\")[\"Price\"].median().index\n",
        "median_map = {label: idx for idx, label in enumerate(median_order)}\n",
        "\n",
        "test_features_df[\"manufacturer_mean_le\"] = test_features[\"Manufacturer\"].map(mean_map).fillna(0)\n",
        "test_features_df[\"manufacturer_median_le\"] = test_features[\"Manufacturer\"].map(median_map).fillna(0)"
      ],
      "execution_count": 11,
      "outputs": []
    },
    {
      "cell_type": "markdown",
      "metadata": {
        "id": "3p1OwFWGm2E9"
      },
      "source": [
        "Category"
      ]
    },
    {
      "cell_type": "code",
      "metadata": {
        "id": "031RbM0TmznM"
      },
      "source": [
        "temp_df = pd.DataFrame()\n",
        "temp_df[\"Category\"] = train_features[\"Category\"]\n",
        "temp_df[\"Price\"] = train_targets[\"Price\"]\n",
        "\n",
        "mean_order = temp_df.groupby(by=\"Category\")[\"Price\"].mean().index\n",
        "mean_map = {label: idx for idx, label in enumerate(mean_order)}\n",
        "\n",
        "median_order = temp_df.groupby(by=\"Category\")[\"Price\"].median().index\n",
        "median_map = {label: idx for idx, label in enumerate(median_order)}\n",
        "\n",
        "test_features_df[\"category_mean_le\"] = test_features[\"Category\"].map(mean_map).fillna(0)\n",
        "test_features_df[\"category_median_le\"] = test_features[\"Category\"].map(median_map).fillna(0)"
      ],
      "execution_count": 12,
      "outputs": []
    },
    {
      "cell_type": "markdown",
      "metadata": {
        "id": "cR4ke5t8nLOA"
      },
      "source": [
        "Leather interior"
      ]
    },
    {
      "cell_type": "code",
      "metadata": {
        "id": "oxnfebOYmzlT"
      },
      "source": [
        "test_features_df[\"leather_interior\"] = np.where(\n",
        "    test_features[\"Leather interior\"] == \"Yes\", \n",
        "    1, 0\n",
        "  )"
      ],
      "execution_count": 13,
      "outputs": []
    },
    {
      "cell_type": "markdown",
      "metadata": {
        "id": "ii05Fa6inaOC"
      },
      "source": [
        "Fuel type"
      ]
    },
    {
      "cell_type": "code",
      "metadata": {
        "id": "tMqbELU8mzjR"
      },
      "source": [
        "temp_df = pd.DataFrame()\n",
        "temp_df[\"Fuel type\"] = train_features[\"Fuel type\"]\n",
        "temp_df[\"Price\"] = train_targets[\"Price\"]\n",
        "\n",
        "mean_order = temp_df.groupby(by=\"Fuel type\")[\"Price\"].mean().index\n",
        "mean_map = {label: idx for idx, label in enumerate(mean_order)}\n",
        "\n",
        "median_order = temp_df.groupby(by=\"Fuel type\")[\"Price\"].median().index\n",
        "median_map = {label: idx for idx, label in enumerate(median_order)}\n",
        "\n",
        "test_features_df[\"fuel_type_mean_le\"] = test_features[\"Fuel type\"].map(mean_map).fillna(0)\n",
        "test_features_df[\"fuel_type_median_le\"] = test_features[\"Fuel type\"].map(median_map).fillna(0)"
      ],
      "execution_count": 14,
      "outputs": []
    },
    {
      "cell_type": "markdown",
      "metadata": {
        "id": "fCTDs0ZnnyXV"
      },
      "source": [
        "Engine volume"
      ]
    },
    {
      "cell_type": "code",
      "metadata": {
        "id": "aZ6lU6KOnwcw"
      },
      "source": [
        "test_features_df[\"turbo\"] = np.where(\n",
        "    test_features[\"Engine volume\"].str.contains(\"Turbo\"), \n",
        "    1, 0\n",
        "  )"
      ],
      "execution_count": 15,
      "outputs": []
    },
    {
      "cell_type": "code",
      "metadata": {
        "id": "inAqnbFjnwbE"
      },
      "source": [
        "test_features_df[\"engine_volume\"] = test_features[\"Engine volume\"].str.replace(\" Turbo\", \"\").astype(np.float)"
      ],
      "execution_count": 16,
      "outputs": []
    },
    {
      "cell_type": "markdown",
      "metadata": {
        "id": "8pnbKPjboOFo"
      },
      "source": [
        "Mileage"
      ]
    },
    {
      "cell_type": "code",
      "metadata": {
        "id": "Ruqp5BLPoLyp"
      },
      "source": [
        "test_features_df[\"mileage\"] = test_features[\"Mileage\"].str.replace(\" km\", \"\").astype(np.float)\n",
        "test_features_df[\"mileage_new\"] = np.where(test_features_df[\"mileage\"] == 0, 1, 0)"
      ],
      "execution_count": 17,
      "outputs": []
    },
    {
      "cell_type": "markdown",
      "metadata": {
        "id": "vV0_6qr4og8o"
      },
      "source": [
        "Gear box type"
      ]
    },
    {
      "cell_type": "code",
      "metadata": {
        "id": "rGEiqJNJoLwo"
      },
      "source": [
        "temp_df = pd.DataFrame()\n",
        "temp_df[\"Gear box type\"] = train_features[\"Gear box type\"]\n",
        "temp_df[\"Price\"] = train_targets[\"Price\"]\n",
        "\n",
        "mean_order = temp_df.groupby(by=\"Gear box type\")[\"Price\"].mean().index\n",
        "mean_map = {label: idx for idx, label in enumerate(mean_order)}\n",
        "\n",
        "median_order = temp_df.groupby(by=\"Gear box type\")[\"Price\"].median().index\n",
        "median_map = {label: idx for idx, label in enumerate(median_order)}\n",
        "\n",
        "test_features_df[\"gear_box_type_mean_le\"] = test_features[\"Gear box type\"].map(mean_map).fillna(0)\n",
        "test_features_df[\"gear_box_type_median_le\"] = test_features[\"Gear box type\"].map(median_map).fillna(0)"
      ],
      "execution_count": 18,
      "outputs": []
    },
    {
      "cell_type": "markdown",
      "metadata": {
        "id": "llG4RUVTo8x6"
      },
      "source": [
        "Drive wheels"
      ]
    },
    {
      "cell_type": "code",
      "metadata": {
        "id": "FwheD-2bo6HI"
      },
      "source": [
        "temp_df = pd.DataFrame()\n",
        "temp_df[\"Drive wheels\"] = train_features[\"Drive wheels\"]\n",
        "temp_df[\"Price\"] = train_targets[\"Price\"]\n",
        "\n",
        "mean_order = temp_df.groupby(by=\"Drive wheels\")[\"Price\"].mean().index\n",
        "mean_map = {label: idx for idx, label in enumerate(mean_order)}\n",
        "\n",
        "median_order = temp_df.groupby(by=\"Drive wheels\")[\"Price\"].median().index\n",
        "median_map = {label: idx for idx, label in enumerate(median_order)}\n",
        "\n",
        "test_features_df[\"drive_wheels_mean_le\"] = test_features[\"Drive wheels\"].map(mean_map).fillna(0)\n",
        "test_features_df[\"drive_wheels_median_le\"] = test_features[\"Drive wheels\"].map(median_map).fillna(0)"
      ],
      "execution_count": 19,
      "outputs": []
    },
    {
      "cell_type": "markdown",
      "metadata": {
        "id": "vSMkGBbFpNMi"
      },
      "source": [
        "Doors"
      ]
    },
    {
      "cell_type": "code",
      "metadata": {
        "id": "UYBsYepwo6FW"
      },
      "source": [
        "temp_df = pd.DataFrame()\n",
        "temp_df[\"Doors\"] = train_features[\"Doors\"]\n",
        "temp_df[\"Price\"] = train_targets[\"Price\"]\n",
        "\n",
        "mean_order = temp_df.groupby(by=\"Doors\")[\"Price\"].mean().index\n",
        "mean_map = {label: idx for idx, label in enumerate(mean_order)}\n",
        "\n",
        "median_order = temp_df.groupby(by=\"Doors\")[\"Price\"].median().index\n",
        "median_map = {label: idx for idx, label in enumerate(median_order)}\n",
        "\n",
        "test_features_df[\"doors_mean_le\"] = test_features[\"Doors\"].map(mean_map).fillna(0)\n",
        "test_features_df[\"doors_median_le\"] = test_features[\"Doors\"].map(median_map).fillna(0)"
      ],
      "execution_count": 20,
      "outputs": []
    },
    {
      "cell_type": "markdown",
      "metadata": {
        "id": "K7c0gfBFpbp5"
      },
      "source": [
        "Wheel"
      ]
    },
    {
      "cell_type": "code",
      "metadata": {
        "id": "UMw8k0_dpaNK"
      },
      "source": [
        "temp_df = pd.DataFrame()\n",
        "temp_df[\"Wheel\"] = train_features[\"Wheel\"]\n",
        "temp_df[\"Price\"] = train_targets[\"Price\"]\n",
        "\n",
        "mean_order = temp_df.groupby(by=\"Wheel\")[\"Price\"].mean().index\n",
        "mean_map = {label: idx for idx, label in enumerate(mean_order)}\n",
        "\n",
        "median_order = temp_df.groupby(by=\"Wheel\")[\"Price\"].median().index\n",
        "median_map = {label: idx for idx, label in enumerate(median_order)}\n",
        "\n",
        "test_features_df[\"wheel_mean_le\"] = test_features[\"Wheel\"].map(mean_map).fillna(0)\n",
        "test_features_df[\"wheel_median_le\"] = test_features[\"Wheel\"].map(median_map).fillna(0)"
      ],
      "execution_count": 21,
      "outputs": []
    },
    {
      "cell_type": "markdown",
      "metadata": {
        "id": "ECGgvOJqpoR-"
      },
      "source": [
        "Color"
      ]
    },
    {
      "cell_type": "code",
      "metadata": {
        "id": "Xr-si5ufpaK_"
      },
      "source": [
        "temp_df = pd.DataFrame()\n",
        "temp_df[\"Color\"] = train_features[\"Color\"]\n",
        "temp_df[\"Price\"] = train_targets[\"Price\"]\n",
        "\n",
        "mean_order = temp_df.groupby(by=\"Color\")[\"Price\"].mean().index\n",
        "mean_map = {label: idx for idx, label in enumerate(mean_order)}\n",
        "\n",
        "median_order = temp_df.groupby(by=\"Color\")[\"Price\"].median().index\n",
        "median_map = {label: idx for idx, label in enumerate(median_order)}\n",
        "\n",
        "test_features_df[\"color_mean_le\"] = test_features[\"Color\"].map(mean_map).fillna(0)\n",
        "test_features_df[\"color_median_le\"] = test_features[\"Color\"].map(median_map).fillna(0)"
      ],
      "execution_count": 22,
      "outputs": []
    },
    {
      "cell_type": "markdown",
      "metadata": {
        "id": "Itm7d-c9p316"
      },
      "source": [
        "# Sanity Checks"
      ]
    },
    {
      "cell_type": "code",
      "metadata": {
        "colab": {
          "base_uri": "https://localhost:8080/",
          "height": 225
        },
        "id": "U1ZRXwMQiSBZ",
        "outputId": "a7278f1f-a8ae-40a0-acd2-93f0bb801184"
      },
      "source": [
        "test_features_df.head()"
      ],
      "execution_count": 27,
      "outputs": [
        {
          "output_type": "execute_result",
          "data": {
            "text/html": [
              "<div>\n",
              "<style scoped>\n",
              "    .dataframe tbody tr th:only-of-type {\n",
              "        vertical-align: middle;\n",
              "    }\n",
              "\n",
              "    .dataframe tbody tr th {\n",
              "        vertical-align: top;\n",
              "    }\n",
              "\n",
              "    .dataframe thead th {\n",
              "        text-align: right;\n",
              "    }\n",
              "</style>\n",
              "<table border=\"1\" class=\"dataframe\">\n",
              "  <thead>\n",
              "    <tr style=\"text-align: right;\">\n",
              "      <th></th>\n",
              "      <th>prod_year</th>\n",
              "      <th>prod_year_delta</th>\n",
              "      <th>prod_year_delta_sq</th>\n",
              "      <th>prod_year_delta_cu</th>\n",
              "      <th>cylinders</th>\n",
              "      <th>airbags</th>\n",
              "      <th>levy</th>\n",
              "      <th>manufacturer_class</th>\n",
              "      <th>manufacturer_mean_le</th>\n",
              "      <th>category_mean_le</th>\n",
              "      <th>leather_interior</th>\n",
              "      <th>fuel_type_mean_le</th>\n",
              "      <th>turbo</th>\n",
              "      <th>engine_volume</th>\n",
              "      <th>mileage</th>\n",
              "      <th>mileage_new</th>\n",
              "      <th>gear_box_type_mean_le</th>\n",
              "      <th>wheel_mean_le</th>\n",
              "    </tr>\n",
              "  </thead>\n",
              "  <tbody>\n",
              "    <tr>\n",
              "      <th>0</th>\n",
              "      <td>2014</td>\n",
              "      <td>6</td>\n",
              "      <td>36</td>\n",
              "      <td>216</td>\n",
              "      <td>4</td>\n",
              "      <td>10</td>\n",
              "      <td>259.0</td>\n",
              "      <td>2</td>\n",
              "      <td>8.0</td>\n",
              "      <td>3</td>\n",
              "      <td>0</td>\n",
              "      <td>5</td>\n",
              "      <td>0</td>\n",
              "      <td>1.4</td>\n",
              "      <td>65000.0</td>\n",
              "      <td>0</td>\n",
              "      <td>0</td>\n",
              "      <td>0</td>\n",
              "    </tr>\n",
              "    <tr>\n",
              "      <th>1</th>\n",
              "      <td>1997</td>\n",
              "      <td>23</td>\n",
              "      <td>529</td>\n",
              "      <td>12167</td>\n",
              "      <td>6</td>\n",
              "      <td>2</td>\n",
              "      <td>781.0</td>\n",
              "      <td>2</td>\n",
              "      <td>33.0</td>\n",
              "      <td>6</td>\n",
              "      <td>1</td>\n",
              "      <td>1</td>\n",
              "      <td>1</td>\n",
              "      <td>2.9</td>\n",
              "      <td>3333.0</td>\n",
              "      <td>0</td>\n",
              "      <td>1</td>\n",
              "      <td>0</td>\n",
              "    </tr>\n",
              "    <tr>\n",
              "      <th>2</th>\n",
              "      <td>1996</td>\n",
              "      <td>24</td>\n",
              "      <td>576</td>\n",
              "      <td>13824</td>\n",
              "      <td>8</td>\n",
              "      <td>2</td>\n",
              "      <td>781.0</td>\n",
              "      <td>2</td>\n",
              "      <td>33.0</td>\n",
              "      <td>9</td>\n",
              "      <td>0</td>\n",
              "      <td>4</td>\n",
              "      <td>0</td>\n",
              "      <td>1.8</td>\n",
              "      <td>212485.0</td>\n",
              "      <td>0</td>\n",
              "      <td>1</td>\n",
              "      <td>0</td>\n",
              "    </tr>\n",
              "    <tr>\n",
              "      <th>3</th>\n",
              "      <td>2014</td>\n",
              "      <td>6</td>\n",
              "      <td>36</td>\n",
              "      <td>216</td>\n",
              "      <td>4</td>\n",
              "      <td>4</td>\n",
              "      <td>639.0</td>\n",
              "      <td>2</td>\n",
              "      <td>22.0</td>\n",
              "      <td>4</td>\n",
              "      <td>1</td>\n",
              "      <td>1</td>\n",
              "      <td>0</td>\n",
              "      <td>2.0</td>\n",
              "      <td>132756.0</td>\n",
              "      <td>0</td>\n",
              "      <td>0</td>\n",
              "      <td>0</td>\n",
              "    </tr>\n",
              "    <tr>\n",
              "      <th>4</th>\n",
              "      <td>2017</td>\n",
              "      <td>3</td>\n",
              "      <td>9</td>\n",
              "      <td>27</td>\n",
              "      <td>4</td>\n",
              "      <td>4</td>\n",
              "      <td>831.0</td>\n",
              "      <td>3</td>\n",
              "      <td>49.0</td>\n",
              "      <td>4</td>\n",
              "      <td>1</td>\n",
              "      <td>4</td>\n",
              "      <td>0</td>\n",
              "      <td>1.6</td>\n",
              "      <td>50750.0</td>\n",
              "      <td>0</td>\n",
              "      <td>0</td>\n",
              "      <td>0</td>\n",
              "    </tr>\n",
              "  </tbody>\n",
              "</table>\n",
              "</div>"
            ],
            "text/plain": [
              "   prod_year  prod_year_delta  ...  gear_box_type_mean_le  wheel_mean_le\n",
              "0       2014                6  ...                      0              0\n",
              "1       1997               23  ...                      1              0\n",
              "2       1996               24  ...                      1              0\n",
              "3       2014                6  ...                      0              0\n",
              "4       2017                3  ...                      0              0\n",
              "\n",
              "[5 rows x 18 columns]"
            ]
          },
          "metadata": {},
          "execution_count": 27
        }
      ]
    },
    {
      "cell_type": "code",
      "metadata": {
        "colab": {
          "base_uri": "https://localhost:8080/"
        },
        "id": "na85kcOmiIim",
        "outputId": "738f8dcc-269a-4cb6-fe08-52793f98e683"
      },
      "source": [
        "test_features_df.isnull().sum()"
      ],
      "execution_count": 24,
      "outputs": [
        {
          "output_type": "execute_result",
          "data": {
            "text/plain": [
              "prod_year                  0\n",
              "prod_year_delta            0\n",
              "prod_year_delta_sq         0\n",
              "prod_year_delta_cu         0\n",
              "prod_year_new              0\n",
              "cylinders                  0\n",
              "airbags                    0\n",
              "levy                       0\n",
              "manufacturer_class         0\n",
              "manufacturer_mean_le       0\n",
              "manufacturer_median_le     0\n",
              "category_mean_le           0\n",
              "category_median_le         0\n",
              "leather_interior           0\n",
              "fuel_type_mean_le          0\n",
              "fuel_type_median_le        0\n",
              "turbo                      0\n",
              "engine_volume              0\n",
              "mileage                    0\n",
              "mileage_new                0\n",
              "gear_box_type_mean_le      0\n",
              "gear_box_type_median_le    0\n",
              "drive_wheels_mean_le       0\n",
              "drive_wheels_median_le     0\n",
              "doors_mean_le              0\n",
              "doors_median_le            0\n",
              "wheel_mean_le              0\n",
              "wheel_median_le            0\n",
              "color_mean_le              0\n",
              "color_median_le            0\n",
              "dtype: int64"
            ]
          },
          "metadata": {},
          "execution_count": 24
        }
      ]
    },
    {
      "cell_type": "markdown",
      "metadata": {
        "id": "Sot37y7vqA3J"
      },
      "source": [
        "# Feature Pruning"
      ]
    },
    {
      "cell_type": "code",
      "metadata": {
        "colab": {
          "base_uri": "https://localhost:8080/"
        },
        "id": "aUeF6HbxqCls",
        "outputId": "59776b6f-4843-4270-e1f3-9cf4c1a7c2e4"
      },
      "source": [
        "features_to_keep = [\n",
        "    \"prod_year\", \"prod_year_delta\", \n",
        "    \"prod_year_delta_sq\", \"prod_year_delta_cu\", \n",
        "    \"cylinders\", \"airbags\", \"levy\", \n",
        "    \"manufacturer_class\", \"manufacturer_mean_le\", \n",
        "    \"category_mean_le\", \"leather_interior\", \n",
        "    \"fuel_type_mean_le\", \"turbo\", \"engine_volume\", \n",
        "    \"mileage\", \"mileage_new\", \n",
        "    \"gear_box_type_mean_le\", \"wheel_mean_le\"\n",
        "]\n",
        "len(features_to_keep)"
      ],
      "execution_count": 25,
      "outputs": [
        {
          "output_type": "execute_result",
          "data": {
            "text/plain": [
              "18"
            ]
          },
          "metadata": {},
          "execution_count": 25
        }
      ]
    },
    {
      "cell_type": "code",
      "metadata": {
        "colab": {
          "base_uri": "https://localhost:8080/"
        },
        "id": "Bajle8HiqJD4",
        "outputId": "220ca652-f93e-4c67-95d7-071d33b70c94"
      },
      "source": [
        "test_features_df_og = test_features_df.copy()\n",
        "test_features_df = test_features_df.loc[:, features_to_keep]\n",
        "test_features_df.shape"
      ],
      "execution_count": 26,
      "outputs": [
        {
          "output_type": "execute_result",
          "data": {
            "text/plain": [
              "(1924, 18)"
            ]
          },
          "metadata": {},
          "execution_count": 26
        }
      ]
    },
    {
      "cell_type": "markdown",
      "metadata": {
        "id": "tYVTGUctp6MW"
      },
      "source": [
        "# Predictions"
      ]
    },
    {
      "cell_type": "markdown",
      "metadata": {
        "id": "nNgw9K-hp9cy"
      },
      "source": [
        "Data"
      ]
    },
    {
      "cell_type": "code",
      "metadata": {
        "id": "QdRFT8DziMsD"
      },
      "source": [
        "X_test = test_features_df.to_numpy()\n",
        "y_test = test_targets.to_numpy()"
      ],
      "execution_count": 37,
      "outputs": []
    },
    {
      "cell_type": "markdown",
      "metadata": {
        "id": "FmkpxN1kqs72"
      },
      "source": [
        "Model"
      ]
    },
    {
      "cell_type": "code",
      "metadata": {
        "colab": {
          "base_uri": "https://localhost:8080/"
        },
        "id": "TWLImWGrq2sB",
        "outputId": "c7f7d497-06eb-4752-92d2-b17aed86539d"
      },
      "source": [
        "!unzip model.sav.zip"
      ],
      "execution_count": 30,
      "outputs": [
        {
          "output_type": "stream",
          "name": "stdout",
          "text": [
            "Archive:  model.sav.zip\n",
            "  inflating: model.sav               \n",
            "  inflating: __MACOSX/._model.sav    \n"
          ]
        }
      ]
    },
    {
      "cell_type": "code",
      "metadata": {
        "colab": {
          "base_uri": "https://localhost:8080/"
        },
        "id": "keikfE3fqrWY",
        "outputId": "95b46db4-09ef-459d-dafe-4cc07a6af19c"
      },
      "source": [
        "model_file = 'model.sav'\n",
        "loaded_model = pickle.load(open(model_file, 'rb'))"
      ],
      "execution_count": 33,
      "outputs": [
        {
          "output_type": "stream",
          "name": "stdout",
          "text": [
            "[20:23:29] WARNING: /workspace/src/objective/regression_obj.cu:152: reg:linear is now deprecated in favor of reg:squarederror.\n"
          ]
        }
      ]
    },
    {
      "cell_type": "markdown",
      "metadata": {
        "id": "yQhUXe9-q9vk"
      },
      "source": [
        "Predictions"
      ]
    },
    {
      "cell_type": "code",
      "metadata": {
        "id": "ZSPk6GEsq9kU"
      },
      "source": [
        "# test_preds = loaded_model.predict(X_test)\n",
        "test_preds = np.where(loaded_model.predict(X_test)>0, loaded_model.predict(X_test), 0)"
      ],
      "execution_count": 42,
      "outputs": []
    },
    {
      "cell_type": "markdown",
      "metadata": {
        "id": "KRY5epa2rJBp"
      },
      "source": [
        "Evaluation"
      ]
    },
    {
      "cell_type": "code",
      "metadata": {
        "colab": {
          "base_uri": "https://localhost:8080/"
        },
        "id": "pQetH-fkrJzo",
        "outputId": "4532b629-9f29-4a57-b7c2-1f92e5aacdcf"
      },
      "source": [
        "test_rmse = np.sqrt(mean_squared_error(y_true=y_test, y_pred=test_preds))\n",
        "print(f\"Test RMSE: {test_rmse}\")"
      ],
      "execution_count": 43,
      "outputs": [
        {
          "output_type": "stream",
          "name": "stdout",
          "text": [
            "Test RMSE: 10543.925662683565\n"
          ]
        }
      ]
    },
    {
      "cell_type": "code",
      "metadata": {
        "colab": {
          "base_uri": "https://localhost:8080/"
        },
        "id": "9yYsx92Brg0W",
        "outputId": "836c0626-7d89-4224-ab78-82df84a9a5bf"
      },
      "source": [
        "test_rmse = np.sqrt(mean_squared_log_error(y_true=y_test, y_pred=test_preds))\n",
        "print(f\"Test RMSLE: {test_rmse}\")"
      ],
      "execution_count": 45,
      "outputs": [
        {
          "output_type": "stream",
          "name": "stdout",
          "text": [
            "Test RMSLE: 0.9950522186493146\n"
          ]
        }
      ]
    },
    {
      "cell_type": "code",
      "metadata": {
        "id": "vqDzUfzarzhd"
      },
      "source": [
        ""
      ],
      "execution_count": null,
      "outputs": []
    }
  ]
}