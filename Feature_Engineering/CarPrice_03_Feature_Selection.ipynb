{
  "nbformat": 4,
  "nbformat_minor": 0,
  "metadata": {
    "colab": {
      "name": "CarPrice_03_Feature_Selection.ipynb",
      "provenance": [],
      "collapsed_sections": [],
      "authorship_tag": "ABX9TyNtGYeldsiMq7lk9LEHd1Sr",
      "include_colab_link": true
    },
    "kernelspec": {
      "name": "python3",
      "display_name": "Python 3"
    },
    "language_info": {
      "name": "python"
    }
  },
  "cells": [
    {
      "cell_type": "markdown",
      "metadata": {
        "id": "view-in-github",
        "colab_type": "text"
      },
      "source": [
        "<a href=\"https://colab.research.google.com/github/yashveersinghsohi/Car_Price_Prediction/blob/master/Feature_Engineering/CarPrice_03_Feature_Selection.ipynb\" target=\"_parent\"><img src=\"https://colab.research.google.com/assets/colab-badge.svg\" alt=\"Open In Colab\"/></a>"
      ]
    },
    {
      "cell_type": "markdown",
      "metadata": {
        "id": "j0aRkGLcAuYl"
      },
      "source": [
        "# Importing Packages"
      ]
    },
    {
      "cell_type": "code",
      "metadata": {
        "id": "BNApcEQXAqB6",
        "outputId": "62b1936f-2e9f-4203-fc08-eefcb5c6e25d",
        "colab": {
          "base_uri": "https://localhost:8080/"
        }
      },
      "source": [
        "import pandas as pd\n",
        "import numpy as np\n",
        "import matplotlib.pyplot as plt\n",
        "import seaborn as sns\n",
        "\n",
        "from sklearn.feature_selection import (\n",
        "    SelectKBest, \n",
        "    f_regression, \n",
        "    mutual_info_regression, \n",
        "    chi2, \n",
        "    RFE\n",
        "  )\n",
        "\n",
        "from sklearn.linear_model import LinearRegression\n",
        "from sklearn.ensemble import RandomForestRegressor\n",
        "\n",
        "import statsmodels.api as sm\n",
        "\n",
        "from sklearn.preprocessing import StandardScaler\n",
        "from sklearn.metrics import mean_squared_error"
      ],
      "execution_count": 1,
      "outputs": [
        {
          "output_type": "stream",
          "name": "stderr",
          "text": [
            "/usr/local/lib/python3.7/dist-packages/statsmodels/tools/_testing.py:19: FutureWarning: pandas.util.testing is deprecated. Use the functions in the public API at pandas.testing instead.\n",
            "  import pandas.util.testing as tm\n"
          ]
        }
      ]
    },
    {
      "cell_type": "markdown",
      "metadata": {
        "id": "2QJGdiJFA6IB"
      },
      "source": [
        "# Data"
      ]
    },
    {
      "cell_type": "code",
      "metadata": {
        "id": "XzbBWK8VA440"
      },
      "source": [
        "root_dir = \"https://raw.githubusercontent.com/yashveersinghsohi/Car_Price_Prediction/master/Data/Feature_Engineering_Data/\"\n",
        "\n",
        "train_features_path = root_dir + \"train_features_df.csv\"\n",
        "train_targets_path = root_dir + \"train_targets.csv\"\n",
        "\n",
        "val_features_path = root_dir + \"val_features_df.csv\"\n",
        "val_targets_path = root_dir + \"val_targets.csv\""
      ],
      "execution_count": 2,
      "outputs": []
    },
    {
      "cell_type": "code",
      "metadata": {
        "colab": {
          "base_uri": "https://localhost:8080/"
        },
        "id": "krqxJy-mBYBF",
        "outputId": "212cc34b-5068-4121-9646-579dd2179dd7"
      },
      "source": [
        "train_features_df = pd.read_csv(train_features_path)\n",
        "train_targets = pd.read_csv(train_targets_path)\n",
        "\n",
        "val_features_df = pd.read_csv(val_features_path)\n",
        "val_targets = pd.read_csv(val_targets_path)\n",
        "\n",
        "print(f\"Train Features: {train_features_df.shape}\")\n",
        "print(f\"Train Targets: {train_targets.shape}\", end=\"\\n\\n\")\n",
        "\n",
        "print(f\"Validation Features: {val_features_df.shape}\")\n",
        "print(f\"Validation Targets: {val_targets.shape}\", end=\"\\n\\n\")"
      ],
      "execution_count": 3,
      "outputs": [
        {
          "output_type": "stream",
          "name": "stdout",
          "text": [
            "Train Features: (13351, 30)\n",
            "Train Targets: (13351, 1)\n",
            "\n",
            "Validation Features: (3463, 30)\n",
            "Validation Targets: (3463, 1)\n",
            "\n"
          ]
        }
      ]
    },
    {
      "cell_type": "markdown",
      "metadata": {
        "id": "QfjwFJh0BfrI"
      },
      "source": [
        "# Feature Selection"
      ]
    },
    {
      "cell_type": "markdown",
      "metadata": {
        "id": "6c1vj9tcvDMO"
      },
      "source": [
        "## Scaling Data beforehand"
      ]
    },
    {
      "cell_type": "markdown",
      "metadata": {
        "id": "9sPkGI-V5wYE"
      },
      "source": [
        "A lot of the feature selection models use a linear regression estimator to judge feature performance, and linear regression is sensitive to feature scaling, it seems wise to perform feature scaling first"
      ]
    },
    {
      "cell_type": "code",
      "metadata": {
        "colab": {
          "base_uri": "https://localhost:8080/",
          "height": 225
        },
        "id": "Jzn9dfF0voBs",
        "outputId": "a614f4a2-ec8b-4557-cd3c-f7841a421950"
      },
      "source": [
        "# Storing a copy of the data for future reference\n",
        "train_features_df_og = train_features_df.copy()\n",
        "\n",
        "# Scaling training data\n",
        "scaler = StandardScaler()\n",
        "train_features_df = pd.DataFrame(\n",
        "    scaler.fit_transform(train_features_df), \n",
        "    columns=train_features_df_og.columns\n",
        "  )\n",
        "train_features_df.head()"
      ],
      "execution_count": 4,
      "outputs": [
        {
          "output_type": "execute_result",
          "data": {
            "text/html": [
              "<div>\n",
              "<style scoped>\n",
              "    .dataframe tbody tr th:only-of-type {\n",
              "        vertical-align: middle;\n",
              "    }\n",
              "\n",
              "    .dataframe tbody tr th {\n",
              "        vertical-align: top;\n",
              "    }\n",
              "\n",
              "    .dataframe thead th {\n",
              "        text-align: right;\n",
              "    }\n",
              "</style>\n",
              "<table border=\"1\" class=\"dataframe\">\n",
              "  <thead>\n",
              "    <tr style=\"text-align: right;\">\n",
              "      <th></th>\n",
              "      <th>prod_year</th>\n",
              "      <th>prod_year_delta</th>\n",
              "      <th>prod_year_delta_sq</th>\n",
              "      <th>prod_year_delta_cu</th>\n",
              "      <th>prod_year_new</th>\n",
              "      <th>cylinders</th>\n",
              "      <th>airbags</th>\n",
              "      <th>levy</th>\n",
              "      <th>manufacturer_class</th>\n",
              "      <th>manufacturer_mean_le</th>\n",
              "      <th>manufacturer_median_le</th>\n",
              "      <th>category_mean_le</th>\n",
              "      <th>category_median_le</th>\n",
              "      <th>leather_interior</th>\n",
              "      <th>fuel_type_mean_le</th>\n",
              "      <th>fuel_type_median_le</th>\n",
              "      <th>turbo</th>\n",
              "      <th>engine_volume</th>\n",
              "      <th>mileage</th>\n",
              "      <th>mileage_new</th>\n",
              "      <th>gear_box_type_mean_le</th>\n",
              "      <th>gear_box_type_median_le</th>\n",
              "      <th>drive_wheels_mean_le</th>\n",
              "      <th>drive_wheels_median_le</th>\n",
              "      <th>doors_mean_le</th>\n",
              "      <th>doors_median_le</th>\n",
              "      <th>wheel_mean_le</th>\n",
              "      <th>wheel_median_le</th>\n",
              "      <th>color_mean_le</th>\n",
              "      <th>color_median_le</th>\n",
              "    </tr>\n",
              "  </thead>\n",
              "  <tbody>\n",
              "    <tr>\n",
              "      <th>0</th>\n",
              "      <td>0.546706</td>\n",
              "      <td>-0.546706</td>\n",
              "      <td>-0.413618</td>\n",
              "      <td>-0.180715</td>\n",
              "      <td>-0.395587</td>\n",
              "      <td>-0.465299</td>\n",
              "      <td>0.333520</td>\n",
              "      <td>-1.889583</td>\n",
              "      <td>-1.682985</td>\n",
              "      <td>-0.103778</td>\n",
              "      <td>-0.103778</td>\n",
              "      <td>-1.172426</td>\n",
              "      <td>-1.172426</td>\n",
              "      <td>0.618251</td>\n",
              "      <td>-0.621684</td>\n",
              "      <td>-0.621684</td>\n",
              "      <td>-0.329841</td>\n",
              "      <td>-0.591048</td>\n",
              "      <td>0.581966</td>\n",
              "      <td>-0.194985</td>\n",
              "      <td>2.758510</td>\n",
              "      <td>2.758510</td>\n",
              "      <td>0.155798</td>\n",
              "      <td>0.155798</td>\n",
              "      <td>0.146126</td>\n",
              "      <td>0.146126</td>\n",
              "      <td>-0.28974</td>\n",
              "      <td>-0.28974</td>\n",
              "      <td>-0.150926</td>\n",
              "      <td>-0.150926</td>\n",
              "    </tr>\n",
              "    <tr>\n",
              "      <th>1</th>\n",
              "      <td>-2.336665</td>\n",
              "      <td>2.336665</td>\n",
              "      <td>2.011788</td>\n",
              "      <td>0.929791</td>\n",
              "      <td>1.098044</td>\n",
              "      <td>1.375083</td>\n",
              "      <td>-0.130099</td>\n",
              "      <td>-0.207690</td>\n",
              "      <td>0.406815</td>\n",
              "      <td>0.146139</td>\n",
              "      <td>0.146139</td>\n",
              "      <td>0.978655</td>\n",
              "      <td>0.978655</td>\n",
              "      <td>0.618251</td>\n",
              "      <td>-2.116392</td>\n",
              "      <td>-2.116392</td>\n",
              "      <td>-0.329841</td>\n",
              "      <td>1.266801</td>\n",
              "      <td>0.881675</td>\n",
              "      <td>-0.194985</td>\n",
              "      <td>1.641672</td>\n",
              "      <td>1.641672</td>\n",
              "      <td>1.953606</td>\n",
              "      <td>1.953606</td>\n",
              "      <td>0.146126</td>\n",
              "      <td>0.146126</td>\n",
              "      <td>-0.28974</td>\n",
              "      <td>-0.28974</td>\n",
              "      <td>-1.270687</td>\n",
              "      <td>-1.270687</td>\n",
              "    </tr>\n",
              "    <tr>\n",
              "      <th>2</th>\n",
              "      <td>-0.174137</td>\n",
              "      <td>0.174137</td>\n",
              "      <td>-0.067131</td>\n",
              "      <td>-0.097257</td>\n",
              "      <td>1.098044</td>\n",
              "      <td>-0.465299</td>\n",
              "      <td>-0.593717</td>\n",
              "      <td>-0.541935</td>\n",
              "      <td>-1.682985</td>\n",
              "      <td>-1.228401</td>\n",
              "      <td>-1.228401</td>\n",
              "      <td>0.978655</td>\n",
              "      <td>0.978655</td>\n",
              "      <td>0.618251</td>\n",
              "      <td>0.873023</td>\n",
              "      <td>0.873023</td>\n",
              "      <td>-0.329841</td>\n",
              "      <td>-0.856455</td>\n",
              "      <td>0.025364</td>\n",
              "      <td>-0.194985</td>\n",
              "      <td>-0.592006</td>\n",
              "      <td>-0.592006</td>\n",
              "      <td>0.155798</td>\n",
              "      <td>0.155798</td>\n",
              "      <td>0.146126</td>\n",
              "      <td>0.146126</td>\n",
              "      <td>-0.28974</td>\n",
              "      <td>-0.28974</td>\n",
              "      <td>-0.150926</td>\n",
              "      <td>-0.150926</td>\n",
              "    </tr>\n",
              "    <tr>\n",
              "      <th>3</th>\n",
              "      <td>-2.516876</td>\n",
              "      <td>2.516876</td>\n",
              "      <td>2.255412</td>\n",
              "      <td>1.091491</td>\n",
              "      <td>1.098044</td>\n",
              "      <td>-0.465299</td>\n",
              "      <td>-0.593717</td>\n",
              "      <td>-0.207690</td>\n",
              "      <td>0.406815</td>\n",
              "      <td>0.146139</td>\n",
              "      <td>0.146139</td>\n",
              "      <td>0.978655</td>\n",
              "      <td>0.978655</td>\n",
              "      <td>-1.617466</td>\n",
              "      <td>0.873023</td>\n",
              "      <td>0.873023</td>\n",
              "      <td>-0.329841</td>\n",
              "      <td>-0.325641</td>\n",
              "      <td>1.792845</td>\n",
              "      <td>-0.194985</td>\n",
              "      <td>0.524833</td>\n",
              "      <td>0.524833</td>\n",
              "      <td>1.953606</td>\n",
              "      <td>1.953606</td>\n",
              "      <td>0.146126</td>\n",
              "      <td>0.146126</td>\n",
              "      <td>-0.28974</td>\n",
              "      <td>-0.28974</td>\n",
              "      <td>-1.084060</td>\n",
              "      <td>-1.084060</td>\n",
              "    </tr>\n",
              "    <tr>\n",
              "      <th>4</th>\n",
              "      <td>0.907128</td>\n",
              "      <td>-0.907128</td>\n",
              "      <td>-0.521895</td>\n",
              "      <td>-0.196896</td>\n",
              "      <td>-1.142402</td>\n",
              "      <td>-0.465299</td>\n",
              "      <td>-0.593717</td>\n",
              "      <td>0.183448</td>\n",
              "      <td>0.406815</td>\n",
              "      <td>-0.541131</td>\n",
              "      <td>-0.541131</td>\n",
              "      <td>-0.813913</td>\n",
              "      <td>-0.813913</td>\n",
              "      <td>0.618251</td>\n",
              "      <td>-1.369038</td>\n",
              "      <td>-1.369038</td>\n",
              "      <td>-0.329841</td>\n",
              "      <td>-0.325641</td>\n",
              "      <td>-0.378034</td>\n",
              "      <td>-0.194985</td>\n",
              "      <td>-0.592006</td>\n",
              "      <td>-0.592006</td>\n",
              "      <td>0.155798</td>\n",
              "      <td>0.155798</td>\n",
              "      <td>0.146126</td>\n",
              "      <td>0.146126</td>\n",
              "      <td>-0.28974</td>\n",
              "      <td>-0.28974</td>\n",
              "      <td>1.155462</td>\n",
              "      <td>1.155462</td>\n",
              "    </tr>\n",
              "  </tbody>\n",
              "</table>\n",
              "</div>"
            ],
            "text/plain": [
              "   prod_year  prod_year_delta  ...  color_mean_le  color_median_le\n",
              "0   0.546706        -0.546706  ...      -0.150926        -0.150926\n",
              "1  -2.336665         2.336665  ...      -1.270687        -1.270687\n",
              "2  -0.174137         0.174137  ...      -0.150926        -0.150926\n",
              "3  -2.516876         2.516876  ...      -1.084060        -1.084060\n",
              "4   0.907128        -0.907128  ...       1.155462         1.155462\n",
              "\n",
              "[5 rows x 30 columns]"
            ]
          },
          "metadata": {},
          "execution_count": 4
        }
      ]
    },
    {
      "cell_type": "markdown",
      "metadata": {
        "id": "UaUs4GCKDp8K"
      },
      "source": [
        "## Using f_regression"
      ]
    },
    {
      "cell_type": "markdown",
      "metadata": {
        "id": "Y_QwrBqI8dfq"
      },
      "source": [
        "`f_regression` measures the linear relationship features have with the target."
      ]
    },
    {
      "cell_type": "code",
      "metadata": {
        "colab": {
          "base_uri": "https://localhost:8080/",
          "height": 479
        },
        "id": "XDhJhA-UBcsa",
        "outputId": "ae5f3202-7b02-457f-ba7f-020c5a40881a"
      },
      "source": [
        "# Training f_regression model\n",
        "X_train, y_train = train_features_df.to_numpy(), train_targets.to_numpy().ravel()\n",
        "\n",
        "fs = SelectKBest(score_func=f_regression, k='all')\n",
        "fs.fit(X_train, y_train)\n",
        "\n",
        "# Storing f_regression scores\n",
        "f_regression_df = pd.DataFrame(\n",
        "    np.c_[train_features_df.columns, fs.scores_], \n",
        "    columns=[\"Feature\", \"Score\"]\n",
        "  )\n",
        "\n",
        "# Plotting f_regression scores\n",
        "fig, ax = plt.subplots(figsize=(20, 5))\n",
        "\n",
        "f_regression_df.sort_values(\n",
        "    by=\"Score\", \n",
        "    ascending=False\n",
        "  ).plot.bar(\n",
        "      x=\"Feature\", \n",
        "      y=\"Score\", \n",
        "      ax=ax\n",
        "    )\n",
        "  \n",
        "ax.tick_params('x', labelrotation=90)\n",
        "ax.set_xlabel(\"Features\", size=15)\n",
        "ax.set_ylabel(\"Importance score\", size=15)\n",
        "ax.set_title(\"Importance of each feature according to f_regression\", size=20)\n",
        "plt.show()"
      ],
      "execution_count": 5,
      "outputs": [
        {
          "output_type": "display_data",
          "data": {
            "image/png": "[encoded data removed]",
            "text/plain": [
              "<Figure size 1440x360 with 1 Axes>"
            ]
          },
          "metadata": {
            "needs_background": "light"
          }
        }
      ]
    },
    {
      "cell_type": "markdown",
      "metadata": {
        "id": "CPgAqfPZFc68"
      },
      "source": [
        "## Using mutual_info_regression"
      ]
    },
    {
      "cell_type": "markdown",
      "metadata": {
        "id": "6cZ2HPpZ8lt2"
      },
      "source": [
        "`mutual_info_regression` measures the amount of information that can be expressed about the target using a feature."
      ]
    },
    {
      "cell_type": "code",
      "metadata": {
        "colab": {
          "base_uri": "https://localhost:8080/",
          "height": 479
        },
        "id": "_eklEvVBFPdu",
        "outputId": "5ea2e1b1-86a7-469a-eed6-47fcf2812f95"
      },
      "source": [
        "# Training mutual_info_regression model\n",
        "X_train, y_train = train_features_df.to_numpy(), train_targets.to_numpy().ravel()\n",
        "\n",
        "fs = SelectKBest(score_func=mutual_info_regression, k='all')\n",
        "fs.fit(X_train, y_train)\n",
        "\n",
        "# Storing mutual_info_regression scores\n",
        "mutual_info_regression_df = pd.DataFrame(\n",
        "    np.c_[train_features_df.columns, fs.scores_], \n",
        "    columns=[\"Feature\", \"Score\"]\n",
        "  )\n",
        "\n",
        "# Plotting mutual_info_regression scores\n",
        "fig, ax = plt.subplots(figsize=(20, 5))\n",
        "\n",
        "mutual_info_regression_df.sort_values(\n",
        "    by=\"Score\", \n",
        "    ascending=False\n",
        "  ).plot.bar(\n",
        "      x=\"Feature\", \n",
        "      y=\"Score\", \n",
        "      ax=ax\n",
        "    )\n",
        "  \n",
        "ax.tick_params('x', labelrotation=90)\n",
        "ax.set_xlabel(\"Features\", size=15)\n",
        "ax.set_ylabel(\"Importance score\", size=15)\n",
        "ax.set_title(\"Importance of each feature according to mutual_info_regression\", size=20)\n",
        "plt.show()"
      ],
      "execution_count": 6,
      "outputs": [
        {
          "output_type": "display_data",
          "data": {
            "image/png": "[encoded data removed]",
            "text/plain": [
              "<Figure size 1440x360 with 1 Axes>"
            ]
          },
          "metadata": {
            "needs_background": "light"
          }
        }
      ]
    },
    {
      "cell_type": "markdown",
      "metadata": {
        "id": "GCYIYbL_hhSl"
      },
      "source": [
        "## Using RFE (Recursive Feature Elimination) with linear regression estimator"
      ]
    },
    {
      "cell_type": "markdown",
      "metadata": {
        "id": "qh3TI5busP8A"
      },
      "source": [
        "RFE select features by recursively considering smaller and smaller sets of features."
      ]
    },
    {
      "cell_type": "code",
      "metadata": {
        "colab": {
          "base_uri": "https://localhost:8080/",
          "height": 986
        },
        "id": "UzI0D7a6hjom",
        "outputId": "b0499164-c30a-4f9d-f199-be7e39c2d05a"
      },
      "source": [
        "X_train, y_train = train_features_df.to_numpy(), train_targets.to_numpy().ravel()\n",
        "\n",
        "lin_reg = LinearRegression()\n",
        "\n",
        "rfe = RFE(estimator=lin_reg, n_features_to_select=1, step=1)\n",
        "rfe.fit(X_train, y_train)\n",
        "\n",
        "rankings_map = {rank: col for rank, col in zip(rfe.ranking_, train_features_df.columns)}\n",
        "rankings_list = [rankings_map[rank] for rank in sorted(rankings_map)]\n",
        "lin_reg_rankings_df = pd.DataFrame(rankings_list, columns=[\"Feature\"])\n",
        "lin_reg_rankings_df"
      ],
      "execution_count": 7,
      "outputs": [
        {
          "output_type": "execute_result",
          "data": {
            "text/html": [
              "<div>\n",
              "<style scoped>\n",
              "    .dataframe tbody tr th:only-of-type {\n",
              "        vertical-align: middle;\n",
              "    }\n",
              "\n",
              "    .dataframe tbody tr th {\n",
              "        vertical-align: top;\n",
              "    }\n",
              "\n",
              "    .dataframe thead th {\n",
              "        text-align: right;\n",
              "    }\n",
              "</style>\n",
              "<table border=\"1\" class=\"dataframe\">\n",
              "  <thead>\n",
              "    <tr style=\"text-align: right;\">\n",
              "      <th></th>\n",
              "      <th>Feature</th>\n",
              "    </tr>\n",
              "  </thead>\n",
              "  <tbody>\n",
              "    <tr>\n",
              "      <th>0</th>\n",
              "      <td>prod_year</td>\n",
              "    </tr>\n",
              "    <tr>\n",
              "      <th>1</th>\n",
              "      <td>prod_year_delta</td>\n",
              "    </tr>\n",
              "    <tr>\n",
              "      <th>2</th>\n",
              "      <td>prod_year_delta_sq</td>\n",
              "    </tr>\n",
              "    <tr>\n",
              "      <th>3</th>\n",
              "      <td>prod_year_delta_cu</td>\n",
              "    </tr>\n",
              "    <tr>\n",
              "      <th>4</th>\n",
              "      <td>gear_box_type_median_le</td>\n",
              "    </tr>\n",
              "    <tr>\n",
              "      <th>5</th>\n",
              "      <td>gear_box_type_mean_le</td>\n",
              "    </tr>\n",
              "    <tr>\n",
              "      <th>6</th>\n",
              "      <td>airbags</td>\n",
              "    </tr>\n",
              "    <tr>\n",
              "      <th>7</th>\n",
              "      <td>engine_volume</td>\n",
              "    </tr>\n",
              "    <tr>\n",
              "      <th>8</th>\n",
              "      <td>fuel_type_median_le</td>\n",
              "    </tr>\n",
              "    <tr>\n",
              "      <th>9</th>\n",
              "      <td>category_mean_le</td>\n",
              "    </tr>\n",
              "    <tr>\n",
              "      <th>10</th>\n",
              "      <td>fuel_type_mean_le</td>\n",
              "    </tr>\n",
              "    <tr>\n",
              "      <th>11</th>\n",
              "      <td>category_median_le</td>\n",
              "    </tr>\n",
              "    <tr>\n",
              "      <th>12</th>\n",
              "      <td>turbo</td>\n",
              "    </tr>\n",
              "    <tr>\n",
              "      <th>13</th>\n",
              "      <td>manufacturer_class</td>\n",
              "    </tr>\n",
              "    <tr>\n",
              "      <th>14</th>\n",
              "      <td>mileage</td>\n",
              "    </tr>\n",
              "    <tr>\n",
              "      <th>15</th>\n",
              "      <td>mileage_new</td>\n",
              "    </tr>\n",
              "    <tr>\n",
              "      <th>16</th>\n",
              "      <td>cylinders</td>\n",
              "    </tr>\n",
              "    <tr>\n",
              "      <th>17</th>\n",
              "      <td>doors_median_le</td>\n",
              "    </tr>\n",
              "    <tr>\n",
              "      <th>18</th>\n",
              "      <td>manufacturer_mean_le</td>\n",
              "    </tr>\n",
              "    <tr>\n",
              "      <th>19</th>\n",
              "      <td>wheel_median_le</td>\n",
              "    </tr>\n",
              "    <tr>\n",
              "      <th>20</th>\n",
              "      <td>prod_year_new</td>\n",
              "    </tr>\n",
              "    <tr>\n",
              "      <th>21</th>\n",
              "      <td>doors_mean_le</td>\n",
              "    </tr>\n",
              "    <tr>\n",
              "      <th>22</th>\n",
              "      <td>manufacturer_median_le</td>\n",
              "    </tr>\n",
              "    <tr>\n",
              "      <th>23</th>\n",
              "      <td>wheel_mean_le</td>\n",
              "    </tr>\n",
              "    <tr>\n",
              "      <th>24</th>\n",
              "      <td>color_mean_le</td>\n",
              "    </tr>\n",
              "    <tr>\n",
              "      <th>25</th>\n",
              "      <td>drive_wheels_mean_le</td>\n",
              "    </tr>\n",
              "    <tr>\n",
              "      <th>26</th>\n",
              "      <td>color_median_le</td>\n",
              "    </tr>\n",
              "    <tr>\n",
              "      <th>27</th>\n",
              "      <td>drive_wheels_median_le</td>\n",
              "    </tr>\n",
              "    <tr>\n",
              "      <th>28</th>\n",
              "      <td>levy</td>\n",
              "    </tr>\n",
              "    <tr>\n",
              "      <th>29</th>\n",
              "      <td>leather_interior</td>\n",
              "    </tr>\n",
              "  </tbody>\n",
              "</table>\n",
              "</div>"
            ],
            "text/plain": [
              "                    Feature\n",
              "0                 prod_year\n",
              "1           prod_year_delta\n",
              "2        prod_year_delta_sq\n",
              "3        prod_year_delta_cu\n",
              "4   gear_box_type_median_le\n",
              "5     gear_box_type_mean_le\n",
              "6                   airbags\n",
              "7             engine_volume\n",
              "8       fuel_type_median_le\n",
              "9          category_mean_le\n",
              "10        fuel_type_mean_le\n",
              "11       category_median_le\n",
              "12                    turbo\n",
              "13       manufacturer_class\n",
              "14                  mileage\n",
              "15              mileage_new\n",
              "16                cylinders\n",
              "17          doors_median_le\n",
              "18     manufacturer_mean_le\n",
              "19          wheel_median_le\n",
              "20            prod_year_new\n",
              "21            doors_mean_le\n",
              "22   manufacturer_median_le\n",
              "23            wheel_mean_le\n",
              "24            color_mean_le\n",
              "25     drive_wheels_mean_le\n",
              "26          color_median_le\n",
              "27   drive_wheels_median_le\n",
              "28                     levy\n",
              "29         leather_interior"
            ]
          },
          "metadata": {},
          "execution_count": 7
        }
      ]
    },
    {
      "cell_type": "markdown",
      "metadata": {
        "id": "Al4zQBn-Hckj"
      },
      "source": [
        "## Using p-value from OLS regression in statsmodels"
      ]
    },
    {
      "cell_type": "markdown",
      "metadata": {
        "id": "FGlVLyCH-PMA"
      },
      "source": [
        "`p-vlaue` from `OLS` regression in `statsmodels` can tell us whether adding a certain feature is making the model better or not"
      ]
    },
    {
      "cell_type": "code",
      "metadata": {
        "colab": {
          "base_uri": "https://localhost:8080/",
          "height": 1000
        },
        "id": "1AJHBtSpGKAC",
        "outputId": "ba2e36d9-13e7-40a0-877d-50fb3eeb4fe0"
      },
      "source": [
        "X_train, y_train = train_features_df, train_targets.to_numpy().ravel()\n",
        "X_train = sm.add_constant(X_train)\n",
        "\n",
        "model = sm.OLS(y_train, X_train)\n",
        "result = model.fit()\n",
        "\n",
        "result.summary()"
      ],
      "execution_count": 8,
      "outputs": [
        {
          "output_type": "execute_result",
          "data": {
            "text/html": [
              "<table class=\"simpletable\">\n",
              "<caption>OLS Regression Results</caption>\n",
              "<tr>\n",
              "  <th>Dep. Variable:</th>            <td>y</td>        <th>  R-squared:         </th>  <td>   0.320</td>  \n",
              "</tr>\n",
              "<tr>\n",
              "  <th>Model:</th>                   <td>OLS</td>       <th>  Adj. R-squared:    </th>  <td>   0.319</td>  \n",
              "</tr>\n",
              "<tr>\n",
              "  <th>Method:</th>             <td>Least Squares</td>  <th>  F-statistic:       </th>  <td>   298.6</td>  \n",
              "</tr>\n",
              "<tr>\n",
              "  <th>Date:</th>             <td>Fri, 10 Sep 2021</td> <th>  Prob (F-statistic):</th>   <td>  0.00</td>   \n",
              "</tr>\n",
              "<tr>\n",
              "  <th>Time:</th>                 <td>23:35:29</td>     <th>  Log-Likelihood:    </th> <td>-1.4521e+05</td>\n",
              "</tr>\n",
              "<tr>\n",
              "  <th>No. Observations:</th>      <td> 13351</td>      <th>  AIC:               </th>  <td>2.905e+05</td> \n",
              "</tr>\n",
              "<tr>\n",
              "  <th>Df Residuals:</th>          <td> 13329</td>      <th>  BIC:               </th>  <td>2.906e+05</td> \n",
              "</tr>\n",
              "<tr>\n",
              "  <th>Df Model:</th>              <td>    21</td>      <th>                     </th>      <td> </td>     \n",
              "</tr>\n",
              "<tr>\n",
              "  <th>Covariance Type:</th>      <td>nonrobust</td>    <th>                     </th>      <td> </td>     \n",
              "</tr>\n",
              "</table>\n",
              "<table class=\"simpletable\">\n",
              "<tr>\n",
              "             <td></td>                <th>coef</th>     <th>std err</th>      <th>t</th>      <th>P>|t|</th>  <th>[0.025</th>    <th>0.975]</th>  \n",
              "</tr>\n",
              "<tr>\n",
              "  <th>const</th>                   <td> 1.644e+04</td> <td>  110.876</td> <td>  148.255</td> <td> 0.000</td> <td> 1.62e+04</td> <td> 1.67e+04</td>\n",
              "</tr>\n",
              "<tr>\n",
              "  <th>prod_year</th>               <td> 7117.9987</td> <td>  630.505</td> <td>   11.289</td> <td> 0.000</td> <td> 5882.120</td> <td> 8353.877</td>\n",
              "</tr>\n",
              "<tr>\n",
              "  <th>prod_year_delta</th>         <td>-7117.9987</td> <td>  630.505</td> <td>  -11.289</td> <td> 0.000</td> <td>-8353.877</td> <td>-5882.120</td>\n",
              "</tr>\n",
              "<tr>\n",
              "  <th>prod_year_delta_sq</th>      <td> 1.429e+04</td> <td> 1593.336</td> <td>    8.969</td> <td> 0.000</td> <td> 1.12e+04</td> <td> 1.74e+04</td>\n",
              "</tr>\n",
              "<tr>\n",
              "  <th>prod_year_delta_cu</th>      <td>-6084.5545</td> <td>  784.336</td> <td>   -7.758</td> <td> 0.000</td> <td>-7621.964</td> <td>-4547.144</td>\n",
              "</tr>\n",
              "<tr>\n",
              "  <th>prod_year_new</th>           <td> -385.8819</td> <td>  392.923</td> <td>   -0.982</td> <td> 0.326</td> <td>-1156.067</td> <td>  384.303</td>\n",
              "</tr>\n",
              "<tr>\n",
              "  <th>cylinders</th>               <td> -458.9397</td> <td>  177.053</td> <td>   -2.592</td> <td> 0.010</td> <td> -805.988</td> <td> -111.891</td>\n",
              "</tr>\n",
              "<tr>\n",
              "  <th>airbags</th>                 <td>-3398.2225</td> <td>  125.435</td> <td>  -27.091</td> <td> 0.000</td> <td>-3644.094</td> <td>-3152.351</td>\n",
              "</tr>\n",
              "<tr>\n",
              "  <th>levy</th>                    <td>  136.3706</td> <td>  140.162</td> <td>    0.973</td> <td> 0.331</td> <td> -138.366</td> <td>  411.107</td>\n",
              "</tr>\n",
              "<tr>\n",
              "  <th>manufacturer_class</th>      <td> 1963.7006</td> <td>  125.461</td> <td>   15.652</td> <td> 0.000</td> <td> 1717.779</td> <td> 2209.622</td>\n",
              "</tr>\n",
              "<tr>\n",
              "  <th>manufacturer_mean_le</th>    <td> -191.6914</td> <td>   59.862</td> <td>   -3.202</td> <td> 0.001</td> <td> -309.029</td> <td>  -74.354</td>\n",
              "</tr>\n",
              "<tr>\n",
              "  <th>manufacturer_median_le</th>  <td> -191.6914</td> <td>   59.862</td> <td>   -3.202</td> <td> 0.001</td> <td> -309.029</td> <td>  -74.354</td>\n",
              "</tr>\n",
              "<tr>\n",
              "  <th>category_mean_le</th>        <td> -915.0072</td> <td>   61.137</td> <td>  -14.967</td> <td> 0.000</td> <td>-1034.844</td> <td> -795.170</td>\n",
              "</tr>\n",
              "<tr>\n",
              "  <th>category_median_le</th>      <td> -915.0072</td> <td>   61.137</td> <td>  -14.967</td> <td> 0.000</td> <td>-1034.844</td> <td> -795.170</td>\n",
              "</tr>\n",
              "<tr>\n",
              "  <th>leather_interior</th>        <td>   40.8878</td> <td>  139.153</td> <td>    0.294</td> <td> 0.769</td> <td> -231.872</td> <td>  313.648</td>\n",
              "</tr>\n",
              "<tr>\n",
              "  <th>fuel_type_mean_le</th>       <td> -570.0920</td> <td>   60.355</td> <td>   -9.446</td> <td> 0.000</td> <td> -688.397</td> <td> -451.787</td>\n",
              "</tr>\n",
              "<tr>\n",
              "  <th>fuel_type_median_le</th>     <td> -570.0920</td> <td>   60.355</td> <td>   -9.446</td> <td> 0.000</td> <td> -688.397</td> <td> -451.787</td>\n",
              "</tr>\n",
              "<tr>\n",
              "  <th>turbo</th>                   <td> 2604.8115</td> <td>  117.209</td> <td>   22.224</td> <td> 0.000</td> <td> 2375.065</td> <td> 2834.558</td>\n",
              "</tr>\n",
              "<tr>\n",
              "  <th>engine_volume</th>           <td> 3608.4659</td> <td>  203.074</td> <td>   17.769</td> <td> 0.000</td> <td> 3210.411</td> <td> 4006.520</td>\n",
              "</tr>\n",
              "<tr>\n",
              "  <th>mileage</th>                 <td>-2611.6060</td> <td>  128.272</td> <td>  -20.360</td> <td> 0.000</td> <td>-2863.037</td> <td>-2360.175</td>\n",
              "</tr>\n",
              "<tr>\n",
              "  <th>mileage_new</th>             <td>-1619.0630</td> <td>  119.451</td> <td>  -13.554</td> <td> 0.000</td> <td>-1853.204</td> <td>-1384.922</td>\n",
              "</tr>\n",
              "<tr>\n",
              "  <th>gear_box_type_mean_le</th>   <td> 1591.7811</td> <td>   62.380</td> <td>   25.518</td> <td> 0.000</td> <td> 1469.508</td> <td> 1714.055</td>\n",
              "</tr>\n",
              "<tr>\n",
              "  <th>gear_box_type_median_le</th> <td> 1591.7811</td> <td>   62.380</td> <td>   25.518</td> <td> 0.000</td> <td> 1469.508</td> <td> 1714.055</td>\n",
              "</tr>\n",
              "<tr>\n",
              "  <th>drive_wheels_mean_le</th>    <td>   59.0325</td> <td>   63.257</td> <td>    0.933</td> <td> 0.351</td> <td>  -64.960</td> <td>  183.025</td>\n",
              "</tr>\n",
              "<tr>\n",
              "  <th>drive_wheels_median_le</th>  <td>   59.0325</td> <td>   63.257</td> <td>    0.933</td> <td> 0.351</td> <td>  -64.960</td> <td>  183.025</td>\n",
              "</tr>\n",
              "<tr>\n",
              "  <th>doors_mean_le</th>           <td>  237.3774</td> <td>   59.281</td> <td>    4.004</td> <td> 0.000</td> <td>  121.179</td> <td>  353.576</td>\n",
              "</tr>\n",
              "<tr>\n",
              "  <th>doors_median_le</th>         <td>  237.3774</td> <td>   59.281</td> <td>    4.004</td> <td> 0.000</td> <td>  121.179</td> <td>  353.576</td>\n",
              "</tr>\n",
              "<tr>\n",
              "  <th>wheel_mean_le</th>           <td> -193.6917</td> <td>   64.496</td> <td>   -3.003</td> <td> 0.003</td> <td> -320.112</td> <td>  -67.271</td>\n",
              "</tr>\n",
              "<tr>\n",
              "  <th>wheel_median_le</th>         <td> -193.6917</td> <td>   64.496</td> <td>   -3.003</td> <td> 0.003</td> <td> -320.112</td> <td>  -67.271</td>\n",
              "</tr>\n",
              "<tr>\n",
              "  <th>color_mean_le</th>           <td>   78.7346</td> <td>   56.388</td> <td>    1.396</td> <td> 0.163</td> <td>  -31.794</td> <td>  189.263</td>\n",
              "</tr>\n",
              "<tr>\n",
              "  <th>color_median_le</th>         <td>   78.7346</td> <td>   56.388</td> <td>    1.396</td> <td> 0.163</td> <td>  -31.794</td> <td>  189.263</td>\n",
              "</tr>\n",
              "</table>\n",
              "<table class=\"simpletable\">\n",
              "<tr>\n",
              "  <th>Omnibus:</th>       <td>2172.560</td> <th>  Durbin-Watson:     </th> <td>   2.021</td>\n",
              "</tr>\n",
              "<tr>\n",
              "  <th>Prob(Omnibus):</th>  <td> 0.000</td>  <th>  Jarque-Bera (JB):  </th> <td>6034.567</td>\n",
              "</tr>\n",
              "<tr>\n",
              "  <th>Skew:</th>           <td> 0.877</td>  <th>  Prob(JB):          </th> <td>    0.00</td>\n",
              "</tr>\n",
              "<tr>\n",
              "  <th>Kurtosis:</th>       <td> 5.788</td>  <th>  Cond. No.          </th> <td>2.16e+16</td>\n",
              "</tr>\n",
              "</table><br/><br/>Warnings:<br/>[1] Standard Errors assume that the covariance matrix of the errors is correctly specified.<br/>[2] The smallest eigenvalue is 1.39e-28. This might indicate that there are<br/>strong multicollinearity problems or that the design matrix is singular."
            ],
            "text/plain": [
              "<class 'statsmodels.iolib.summary.Summary'>\n",
              "\"\"\"\n",
              "                            OLS Regression Results                            \n",
              "==============================================================================\n",
              "Dep. Variable:                      y   R-squared:                       0.320\n",
              "Model:                            OLS   Adj. R-squared:                  0.319\n",
              "Method:                 Least Squares   F-statistic:                     298.6\n",
              "Date:                Fri, 10 Sep 2021   Prob (F-statistic):               0.00\n",
              "Time:                        23:35:29   Log-Likelihood:            -1.4521e+05\n",
              "No. Observations:               13351   AIC:                         2.905e+05\n",
              "Df Residuals:                   13329   BIC:                         2.906e+05\n",
              "Df Model:                          21                                         \n",
              "Covariance Type:            nonrobust                                         \n",
              "===========================================================================================\n",
              "                              coef    std err          t      P>|t|      [0.025      0.975]\n",
              "-------------------------------------------------------------------------------------------\n",
              "const                    1.644e+04    110.876    148.255      0.000    1.62e+04    1.67e+04\n",
              "prod_year                7117.9987    630.505     11.289      0.000    5882.120    8353.877\n",
              "prod_year_delta         -7117.9987    630.505    -11.289      0.000   -8353.877   -5882.120\n",
              "prod_year_delta_sq       1.429e+04   1593.336      8.969      0.000    1.12e+04    1.74e+04\n",
              "prod_year_delta_cu      -6084.5545    784.336     -7.758      0.000   -7621.964   -4547.144\n",
              "prod_year_new            -385.8819    392.923     -0.982      0.326   -1156.067     384.303\n",
              "cylinders                -458.9397    177.053     -2.592      0.010    -805.988    -111.891\n",
              "airbags                 -3398.2225    125.435    -27.091      0.000   -3644.094   -3152.351\n",
              "levy                      136.3706    140.162      0.973      0.331    -138.366     411.107\n",
              "manufacturer_class       1963.7006    125.461     15.652      0.000    1717.779    2209.622\n",
              "manufacturer_mean_le     -191.6914     59.862     -3.202      0.001    -309.029     -74.354\n",
              "manufacturer_median_le   -191.6914     59.862     -3.202      0.001    -309.029     -74.354\n",
              "category_mean_le         -915.0072     61.137    -14.967      0.000   -1034.844    -795.170\n",
              "category_median_le       -915.0072     61.137    -14.967      0.000   -1034.844    -795.170\n",
              "leather_interior           40.8878    139.153      0.294      0.769    -231.872     313.648\n",
              "fuel_type_mean_le        -570.0920     60.355     -9.446      0.000    -688.397    -451.787\n",
              "fuel_type_median_le      -570.0920     60.355     -9.446      0.000    -688.397    -451.787\n",
              "turbo                    2604.8115    117.209     22.224      0.000    2375.065    2834.558\n",
              "engine_volume            3608.4659    203.074     17.769      0.000    3210.411    4006.520\n",
              "mileage                 -2611.6060    128.272    -20.360      0.000   -2863.037   -2360.175\n",
              "mileage_new             -1619.0630    119.451    -13.554      0.000   -1853.204   -1384.922\n",
              "gear_box_type_mean_le    1591.7811     62.380     25.518      0.000    1469.508    1714.055\n",
              "gear_box_type_median_le  1591.7811     62.380     25.518      0.000    1469.508    1714.055\n",
              "drive_wheels_mean_le       59.0325     63.257      0.933      0.351     -64.960     183.025\n",
              "drive_wheels_median_le     59.0325     63.257      0.933      0.351     -64.960     183.025\n",
              "doors_mean_le             237.3774     59.281      4.004      0.000     121.179     353.576\n",
              "doors_median_le           237.3774     59.281      4.004      0.000     121.179     353.576\n",
              "wheel_mean_le            -193.6917     64.496     -3.003      0.003    -320.112     -67.271\n",
              "wheel_median_le          -193.6917     64.496     -3.003      0.003    -320.112     -67.271\n",
              "color_mean_le              78.7346     56.388      1.396      0.163     -31.794     189.263\n",
              "color_median_le            78.7346     56.388      1.396      0.163     -31.794     189.263\n",
              "==============================================================================\n",
              "Omnibus:                     2172.560   Durbin-Watson:                   2.021\n",
              "Prob(Omnibus):                  0.000   Jarque-Bera (JB):             6034.567\n",
              "Skew:                           0.877   Prob(JB):                         0.00\n",
              "Kurtosis:                       5.788   Cond. No.                     2.16e+16\n",
              "==============================================================================\n",
              "\n",
              "Warnings:\n",
              "[1] Standard Errors assume that the covariance matrix of the errors is correctly specified.\n",
              "[2] The smallest eigenvalue is 1.39e-28. This might indicate that there are\n",
              "strong multicollinearity problems or that the design matrix is singular.\n",
              "\"\"\""
            ]
          },
          "metadata": {},
          "execution_count": 8
        }
      ]
    },
    {
      "cell_type": "markdown",
      "metadata": {
        "id": "dtPXCiYzlPMW"
      },
      "source": [
        "## Using feature importance in RandomForest"
      ]
    },
    {
      "cell_type": "code",
      "metadata": {
        "colab": {
          "base_uri": "https://localhost:8080/",
          "height": 479
        },
        "id": "NpmCOiTmlR5j",
        "outputId": "023fa7f2-062b-4480-f0d8-a31488f3f4f4"
      },
      "source": [
        "X_train, y_train = train_features_df, train_targets.to_numpy().ravel()\n",
        "\n",
        "rf_reg = RandomForestRegressor(random_state=42)\n",
        "rf_reg.fit(X_train, y_train)\n",
        "\n",
        "rf_reg_df = pd.DataFrame(\n",
        "    np.c_[train_features_df.columns, rf_reg.feature_importances_], \n",
        "    columns=[\"Feature\", \"Score\"]\n",
        "  )\n",
        "\n",
        "fig, ax = plt.subplots(figsize=(20, 5))\n",
        "\n",
        "rf_reg_df.sort_values(\n",
        "    by=\"Score\", \n",
        "    ascending=False\n",
        "  ).plot.bar(\n",
        "      x=\"Feature\", \n",
        "      y=\"Score\", \n",
        "      ax=ax\n",
        "    )\n",
        "  \n",
        "ax.tick_params('x', labelrotation=90)\n",
        "ax.set_xlabel(\"Features\", size=15)\n",
        "ax.set_ylabel(\"Importance score\", size=15)\n",
        "ax.set_title(\"Importance of each feature according to Random Forest\", size=20)\n",
        "plt.show()"
      ],
      "execution_count": 9,
      "outputs": [
        {
          "output_type": "display_data",
          "data": {
            "image/png": "[encoded data removed]",
            "text/plain": [
              "<Figure size 1440x360 with 1 Axes>"
            ]
          },
          "metadata": {
            "needs_background": "light"
          }
        }
      ]
    },
    {
      "cell_type": "markdown",
      "metadata": {
        "id": "dCBjJo8syKHx"
      },
      "source": [
        "# Feature pruning"
      ]
    },
    {
      "cell_type": "markdown",
      "metadata": {
        "id": "ehcj--UyyNOM"
      },
      "source": [
        "After studying all the plots, and the RFE rankings I decided to remove the following features:\n",
        "- All Median label encoded (`...median_le`) features.\n",
        "  - This is because in all cases the Mean label encoded (`...mean_le`) counterparts are looking better or roughly the same.\n",
        "\n",
        "- `color`, `drive_wheels`, `doors`\n",
        "  - Seem unimportant according to all the tests\n",
        "\n",
        "- `prod_year_new`\n",
        "  - Intended to capture the same information as `mileage_new`, but the latter is performing better across all tests."
      ]
    },
    {
      "cell_type": "code",
      "metadata": {
        "colab": {
          "base_uri": "https://localhost:8080/"
        },
        "id": "U6V71M8F34Tp",
        "outputId": "5e329657-d9d5-4101-9f1e-e21f2d8aeb00"
      },
      "source": [
        "features_to_keep = [\n",
        "    \"prod_year\", \"prod_year_delta\", \n",
        "    \"prod_year_delta_sq\", \"prod_year_delta_cu\", \n",
        "    \"cylinders\", \"airbags\", \"levy\", \n",
        "    \"manufacturer_class\", \"manufacturer_mean_le\", \n",
        "    \"category_mean_le\", \"leather_interior\", \n",
        "    \"fuel_type_mean_le\", \"turbo\", \"engine_volume\", \n",
        "    \"mileage\", \"mileage_new\", \n",
        "    \"gear_box_type_mean_le\", \"wheel_mean_le\"\n",
        "]\n",
        "len(features_to_keep)"
      ],
      "execution_count": 10,
      "outputs": [
        {
          "output_type": "execute_result",
          "data": {
            "text/plain": [
              "18"
            ]
          },
          "metadata": {},
          "execution_count": 10
        }
      ]
    },
    {
      "cell_type": "markdown",
      "metadata": {
        "id": "T8rHL4o6DXxH"
      },
      "source": [
        "# Exporting Pruned features"
      ]
    },
    {
      "cell_type": "code",
      "metadata": {
        "id": "8aAfJlcqDmpt"
      },
      "source": [
        "# train_features_df_og[features_to_keep].to_csv(\"pruned_train_features.csv\", index=False)\n",
        "# val_features_df[features_to_keep].to_csv(\"pruned_val_features.csv\", index=False)"
      ],
      "execution_count": 11,
      "outputs": []
    }
  ]
}